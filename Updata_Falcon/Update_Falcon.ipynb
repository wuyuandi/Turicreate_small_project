{
 "cells": [
  {
   "cell_type": "code",
   "execution_count": 1,
   "metadata": {},
   "outputs": [
    {
     "name": "stdout",
     "output_type": "stream",
     "text": [
      "WARNING: You are using MXNet 1.4.0 which may result in breaking behavior.\n",
      "         To fix this, please install the currently recommended version:\n",
      "\n",
      "             pip uninstall -y mxnet && pip install mxnet==1.1.0\n",
      "\n",
      "         If you want to use a CUDA GPU, then change 'mxnet' to 'mxnet-cu90' (adjust 'cu90' depending on your CUDA version):\n",
      "\n"
     ]
    },
    {
     "data": {
      "text/html": [
       "<pre>Read 711 images in 5.00312 secs\tspeed: 142.111 file/sec</pre>"
      ],
      "text/plain": [
       "Read 711 images in 5.00312 secs\tspeed: 142.111 file/sec"
      ]
     },
     "metadata": {},
     "output_type": "display_data"
    },
    {
     "data": {
      "text/html": [
       "<pre>Read 1454 images in 10.0058 secs\tspeed: 148.521 file/sec</pre>"
      ],
      "text/plain": [
       "Read 1454 images in 10.0058 secs\tspeed: 148.521 file/sec"
      ]
     },
     "metadata": {},
     "output_type": "display_data"
    },
    {
     "data": {
      "text/html": [
       "<pre>Read 2168 images in 15.011 secs\tspeed: 142.651 file/sec</pre>"
      ],
      "text/plain": [
       "Read 2168 images in 15.011 secs\tspeed: 142.651 file/sec"
      ]
     },
     "metadata": {},
     "output_type": "display_data"
    },
    {
     "data": {
      "text/html": [
       "<pre>Read 2868 images in 20.0123 secs\tspeed: 139.965 file/sec</pre>"
      ],
      "text/plain": [
       "Read 2868 images in 20.0123 secs\tspeed: 139.965 file/sec"
      ]
     },
     "metadata": {},
     "output_type": "display_data"
    },
    {
     "data": {
      "text/html": [
       "<pre>Read 3520 images in 25.0155 secs\tspeed: 130.316 file/sec</pre>"
      ],
      "text/plain": [
       "Read 3520 images in 25.0155 secs\tspeed: 130.316 file/sec"
      ]
     },
     "metadata": {},
     "output_type": "display_data"
    },
    {
     "data": {
      "text/html": [
       "<pre>Read 4208 images in 39.4354 secs\tspeed: 47.712 file/sec</pre>"
      ],
      "text/plain": [
       "Read 4208 images in 39.4354 secs\tspeed: 47.712 file/sec"
      ]
     },
     "metadata": {},
     "output_type": "display_data"
    },
    {
     "data": {
      "text/html": [
       "<pre>Read 4704 images in 44.4477 secs\tspeed: 98.9563 file/sec</pre>"
      ],
      "text/plain": [
       "Read 4704 images in 44.4477 secs\tspeed: 98.9563 file/sec"
      ]
     },
     "metadata": {},
     "output_type": "display_data"
    },
    {
     "data": {
      "text/html": [
       "<pre>Read 5240 images in 49.4587 secs\tspeed: 106.963 file/sec</pre>"
      ],
      "text/plain": [
       "Read 5240 images in 49.4587 secs\tspeed: 106.963 file/sec"
      ]
     },
     "metadata": {},
     "output_type": "display_data"
    },
    {
     "data": {
      "text/html": [
       "<pre>Materializing SFrame</pre>"
      ],
      "text/plain": [
       "Materializing SFrame"
      ]
     },
     "metadata": {},
     "output_type": "display_data"
    }
   ],
   "source": [
    "import turicreate as tc\n",
    "import pandas as pd\n",
    "\n",
    "#Preparing the training data\n",
    "img_train_folder = 'train'\n",
    "data = tc.image_analysis.load_images(img_train_folder, with_path=True)\n",
    "data['label'] = data['path'].apply(lambda path: '0' if '/0' in path else '1')\n",
    "\n",
    "#save as sframe type\n",
    "data.save('train_0-1.sframe')\n",
    "\n",
    "#visualization\n",
    "data.explore()"
   ]
  },
  {
   "cell_type": "code",
   "execution_count": 2,
   "metadata": {},
   "outputs": [
    {
     "data": {
      "text/html": [
       "<pre>Materializing SFrame</pre>"
      ],
      "text/plain": [
       "Materializing SFrame"
      ]
     },
     "metadata": {},
     "output_type": "display_data"
    }
   ],
   "source": [
    "\n",
    "#Preparing the test data\n",
    "img_test_folder = 'test'\n",
    "test_data = tc.image_analysis.load_images(img_test_folder, with_path=True)\n",
    "test_data['label'] = test_data['path'].apply(lambda path:'0' if '/t0' in path else '1')\n",
    "\n",
    "#save as sframe type\n",
    "test_data.save('test_0-1.sframe')\n",
    "\n",
    "#visualization\n",
    "test_data.explore()"
   ]
  },
  {
   "cell_type": "code",
   "execution_count": 3,
   "metadata": {},
   "outputs": [
    {
     "name": "stdout",
     "output_type": "stream",
     "text": [
      "Downloading https://docs-assets.developer.apple.com/turicreate/models/resnet-50-symbol.json\n",
      "Download completed: /var/folders/9n/1wl6bbyd5d15hyw7cg0z6q380000gn/T/model_cache/resnet-50-symbol.json\n",
      "Downloading https://docs-assets.developer.apple.com/turicreate/models/resnet-50-0000.params\n",
      "Download completed: /var/folders/9n/1wl6bbyd5d15hyw7cg0z6q380000gn/T/model_cache/resnet-50-0000.params\n"
     ]
    },
    {
     "data": {
      "text/html": [
       "<pre>Analyzing and extracting image features.</pre>"
      ],
      "text/plain": [
       "Analyzing and extracting image features."
      ]
     },
     "metadata": {},
     "output_type": "display_data"
    },
    {
     "data": {
      "text/html": [
       "<pre>+------------------+--------------+------------------+</pre>"
      ],
      "text/plain": [
       "+------------------+--------------+------------------+"
      ]
     },
     "metadata": {},
     "output_type": "display_data"
    },
    {
     "data": {
      "text/html": [
       "<pre>| Images Processed | Elapsed Time | Percent Complete |</pre>"
      ],
      "text/plain": [
       "| Images Processed | Elapsed Time | Percent Complete |"
      ]
     },
     "metadata": {},
     "output_type": "display_data"
    },
    {
     "data": {
      "text/html": [
       "<pre>+------------------+--------------+------------------+</pre>"
      ],
      "text/plain": [
       "+------------------+--------------+------------------+"
      ]
     },
     "metadata": {},
     "output_type": "display_data"
    },
    {
     "data": {
      "text/html": [
       "<pre>| 64               | 48.80s       | 1%               |</pre>"
      ],
      "text/plain": [
       "| 64               | 48.80s       | 1%               |"
      ]
     },
     "metadata": {},
     "output_type": "display_data"
    },
    {
     "data": {
      "text/html": [
       "<pre>| 128              | 49.54s       | 2.25%            |</pre>"
      ],
      "text/plain": [
       "| 128              | 49.54s       | 2.25%            |"
      ]
     },
     "metadata": {},
     "output_type": "display_data"
    },
    {
     "data": {
      "text/html": [
       "<pre>| 192              | 49.78s       | 3.5%             |</pre>"
      ],
      "text/plain": [
       "| 192              | 49.78s       | 3.5%             |"
      ]
     },
     "metadata": {},
     "output_type": "display_data"
    },
    {
     "data": {
      "text/html": [
       "<pre>| 256              | 50.07s       | 4.75%            |</pre>"
      ],
      "text/plain": [
       "| 256              | 50.07s       | 4.75%            |"
      ]
     },
     "metadata": {},
     "output_type": "display_data"
    },
    {
     "data": {
      "text/html": [
       "<pre>| 320              | 1m 37s       | 6%               |</pre>"
      ],
      "text/plain": [
       "| 320              | 1m 37s       | 6%               |"
      ]
     },
     "metadata": {},
     "output_type": "display_data"
    },
    {
     "data": {
      "text/html": [
       "<pre>| 448              | 1m 39s       | 8.25%            |</pre>"
      ],
      "text/plain": [
       "| 448              | 1m 39s       | 8.25%            |"
      ]
     },
     "metadata": {},
     "output_type": "display_data"
    },
    {
     "data": {
      "text/html": [
       "<pre>| 512              | 1m 40s       | 9.5%             |</pre>"
      ],
      "text/plain": [
       "| 512              | 1m 40s       | 9.5%             |"
      ]
     },
     "metadata": {},
     "output_type": "display_data"
    },
    {
     "data": {
      "text/html": [
       "<pre>| 576              | 2m 24s       | 10.75%           |</pre>"
      ],
      "text/plain": [
       "| 576              | 2m 24s       | 10.75%           |"
      ]
     },
     "metadata": {},
     "output_type": "display_data"
    },
    {
     "data": {
      "text/html": [
       "<pre>| 640              | 2m 29s       | 12%              |</pre>"
      ],
      "text/plain": [
       "| 640              | 2m 29s       | 12%              |"
      ]
     },
     "metadata": {},
     "output_type": "display_data"
    },
    {
     "data": {
      "text/html": [
       "<pre>| 704              | 2m 31s       | 13.25%           |</pre>"
      ],
      "text/plain": [
       "| 704              | 2m 31s       | 13.25%           |"
      ]
     },
     "metadata": {},
     "output_type": "display_data"
    },
    {
     "data": {
      "text/html": [
       "<pre>| 768              | 2m 31s       | 14.25%           |</pre>"
      ],
      "text/plain": [
       "| 768              | 2m 31s       | 14.25%           |"
      ]
     },
     "metadata": {},
     "output_type": "display_data"
    },
    {
     "data": {
      "text/html": [
       "<pre>| 832              | 3m 5s        | 15.5%            |</pre>"
      ],
      "text/plain": [
       "| 832              | 3m 5s        | 15.5%            |"
      ]
     },
     "metadata": {},
     "output_type": "display_data"
    },
    {
     "data": {
      "text/html": [
       "<pre>| 896              | 3m 19s       | 16.75%           |</pre>"
      ],
      "text/plain": [
       "| 896              | 3m 19s       | 16.75%           |"
      ]
     },
     "metadata": {},
     "output_type": "display_data"
    },
    {
     "data": {
      "text/html": [
       "<pre>| 960              | 3m 23s       | 18%              |</pre>"
      ],
      "text/plain": [
       "| 960              | 3m 23s       | 18%              |"
      ]
     },
     "metadata": {},
     "output_type": "display_data"
    },
    {
     "data": {
      "text/html": [
       "<pre>| 1024             | 3m 23s       | 19.25%           |</pre>"
      ],
      "text/plain": [
       "| 1024             | 3m 23s       | 19.25%           |"
      ]
     },
     "metadata": {},
     "output_type": "display_data"
    },
    {
     "data": {
      "text/html": [
       "<pre>| 1088             | 3m 42s       | 20.25%           |</pre>"
      ],
      "text/plain": [
       "| 1088             | 3m 42s       | 20.25%           |"
      ]
     },
     "metadata": {},
     "output_type": "display_data"
    },
    {
     "data": {
      "text/html": [
       "<pre>| 1152             | 4m 5s        | 21.5%            |</pre>"
      ],
      "text/plain": [
       "| 1152             | 4m 5s        | 21.5%            |"
      ]
     },
     "metadata": {},
     "output_type": "display_data"
    },
    {
     "data": {
      "text/html": [
       "<pre>| 1216             | 4m 13s       | 22.75%           |</pre>"
      ],
      "text/plain": [
       "| 1216             | 4m 13s       | 22.75%           |"
      ]
     },
     "metadata": {},
     "output_type": "display_data"
    },
    {
     "data": {
      "text/html": [
       "<pre>| 1280             | 4m 14s       | 24%              |</pre>"
      ],
      "text/plain": [
       "| 1280             | 4m 14s       | 24%              |"
      ]
     },
     "metadata": {},
     "output_type": "display_data"
    },
    {
     "data": {
      "text/html": [
       "<pre>| 1344             | 4m 26s       | 25.25%           |</pre>"
      ],
      "text/plain": [
       "| 1344             | 4m 26s       | 25.25%           |"
      ]
     },
     "metadata": {},
     "output_type": "display_data"
    },
    {
     "data": {
      "text/html": [
       "<pre>| 1408             | 4m 47s       | 26.5%            |</pre>"
      ],
      "text/plain": [
       "| 1408             | 4m 47s       | 26.5%            |"
      ]
     },
     "metadata": {},
     "output_type": "display_data"
    },
    {
     "data": {
      "text/html": [
       "<pre>| 1472             | 5m 3s        | 27.5%            |</pre>"
      ],
      "text/plain": [
       "| 1472             | 5m 3s        | 27.5%            |"
      ]
     },
     "metadata": {},
     "output_type": "display_data"
    },
    {
     "data": {
      "text/html": [
       "<pre>| 1536             | 5m 4s        | 28.75%           |</pre>"
      ],
      "text/plain": [
       "| 1536             | 5m 4s        | 28.75%           |"
      ]
     },
     "metadata": {},
     "output_type": "display_data"
    },
    {
     "data": {
      "text/html": [
       "<pre>| 1600             | 5m 12s       | 30%              |</pre>"
      ],
      "text/plain": [
       "| 1600             | 5m 12s       | 30%              |"
      ]
     },
     "metadata": {},
     "output_type": "display_data"
    },
    {
     "data": {
      "text/html": [
       "<pre>| 1664             | 5m 29s       | 31.25%           |</pre>"
      ],
      "text/plain": [
       "| 1664             | 5m 29s       | 31.25%           |"
      ]
     },
     "metadata": {},
     "output_type": "display_data"
    },
    {
     "data": {
      "text/html": [
       "<pre>| 1728             | 5m 52s       | 32.5%            |</pre>"
      ],
      "text/plain": [
       "| 1728             | 5m 52s       | 32.5%            |"
      ]
     },
     "metadata": {},
     "output_type": "display_data"
    },
    {
     "data": {
      "text/html": [
       "<pre>| 1792             | 5m 55s       | 33.5%            |</pre>"
      ],
      "text/plain": [
       "| 1792             | 5m 55s       | 33.5%            |"
      ]
     },
     "metadata": {},
     "output_type": "display_data"
    },
    {
     "data": {
      "text/html": [
       "<pre>| 1856             | 6m 0s        | 34.75%           |</pre>"
      ],
      "text/plain": [
       "| 1856             | 6m 0s        | 34.75%           |"
      ]
     },
     "metadata": {},
     "output_type": "display_data"
    },
    {
     "data": {
      "text/html": [
       "<pre>| 1920             | 6m 9s        | 36%              |</pre>"
      ],
      "text/plain": [
       "| 1920             | 6m 9s        | 36%              |"
      ]
     },
     "metadata": {},
     "output_type": "display_data"
    },
    {
     "data": {
      "text/html": [
       "<pre>| 1984             | 6m 39s       | 37.25%           |</pre>"
      ],
      "text/plain": [
       "| 1984             | 6m 39s       | 37.25%           |"
      ]
     },
     "metadata": {},
     "output_type": "display_data"
    },
    {
     "data": {
      "text/html": [
       "<pre>| 2048             | 6m 44s       | 38.5%            |</pre>"
      ],
      "text/plain": [
       "| 2048             | 6m 44s       | 38.5%            |"
      ]
     },
     "metadata": {},
     "output_type": "display_data"
    },
    {
     "data": {
      "text/html": [
       "<pre>| 2112             | 6m 47s       | 39.75%           |</pre>"
      ],
      "text/plain": [
       "| 2112             | 6m 47s       | 39.75%           |"
      ]
     },
     "metadata": {},
     "output_type": "display_data"
    },
    {
     "data": {
      "text/html": [
       "<pre>| 2176             | 6m 51s       | 40.75%           |</pre>"
      ],
      "text/plain": [
       "| 2176             | 6m 51s       | 40.75%           |"
      ]
     },
     "metadata": {},
     "output_type": "display_data"
    },
    {
     "data": {
      "text/html": [
       "<pre>| 2240             | 7m 19s       | 42%              |</pre>"
      ],
      "text/plain": [
       "| 2240             | 7m 19s       | 42%              |"
      ]
     },
     "metadata": {},
     "output_type": "display_data"
    },
    {
     "data": {
      "text/html": [
       "<pre>| 2304             | 7m 35s       | 43.25%           |</pre>"
      ],
      "text/plain": [
       "| 2304             | 7m 35s       | 43.25%           |"
      ]
     },
     "metadata": {},
     "output_type": "display_data"
    },
    {
     "data": {
      "text/html": [
       "<pre>| 2368             | 7m 40s       | 44.5%            |</pre>"
      ],
      "text/plain": [
       "| 2368             | 7m 40s       | 44.5%            |"
      ]
     },
     "metadata": {},
     "output_type": "display_data"
    },
    {
     "data": {
      "text/html": [
       "<pre>| 2432             | 7m 42s       | 45.75%           |</pre>"
      ],
      "text/plain": [
       "| 2432             | 7m 42s       | 45.75%           |"
      ]
     },
     "metadata": {},
     "output_type": "display_data"
    },
    {
     "data": {
      "text/html": [
       "<pre>| 2496             | 7m 59s       | 46.75%           |</pre>"
      ],
      "text/plain": [
       "| 2496             | 7m 59s       | 46.75%           |"
      ]
     },
     "metadata": {},
     "output_type": "display_data"
    },
    {
     "data": {
      "text/html": [
       "<pre>| 2560             | 8m 23s       | 48%              |</pre>"
      ],
      "text/plain": [
       "| 2560             | 8m 23s       | 48%              |"
      ]
     },
     "metadata": {},
     "output_type": "display_data"
    },
    {
     "data": {
      "text/html": [
       "<pre>| 2624             | 8m 29s       | 49.25%           |</pre>"
      ],
      "text/plain": [
       "| 2624             | 8m 29s       | 49.25%           |"
      ]
     },
     "metadata": {},
     "output_type": "display_data"
    },
    {
     "data": {
      "text/html": [
       "<pre>| 2688             | 8m 32s       | 50.5%            |</pre>"
      ],
      "text/plain": [
       "| 2688             | 8m 32s       | 50.5%            |"
      ]
     },
     "metadata": {},
     "output_type": "display_data"
    },
    {
     "data": {
      "text/html": [
       "<pre>| 2752             | 8m 42s       | 51.75%           |</pre>"
      ],
      "text/plain": [
       "| 2752             | 8m 42s       | 51.75%           |"
      ]
     },
     "metadata": {},
     "output_type": "display_data"
    },
    {
     "data": {
      "text/html": [
       "<pre>| 2816             | 9m 8s        | 53%              |</pre>"
      ],
      "text/plain": [
       "| 2816             | 9m 8s        | 53%              |"
      ]
     },
     "metadata": {},
     "output_type": "display_data"
    },
    {
     "data": {
      "text/html": [
       "<pre>| 2880             | 9m 18s       | 54%              |</pre>"
      ],
      "text/plain": [
       "| 2880             | 9m 18s       | 54%              |"
      ]
     },
     "metadata": {},
     "output_type": "display_data"
    },
    {
     "data": {
      "text/html": [
       "<pre>| 2944             | 9m 22s       | 55.25%           |</pre>"
      ],
      "text/plain": [
       "| 2944             | 9m 22s       | 55.25%           |"
      ]
     },
     "metadata": {},
     "output_type": "display_data"
    },
    {
     "data": {
      "text/html": [
       "<pre>| 3008             | 9m 29s       | 56.5%            |</pre>"
      ],
      "text/plain": [
       "| 3008             | 9m 29s       | 56.5%            |"
      ]
     },
     "metadata": {},
     "output_type": "display_data"
    },
    {
     "data": {
      "text/html": [
       "<pre>| 3072             | 9m 52s       | 57.75%           |</pre>"
      ],
      "text/plain": [
       "| 3072             | 9m 52s       | 57.75%           |"
      ]
     },
     "metadata": {},
     "output_type": "display_data"
    },
    {
     "data": {
      "text/html": [
       "<pre>| 3136             | 10m 6s       | 59%              |</pre>"
      ],
      "text/plain": [
       "| 3136             | 10m 6s       | 59%              |"
      ]
     },
     "metadata": {},
     "output_type": "display_data"
    },
    {
     "data": {
      "text/html": [
       "<pre>| 3200             | 10m 14s      | 60%              |</pre>"
      ],
      "text/plain": [
       "| 3200             | 10m 14s      | 60%              |"
      ]
     },
     "metadata": {},
     "output_type": "display_data"
    },
    {
     "data": {
      "text/html": [
       "<pre>| 3264             | 10m 18s      | 61.25%           |</pre>"
      ],
      "text/plain": [
       "| 3264             | 10m 18s      | 61.25%           |"
      ]
     },
     "metadata": {},
     "output_type": "display_data"
    },
    {
     "data": {
      "text/html": [
       "<pre>| 3328             | 10m 35s      | 62.5%            |</pre>"
      ],
      "text/plain": [
       "| 3328             | 10m 35s      | 62.5%            |"
      ]
     },
     "metadata": {},
     "output_type": "display_data"
    },
    {
     "data": {
      "text/html": [
       "<pre>| 3392             | 10m 51s      | 63.75%           |</pre>"
      ],
      "text/plain": [
       "| 3392             | 10m 51s      | 63.75%           |"
      ]
     },
     "metadata": {},
     "output_type": "display_data"
    },
    {
     "data": {
      "text/html": [
       "<pre>| 3456             | 11m 4s       | 65%              |</pre>"
      ],
      "text/plain": [
       "| 3456             | 11m 4s       | 65%              |"
      ]
     },
     "metadata": {},
     "output_type": "display_data"
    },
    {
     "data": {
      "text/html": [
       "<pre>| 3520             | 11m 6s       | 66.25%           |</pre>"
      ],
      "text/plain": [
       "| 3520             | 11m 6s       | 66.25%           |"
      ]
     },
     "metadata": {},
     "output_type": "display_data"
    },
    {
     "data": {
      "text/html": [
       "<pre>| 3584             | 11m 20s      | 67.25%           |</pre>"
      ],
      "text/plain": [
       "| 3584             | 11m 20s      | 67.25%           |"
      ]
     },
     "metadata": {},
     "output_type": "display_data"
    },
    {
     "data": {
      "text/html": [
       "<pre>| 3648             | 11m 35s      | 68.5%            |</pre>"
      ],
      "text/plain": [
       "| 3648             | 11m 35s      | 68.5%            |"
      ]
     },
     "metadata": {},
     "output_type": "display_data"
    },
    {
     "data": {
      "text/html": [
       "<pre>| 3712             | 11m 53s      | 69.75%           |</pre>"
      ],
      "text/plain": [
       "| 3712             | 11m 53s      | 69.75%           |"
      ]
     },
     "metadata": {},
     "output_type": "display_data"
    },
    {
     "data": {
      "text/html": [
       "<pre>| 3776             | 11m 55s      | 71%              |</pre>"
      ],
      "text/plain": [
       "| 3776             | 11m 55s      | 71%              |"
      ]
     },
     "metadata": {},
     "output_type": "display_data"
    },
    {
     "data": {
      "text/html": [
       "<pre>| 3840             | 12m 6s       | 72.25%           |</pre>"
      ],
      "text/plain": [
       "| 3840             | 12m 6s       | 72.25%           |"
      ]
     },
     "metadata": {},
     "output_type": "display_data"
    },
    {
     "data": {
      "text/html": [
       "<pre>| 3904             | 12m 19s      | 73.25%           |</pre>"
      ],
      "text/plain": [
       "| 3904             | 12m 19s      | 73.25%           |"
      ]
     },
     "metadata": {},
     "output_type": "display_data"
    },
    {
     "data": {
      "text/html": [
       "<pre>| 3968             | 12m 40s      | 74.5%            |</pre>"
      ],
      "text/plain": [
       "| 3968             | 12m 40s      | 74.5%            |"
      ]
     },
     "metadata": {},
     "output_type": "display_data"
    },
    {
     "data": {
      "text/html": [
       "<pre>| 4032             | 12m 42s      | 75.75%           |</pre>"
      ],
      "text/plain": [
       "| 4032             | 12m 42s      | 75.75%           |"
      ]
     },
     "metadata": {},
     "output_type": "display_data"
    },
    {
     "data": {
      "text/html": [
       "<pre>| 4096             | 12m 51s      | 77%              |</pre>"
      ],
      "text/plain": [
       "| 4096             | 12m 51s      | 77%              |"
      ]
     },
     "metadata": {},
     "output_type": "display_data"
    },
    {
     "data": {
      "text/html": [
       "<pre>| 4160             | 13m 1s       | 78.25%           |</pre>"
      ],
      "text/plain": [
       "| 4160             | 13m 1s       | 78.25%           |"
      ]
     },
     "metadata": {},
     "output_type": "display_data"
    },
    {
     "data": {
      "text/html": [
       "<pre>| 4224             | 13m 27s      | 79.5%            |</pre>"
      ],
      "text/plain": [
       "| 4224             | 13m 27s      | 79.5%            |"
      ]
     },
     "metadata": {},
     "output_type": "display_data"
    },
    {
     "data": {
      "text/html": [
       "<pre>| 4288             | 13m 31s      | 80.5%            |</pre>"
      ],
      "text/plain": [
       "| 4288             | 13m 31s      | 80.5%            |"
      ]
     },
     "metadata": {},
     "output_type": "display_data"
    },
    {
     "data": {
      "text/html": [
       "<pre>| 4352             | 13m 37s      | 81.75%           |</pre>"
      ],
      "text/plain": [
       "| 4352             | 13m 37s      | 81.75%           |"
      ]
     },
     "metadata": {},
     "output_type": "display_data"
    },
    {
     "data": {
      "text/html": [
       "<pre>| 4416             | 13m 44s      | 83%              |</pre>"
      ],
      "text/plain": [
       "| 4416             | 13m 44s      | 83%              |"
      ]
     },
     "metadata": {},
     "output_type": "display_data"
    },
    {
     "data": {
      "text/html": [
       "<pre>| 4480             | 14m 13s      | 84.25%           |</pre>"
      ],
      "text/plain": [
       "| 4480             | 14m 13s      | 84.25%           |"
      ]
     },
     "metadata": {},
     "output_type": "display_data"
    },
    {
     "data": {
      "text/html": [
       "<pre>| 4544             | 14m 20s      | 85.5%            |</pre>"
      ],
      "text/plain": [
       "| 4544             | 14m 20s      | 85.5%            |"
      ]
     },
     "metadata": {},
     "output_type": "display_data"
    },
    {
     "data": {
      "text/html": [
       "<pre>| 4608             | 14m 26s      | 86.5%            |</pre>"
      ],
      "text/plain": [
       "| 4608             | 14m 26s      | 86.5%            |"
      ]
     },
     "metadata": {},
     "output_type": "display_data"
    },
    {
     "data": {
      "text/html": [
       "<pre>| 4672             | 14m 30s      | 87.75%           |</pre>"
      ],
      "text/plain": [
       "| 4672             | 14m 30s      | 87.75%           |"
      ]
     },
     "metadata": {},
     "output_type": "display_data"
    },
    {
     "data": {
      "text/html": [
       "<pre>| 4736             | 14m 55s      | 89%              |</pre>"
      ],
      "text/plain": [
       "| 4736             | 14m 55s      | 89%              |"
      ]
     },
     "metadata": {},
     "output_type": "display_data"
    },
    {
     "data": {
      "text/html": [
       "<pre>| 4800             | 15m 5s       | 90.25%           |</pre>"
      ],
      "text/plain": [
       "| 4800             | 15m 5s       | 90.25%           |"
      ]
     },
     "metadata": {},
     "output_type": "display_data"
    },
    {
     "data": {
      "text/html": [
       "<pre>| 4864             | 15m 14s      | 91.5%            |</pre>"
      ],
      "text/plain": [
       "| 4864             | 15m 14s      | 91.5%            |"
      ]
     },
     "metadata": {},
     "output_type": "display_data"
    },
    {
     "data": {
      "text/html": [
       "<pre>| 4928             | 15m 18s      | 92.75%           |</pre>"
      ],
      "text/plain": [
       "| 4928             | 15m 18s      | 92.75%           |"
      ]
     },
     "metadata": {},
     "output_type": "display_data"
    },
    {
     "data": {
      "text/html": [
       "<pre>| 4992             | 15m 35s      | 93.75%           |</pre>"
      ],
      "text/plain": [
       "| 4992             | 15m 35s      | 93.75%           |"
      ]
     },
     "metadata": {},
     "output_type": "display_data"
    },
    {
     "data": {
      "text/html": [
       "<pre>| 5056             | 15m 42s      | 95%              |</pre>"
      ],
      "text/plain": [
       "| 5056             | 15m 42s      | 95%              |"
      ]
     },
     "metadata": {},
     "output_type": "display_data"
    },
    {
     "data": {
      "text/html": [
       "<pre>| 5120             | 15m 48s      | 96.25%           |</pre>"
      ],
      "text/plain": [
       "| 5120             | 15m 48s      | 96.25%           |"
      ]
     },
     "metadata": {},
     "output_type": "display_data"
    },
    {
     "data": {
      "text/html": [
       "<pre>| 5184             | 15m 50s      | 97.5%            |</pre>"
      ],
      "text/plain": [
       "| 5184             | 15m 50s      | 97.5%            |"
      ]
     },
     "metadata": {},
     "output_type": "display_data"
    },
    {
     "data": {
      "text/html": [
       "<pre>| 5248             | 16m 2s       | 98.75%           |</pre>"
      ],
      "text/plain": [
       "| 5248             | 16m 2s       | 98.75%           |"
      ]
     },
     "metadata": {},
     "output_type": "display_data"
    },
    {
     "data": {
      "text/html": [
       "<pre>| 5261             | 16m 9s       | 100%             |</pre>"
      ],
      "text/plain": [
       "| 5261             | 16m 9s       | 100%             |"
      ]
     },
     "metadata": {},
     "output_type": "display_data"
    },
    {
     "data": {
      "text/html": [
       "<pre>+------------------+--------------+------------------+</pre>"
      ],
      "text/plain": [
       "+------------------+--------------+------------------+"
      ]
     },
     "metadata": {},
     "output_type": "display_data"
    },
    {
     "name": "stdout",
     "output_type": "stream",
     "text": [
      "PROGRESS: Creating a validation set from 5 percent of training data. This may take a while.\n",
      "          You can set ``validation_set=None`` to disable validation tracking.\n",
      "\n"
     ]
    },
    {
     "data": {
      "text/html": [
       "<pre>Logistic regression:</pre>"
      ],
      "text/plain": [
       "Logistic regression:"
      ]
     },
     "metadata": {},
     "output_type": "display_data"
    },
    {
     "data": {
      "text/html": [
       "<pre>--------------------------------------------------------</pre>"
      ],
      "text/plain": [
       "--------------------------------------------------------"
      ]
     },
     "metadata": {},
     "output_type": "display_data"
    },
    {
     "data": {
      "text/html": [
       "<pre>Number of examples          : 4979</pre>"
      ],
      "text/plain": [
       "Number of examples          : 4979"
      ]
     },
     "metadata": {},
     "output_type": "display_data"
    },
    {
     "data": {
      "text/html": [
       "<pre>Number of classes           : 2</pre>"
      ],
      "text/plain": [
       "Number of classes           : 2"
      ]
     },
     "metadata": {},
     "output_type": "display_data"
    },
    {
     "data": {
      "text/html": [
       "<pre>Number of feature columns   : 1</pre>"
      ],
      "text/plain": [
       "Number of feature columns   : 1"
      ]
     },
     "metadata": {},
     "output_type": "display_data"
    },
    {
     "data": {
      "text/html": [
       "<pre>Number of unpacked features : 2048</pre>"
      ],
      "text/plain": [
       "Number of unpacked features : 2048"
      ]
     },
     "metadata": {},
     "output_type": "display_data"
    },
    {
     "data": {
      "text/html": [
       "<pre>Number of coefficients      : 2049</pre>"
      ],
      "text/plain": [
       "Number of coefficients      : 2049"
      ]
     },
     "metadata": {},
     "output_type": "display_data"
    },
    {
     "data": {
      "text/html": [
       "<pre>Starting L-BFGS</pre>"
      ],
      "text/plain": [
       "Starting L-BFGS"
      ]
     },
     "metadata": {},
     "output_type": "display_data"
    },
    {
     "data": {
      "text/html": [
       "<pre>--------------------------------------------------------</pre>"
      ],
      "text/plain": [
       "--------------------------------------------------------"
      ]
     },
     "metadata": {},
     "output_type": "display_data"
    },
    {
     "data": {
      "text/html": [
       "<pre>+-----------+----------+-----------+--------------+-------------------+---------------------+</pre>"
      ],
      "text/plain": [
       "+-----------+----------+-----------+--------------+-------------------+---------------------+"
      ]
     },
     "metadata": {},
     "output_type": "display_data"
    },
    {
     "data": {
      "text/html": [
       "<pre>| Iteration | Passes   | Step size | Elapsed Time | Training Accuracy | Validation Accuracy |</pre>"
      ],
      "text/plain": [
       "| Iteration | Passes   | Step size | Elapsed Time | Training Accuracy | Validation Accuracy |"
      ]
     },
     "metadata": {},
     "output_type": "display_data"
    },
    {
     "data": {
      "text/html": [
       "<pre>+-----------+----------+-----------+--------------+-------------------+---------------------+</pre>"
      ],
      "text/plain": [
       "+-----------+----------+-----------+--------------+-------------------+---------------------+"
      ]
     },
     "metadata": {},
     "output_type": "display_data"
    },
    {
     "data": {
      "text/html": [
       "<pre>| 0         | 1        | NaN       | 0.341217     | 0.676843          | 0.684397            |</pre>"
      ],
      "text/plain": [
       "| 0         | 1        | NaN       | 0.341217     | 0.676843          | 0.684397            |"
      ]
     },
     "metadata": {},
     "output_type": "display_data"
    },
    {
     "data": {
      "text/html": [
       "<pre>| 1         | 7        | 0.000001  | 2.073956     | 0.676843          | 0.684397            |</pre>"
      ],
      "text/plain": [
       "| 1         | 7        | 0.000001  | 2.073956     | 0.676843          | 0.684397            |"
      ]
     },
     "metadata": {},
     "output_type": "display_data"
    },
    {
     "data": {
      "text/html": [
       "<pre>| 2         | 9        | 1.000000  | 2.837496     | 0.676843          | 0.684397            |</pre>"
      ],
      "text/plain": [
       "| 2         | 9        | 1.000000  | 2.837496     | 0.676843          | 0.684397            |"
      ]
     },
     "metadata": {},
     "output_type": "display_data"
    },
    {
     "data": {
      "text/html": [
       "<pre>| 3         | 10       | 1.000000  | 3.374762     | 0.818839          | 0.865248            |</pre>"
      ],
      "text/plain": [
       "| 3         | 10       | 1.000000  | 3.374762     | 0.818839          | 0.865248            |"
      ]
     },
     "metadata": {},
     "output_type": "display_data"
    },
    {
     "data": {
      "text/html": [
       "<pre>| 4         | 11       | 1.000000  | 3.865083     | 0.903796          | 0.918440            |</pre>"
      ],
      "text/plain": [
       "| 4         | 11       | 1.000000  | 3.865083     | 0.903796          | 0.918440            |"
      ]
     },
     "metadata": {},
     "output_type": "display_data"
    },
    {
     "data": {
      "text/html": [
       "<pre>| 5         | 12       | 1.000000  | 4.345771     | 0.689898          | 0.702128            |</pre>"
      ],
      "text/plain": [
       "| 5         | 12       | 1.000000  | 4.345771     | 0.689898          | 0.702128            |"
      ]
     },
     "metadata": {},
     "output_type": "display_data"
    },
    {
     "data": {
      "text/html": [
       "<pre>| 10        | 18       | 1.000000  | 7.126325     | 0.918257          | 0.932624            |</pre>"
      ],
      "text/plain": [
       "| 10        | 18       | 1.000000  | 7.126325     | 0.918257          | 0.932624            |"
      ]
     },
     "metadata": {},
     "output_type": "display_data"
    },
    {
     "data": {
      "text/html": [
       "<pre>| 15        | 24       | 1.000000  | 9.872915     | 0.968668          | 0.964539            |</pre>"
      ],
      "text/plain": [
       "| 15        | 24       | 1.000000  | 9.872915     | 0.968668          | 0.964539            |"
      ]
     },
     "metadata": {},
     "output_type": "display_data"
    },
    {
     "data": {
      "text/html": [
       "<pre>| 20        | 29       | 1.000000  | 12.442262    | 0.975899          | 0.968085            |</pre>"
      ],
      "text/plain": [
       "| 20        | 29       | 1.000000  | 12.442262    | 0.975899          | 0.968085            |"
      ]
     },
     "metadata": {},
     "output_type": "display_data"
    },
    {
     "data": {
      "text/html": [
       "<pre>| 25        | 35       | 1.000000  | 15.211931    | 0.981723          | 0.960993            |</pre>"
      ],
      "text/plain": [
       "| 25        | 35       | 1.000000  | 15.211931    | 0.981723          | 0.960993            |"
      ]
     },
     "metadata": {},
     "output_type": "display_data"
    },
    {
     "data": {
      "text/html": [
       "<pre>| 30        | 41       | 1.000000  | 17.967723    | 0.989556          | 0.978723            |</pre>"
      ],
      "text/plain": [
       "| 30        | 41       | 1.000000  | 17.967723    | 0.989556          | 0.978723            |"
      ]
     },
     "metadata": {},
     "output_type": "display_data"
    },
    {
     "data": {
      "text/html": [
       "<pre>| 35        | 46       | 1.000000  | 20.709417    | 0.993171          | 0.978723            |</pre>"
      ],
      "text/plain": [
       "| 35        | 46       | 1.000000  | 20.709417    | 0.993171          | 0.978723            |"
      ]
     },
     "metadata": {},
     "output_type": "display_data"
    },
    {
     "data": {
      "text/html": [
       "<pre>| 40        | 52       | 1.000000  | 23.541532    | 0.996184          | 0.971631            |</pre>"
      ],
      "text/plain": [
       "| 40        | 52       | 1.000000  | 23.541532    | 0.996184          | 0.971631            |"
      ]
     },
     "metadata": {},
     "output_type": "display_data"
    },
    {
     "data": {
      "text/html": [
       "<pre>| 45        | 58       | 1.000000  | 26.296935    | 0.995782          | 0.971631            |</pre>"
      ],
      "text/plain": [
       "| 45        | 58       | 1.000000  | 26.296935    | 0.995782          | 0.971631            |"
      ]
     },
     "metadata": {},
     "output_type": "display_data"
    },
    {
     "data": {
      "text/html": [
       "<pre>| 50        | 64       | 1.000000  | 29.301830    | 0.998192          | 0.971631            |</pre>"
      ],
      "text/plain": [
       "| 50        | 64       | 1.000000  | 29.301830    | 0.998192          | 0.971631            |"
      ]
     },
     "metadata": {},
     "output_type": "display_data"
    },
    {
     "data": {
      "text/html": [
       "<pre>+-----------+----------+-----------+--------------+-------------------+---------------------+</pre>"
      ],
      "text/plain": [
       "+-----------+----------+-----------+--------------+-------------------+---------------------+"
      ]
     },
     "metadata": {},
     "output_type": "display_data"
    },
    {
     "data": {
      "text/html": [
       "<pre>Completed (Iteration limit reached).</pre>"
      ],
      "text/plain": [
       "Completed (Iteration limit reached)."
      ]
     },
     "metadata": {},
     "output_type": "display_data"
    },
    {
     "data": {
      "text/html": [
       "<pre>This model may not be optimal. To improve it, consider increasing `max_iterations`.</pre>"
      ],
      "text/plain": [
       "This model may not be optimal. To improve it, consider increasing `max_iterations`."
      ]
     },
     "metadata": {},
     "output_type": "display_data"
    },
    {
     "data": {
      "text/html": [
       "<pre>Analyzing and extracting image features.</pre>"
      ],
      "text/plain": [
       "Analyzing and extracting image features."
      ]
     },
     "metadata": {},
     "output_type": "display_data"
    },
    {
     "data": {
      "text/html": [
       "<pre>+------------------+--------------+------------------+</pre>"
      ],
      "text/plain": [
       "+------------------+--------------+------------------+"
      ]
     },
     "metadata": {},
     "output_type": "display_data"
    },
    {
     "data": {
      "text/html": [
       "<pre>| Images Processed | Elapsed Time | Percent Complete |</pre>"
      ],
      "text/plain": [
       "| Images Processed | Elapsed Time | Percent Complete |"
      ]
     },
     "metadata": {},
     "output_type": "display_data"
    },
    {
     "data": {
      "text/html": [
       "<pre>+------------------+--------------+------------------+</pre>"
      ],
      "text/plain": [
       "+------------------+--------------+------------------+"
      ]
     },
     "metadata": {},
     "output_type": "display_data"
    },
    {
     "data": {
      "text/html": [
       "<pre>| 64               | 46.15s       | 10%              |</pre>"
      ],
      "text/plain": [
       "| 64               | 46.15s       | 10%              |"
      ]
     },
     "metadata": {},
     "output_type": "display_data"
    },
    {
     "data": {
      "text/html": [
       "<pre>| 128              | 47.06s       | 20%              |</pre>"
      ],
      "text/plain": [
       "| 128              | 47.06s       | 20%              |"
      ]
     },
     "metadata": {},
     "output_type": "display_data"
    },
    {
     "data": {
      "text/html": [
       "<pre>| 192              | 49.59s       | 30%              |</pre>"
      ],
      "text/plain": [
       "| 192              | 49.59s       | 30%              |"
      ]
     },
     "metadata": {},
     "output_type": "display_data"
    },
    {
     "data": {
      "text/html": [
       "<pre>| 256              | 49.89s       | 40%              |</pre>"
      ],
      "text/plain": [
       "| 256              | 49.89s       | 40%              |"
      ]
     },
     "metadata": {},
     "output_type": "display_data"
    },
    {
     "data": {
      "text/html": [
       "<pre>| 320              | 1m 33s       | 50%              |</pre>"
      ],
      "text/plain": [
       "| 320              | 1m 33s       | 50%              |"
      ]
     },
     "metadata": {},
     "output_type": "display_data"
    },
    {
     "data": {
      "text/html": [
       "<pre>| 448              | 1m 38s       | 70%              |</pre>"
      ],
      "text/plain": [
       "| 448              | 1m 38s       | 70%              |"
      ]
     },
     "metadata": {},
     "output_type": "display_data"
    },
    {
     "data": {
      "text/html": [
       "<pre>| 512              | 1m 39s       | 80%              |</pre>"
      ],
      "text/plain": [
       "| 512              | 1m 39s       | 80%              |"
      ]
     },
     "metadata": {},
     "output_type": "display_data"
    },
    {
     "data": {
      "text/html": [
       "<pre>| 576              | 1m 55s       | 90%              |</pre>"
      ],
      "text/plain": [
       "| 576              | 1m 55s       | 90%              |"
      ]
     },
     "metadata": {},
     "output_type": "display_data"
    },
    {
     "data": {
      "text/html": [
       "<pre>| 612              | 1m 57s       | 100%             |</pre>"
      ],
      "text/plain": [
       "| 612              | 1m 57s       | 100%             |"
      ]
     },
     "metadata": {},
     "output_type": "display_data"
    },
    {
     "data": {
      "text/html": [
       "<pre>+------------------+--------------+------------------+</pre>"
      ],
      "text/plain": [
       "+------------------+--------------+------------------+"
      ]
     },
     "metadata": {},
     "output_type": "display_data"
    },
    {
     "name": "stdout",
     "output_type": "stream",
     "text": [
      "----------Accuracy-----------\n",
      "0.978758169935\n",
      "--------||check wrong prediction||----------\n"
     ]
    },
    {
     "data": {
      "text/html": [
       "<div style=\"max-height:1000px;max-width:1500px;overflow:auto;\"><table frame=\"box\" rules=\"cols\">\n",
       "    <tr>\n",
       "        <th style=\"padding-left: 1em; padding-right: 1em; text-align: center\">path</th>\n",
       "        <th style=\"padding-left: 1em; padding-right: 1em; text-align: center\">image</th>\n",
       "        <th style=\"padding-left: 1em; padding-right: 1em; text-align: center\">label</th>\n",
       "    </tr>\n",
       "    <tr>\n",
       "        <td style=\"padding-left: 1em; padding-right: 1em; text-align: center; vertical-align: top\">test/t0/2013-07-25<br>20-04-03 M 01_01.JPG ...</td>\n",
       "        <td style=\"padding-left: 1em; padding-right: 1em; text-align: center; vertical-align: top\">Height: 1536 Width: 2048</td>\n",
       "        <td style=\"padding-left: 1em; padding-right: 1em; text-align: center; vertical-align: top\">0</td>\n",
       "    </tr>\n",
       "    <tr>\n",
       "        <td style=\"padding-left: 1em; padding-right: 1em; text-align: center; vertical-align: top\">test/t0/2013-07-25<br>20-17-28 M 01_01.JPG ...</td>\n",
       "        <td style=\"padding-left: 1em; padding-right: 1em; text-align: center; vertical-align: top\">Height: 1536 Width: 2048</td>\n",
       "        <td style=\"padding-left: 1em; padding-right: 1em; text-align: center; vertical-align: top\">0</td>\n",
       "    </tr>\n",
       "    <tr>\n",
       "        <td style=\"padding-left: 1em; padding-right: 1em; text-align: center; vertical-align: top\">test/t0/2013-07-25<br>20-17-48 M 01_01.JPG ...</td>\n",
       "        <td style=\"padding-left: 1em; padding-right: 1em; text-align: center; vertical-align: top\">Height: 1536 Width: 2048</td>\n",
       "        <td style=\"padding-left: 1em; padding-right: 1em; text-align: center; vertical-align: top\">0</td>\n",
       "    </tr>\n",
       "    <tr>\n",
       "        <td style=\"padding-left: 1em; padding-right: 1em; text-align: center; vertical-align: top\">test/t0/2013-07-25<br>20-17-59 M 01_01.JPG ...</td>\n",
       "        <td style=\"padding-left: 1em; padding-right: 1em; text-align: center; vertical-align: top\">Height: 1536 Width: 2048</td>\n",
       "        <td style=\"padding-left: 1em; padding-right: 1em; text-align: center; vertical-align: top\">0</td>\n",
       "    </tr>\n",
       "    <tr>\n",
       "        <td style=\"padding-left: 1em; padding-right: 1em; text-align: center; vertical-align: top\">test/t0/2013-07-26<br>16-22-09 M 01_01.JPG ...</td>\n",
       "        <td style=\"padding-left: 1em; padding-right: 1em; text-align: center; vertical-align: top\">Height: 1536 Width: 2048</td>\n",
       "        <td style=\"padding-left: 1em; padding-right: 1em; text-align: center; vertical-align: top\">0</td>\n",
       "    </tr>\n",
       "    <tr>\n",
       "        <td style=\"padding-left: 1em; padding-right: 1em; text-align: center; vertical-align: top\">test/t0/2013-07-26<br>16-22-44 M 01_01.JPG ...</td>\n",
       "        <td style=\"padding-left: 1em; padding-right: 1em; text-align: center; vertical-align: top\">Height: 1536 Width: 2048</td>\n",
       "        <td style=\"padding-left: 1em; padding-right: 1em; text-align: center; vertical-align: top\">0</td>\n",
       "    </tr>\n",
       "    <tr>\n",
       "        <td style=\"padding-left: 1em; padding-right: 1em; text-align: center; vertical-align: top\">test/t0/2013-07-26<br>16-22-53 M 01_01.JPG ...</td>\n",
       "        <td style=\"padding-left: 1em; padding-right: 1em; text-align: center; vertical-align: top\">Height: 1536 Width: 2048</td>\n",
       "        <td style=\"padding-left: 1em; padding-right: 1em; text-align: center; vertical-align: top\">0</td>\n",
       "    </tr>\n",
       "    <tr>\n",
       "        <td style=\"padding-left: 1em; padding-right: 1em; text-align: center; vertical-align: top\">test/t0/2013-07-26<br>16-27-36 M 01_01.JPG ...</td>\n",
       "        <td style=\"padding-left: 1em; padding-right: 1em; text-align: center; vertical-align: top\">Height: 1536 Width: 2048</td>\n",
       "        <td style=\"padding-left: 1em; padding-right: 1em; text-align: center; vertical-align: top\">0</td>\n",
       "    </tr>\n",
       "    <tr>\n",
       "        <td style=\"padding-left: 1em; padding-right: 1em; text-align: center; vertical-align: top\">test/t1/2013-07-27<br>11-06-04 M 01_01.JPG ...</td>\n",
       "        <td style=\"padding-left: 1em; padding-right: 1em; text-align: center; vertical-align: top\">Height: 1536 Width: 2048</td>\n",
       "        <td style=\"padding-left: 1em; padding-right: 1em; text-align: center; vertical-align: top\">1</td>\n",
       "    </tr>\n",
       "    <tr>\n",
       "        <td style=\"padding-left: 1em; padding-right: 1em; text-align: center; vertical-align: top\">test/t1/2013-07-27<br>11-26-00 M 01_01.JPG ...</td>\n",
       "        <td style=\"padding-left: 1em; padding-right: 1em; text-align: center; vertical-align: top\">Height: 1536 Width: 2048</td>\n",
       "        <td style=\"padding-left: 1em; padding-right: 1em; text-align: center; vertical-align: top\">1</td>\n",
       "    </tr>\n",
       "</table>\n",
       "[13 rows x 3 columns]<br/>Note: Only the head of the SFrame is printed.<br/>You can use print_rows(num_rows=m, num_columns=n) to print more rows and columns.\n",
       "</div>"
      ],
      "text/plain": [
       "Columns:\n",
       "\tpath\tstr\n",
       "\timage\tImage\n",
       "\tlabel\tstr\n",
       "\n",
       "Rows: 13\n",
       "\n",
       "Data:\n",
       "+-------------------------------+--------------------------+-------+\n",
       "|              path             |          image           | label |\n",
       "+-------------------------------+--------------------------+-------+\n",
       "| test/t0/2013-07-25 20-04-0... | Height: 1536 Width: 2048 |   0   |\n",
       "| test/t0/2013-07-25 20-17-2... | Height: 1536 Width: 2048 |   0   |\n",
       "| test/t0/2013-07-25 20-17-4... | Height: 1536 Width: 2048 |   0   |\n",
       "| test/t0/2013-07-25 20-17-5... | Height: 1536 Width: 2048 |   0   |\n",
       "| test/t0/2013-07-26 16-22-0... | Height: 1536 Width: 2048 |   0   |\n",
       "| test/t0/2013-07-26 16-22-4... | Height: 1536 Width: 2048 |   0   |\n",
       "| test/t0/2013-07-26 16-22-5... | Height: 1536 Width: 2048 |   0   |\n",
       "| test/t0/2013-07-26 16-27-3... | Height: 1536 Width: 2048 |   0   |\n",
       "| test/t1/2013-07-27 11-06-0... | Height: 1536 Width: 2048 |   1   |\n",
       "| test/t1/2013-07-27 11-26-0... | Height: 1536 Width: 2048 |   1   |\n",
       "+-------------------------------+--------------------------+-------+\n",
       "[13 rows x 3 columns]\n",
       "Note: Only the head of the SFrame is printed.\n",
       "You can use print_rows(num_rows=m, num_columns=n) to print more rows and columns."
      ]
     },
     "execution_count": 3,
     "metadata": {},
     "output_type": "execute_result"
    }
   ],
   "source": [
    "model = tc.image_classifier.create(data, target='label',max_iterations=50)\n",
    "predictions = model.predict(test_data)\n",
    "metrics = model.evaluate(test_data)\n",
    "print(\"----------Accuracy-----------\")\n",
    "print(metrics['accuracy'])\n",
    "\n",
    "#save the model\n",
    "model.save('Falcon_model.model')\n",
    "\n",
    "\n",
    "print('--------||check wrong prediction||----------')\n",
    "test_data[test_data['label']!=predictions]"
   ]
  },
  {
   "cell_type": "code",
   "execution_count": 4,
   "metadata": {},
   "outputs": [
    {
     "name": "stdout",
     "output_type": "stream",
     "text": [
      "+-------------------------------+--------------------------+-------+------------+\n",
      "|              path             |          image           | label | prediction |\n",
      "+-------------------------------+--------------------------+-------+------------+\n",
      "| test/t0/2013-07-24 22-30-1... | Height: 1536 Width: 2048 |   0   |     0      |\n",
      "| test/t0/2013-07-24 22-30-5... | Height: 1536 Width: 2048 |   0   |     0      |\n",
      "| test/t0/2013-07-24 22-30-5... | Height: 1536 Width: 2048 |   0   |     0      |\n",
      "| test/t0/2013-07-24 22-31-0... | Height: 1536 Width: 2048 |   0   |     0      |\n",
      "| test/t0/2013-07-24 22-31-0... | Height: 1536 Width: 2048 |   0   |     0      |\n",
      "| test/t0/2013-07-24 22-31-0... | Height: 1536 Width: 2048 |   0   |     0      |\n",
      "| test/t0/2013-07-24 22-31-3... | Height: 1536 Width: 2048 |   0   |     0      |\n",
      "| test/t0/2013-07-24 22-31-4... | Height: 1536 Width: 2048 |   0   |     0      |\n",
      "| test/t0/2013-07-24 22-31-4... | Height: 1536 Width: 2048 |   0   |     0      |\n",
      "| test/t0/2013-07-24 22-31-5... | Height: 1536 Width: 2048 |   0   |     0      |\n",
      "+-------------------------------+--------------------------+-------+------------+\n",
      "[612 rows x 4 columns]\n",
      "Note: Only the head of the SFrame is printed.\n",
      "You can use print_rows(num_rows=m, num_columns=n) to print more rows and columns.\n"
     ]
    }
   ],
   "source": [
    "from turicreate import SFrame\n",
    "test_data['prediction'] = predictions\n",
    "result = test_data \n",
    "#print(predictions)\n",
    "print(result)\n",
    "result.save('result.csv',format='csv')"
   ]
  }
 ],
 "metadata": {
  "kernelspec": {
   "display_name": "Python 2",
   "language": "python",
   "name": "python2"
  },
  "language_info": {
   "codemirror_mode": {
    "name": "ipython",
    "version": 2
   },
   "file_extension": ".py",
   "mimetype": "text/x-python",
   "name": "python",
   "nbconvert_exporter": "python",
   "pygments_lexer": "ipython2",
   "version": "2.7.15"
  }
 },
 "nbformat": 4,
 "nbformat_minor": 2
}
