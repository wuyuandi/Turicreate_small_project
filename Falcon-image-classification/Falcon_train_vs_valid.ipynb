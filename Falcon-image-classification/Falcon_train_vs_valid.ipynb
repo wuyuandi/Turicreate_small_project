{
 "cells": [
  {
   "cell_type": "code",
   "execution_count": 2,
   "metadata": {},
   "outputs": [
    {
     "name": "stdout",
     "output_type": "stream",
     "text": [
      "WARNING: You are using MXNet 1.4.0 which may result in breaking behavior.\n",
      "         To fix this, please install the currently recommended version:\n",
      "\n",
      "             pip uninstall -y mxnet && pip install mxnet==1.1.0\n",
      "\n",
      "         If you want to use a CUDA GPU, then change 'mxnet' to 'mxnet-cu90' (adjust 'cu90' depending on your CUDA version):\n",
      "\n"
     ]
    },
    {
     "data": {
      "text/html": [
       "<pre>Read 779 images in 5.00501 secs\tspeed: 155.644 file/sec</pre>"
      ],
      "text/plain": [
       "Read 779 images in 5.00501 secs\tspeed: 155.644 file/sec"
      ]
     },
     "metadata": {},
     "output_type": "display_data"
    },
    {
     "data": {
      "text/html": [
       "<pre>Read 1496 images in 10.0257 secs\tspeed: 142.808 file/sec</pre>"
      ],
      "text/plain": [
       "Read 1496 images in 10.0257 secs\tspeed: 142.808 file/sec"
      ]
     },
     "metadata": {},
     "output_type": "display_data"
    },
    {
     "data": {
      "text/html": [
       "<pre>Read 2282 images in 15.0282 secs\tspeed: 157.121 file/sec</pre>"
      ],
      "text/plain": [
       "Read 2282 images in 15.0282 secs\tspeed: 157.121 file/sec"
      ]
     },
     "metadata": {},
     "output_type": "display_data"
    },
    {
     "data": {
      "text/html": [
       "<pre>Materializing SFrame</pre>"
      ],
      "text/plain": [
       "Materializing SFrame"
      ]
     },
     "metadata": {},
     "output_type": "display_data"
    }
   ],
   "source": [
    "import turicreate as tc\n",
    "import pandas as pd\n",
    "\n",
    "#Preparing the training data\n",
    "img_train_folder = 'train'\n",
    "data = tc.image_analysis.load_images(img_train_folder, with_path=True)\n",
    "data['label'] = data['path'].apply(lambda path: '0' if '/0' in path else '1')\n",
    "\n",
    "#save as sframe type\n",
    "data.save('0-1.sframe')\n",
    "\n",
    "#visualization\n",
    "data.explore()"
   ]
  },
  {
   "cell_type": "code",
   "execution_count": 2,
   "metadata": {},
   "outputs": [
    {
     "name": "stdout",
     "output_type": "stream",
     "text": [
      "WARNING: You are using MXNet 1.4.0 which may result in breaking behavior.\n",
      "         To fix this, please install the currently recommended version:\n",
      "\n",
      "             pip uninstall -y mxnet && pip install mxnet==1.1.0\n",
      "\n",
      "         If you want to use a CUDA GPU, then change 'mxnet' to 'mxnet-cu90' (adjust 'cu90' depending on your CUDA version):\n",
      "\n"
     ]
    },
    {
     "data": {
      "text/html": [
       "<pre>Materializing SFrame</pre>"
      ],
      "text/plain": [
       "Materializing SFrame"
      ]
     },
     "metadata": {},
     "output_type": "display_data"
    }
   ],
   "source": [
    "import turicreate as tc\n",
    "import pandas as pd\n",
    "#Preparing the test data\n",
    "img_test_folder = 'test'\n",
    "test_data = tc.image_analysis.load_images(img_test_folder, with_path=True)\n",
    "test_data['label'] = test_data['path'].apply(lambda path:'0' if '/t0' in path else '1')\n",
    "\n",
    "#save as sframe type\n",
    "test_data.save('test_0-1.sframe')\n",
    "\n",
    "#visualization\n",
    "test_data.explore()"
   ]
  },
  {
   "cell_type": "code",
   "execution_count": 3,
   "metadata": {},
   "outputs": [
    {
     "data": {
      "text/html": [
       "<pre>Read 713 images in 5.00546 secs\tspeed: 142.444 file/sec</pre>"
      ],
      "text/plain": [
       "Read 713 images in 5.00546 secs\tspeed: 142.444 file/sec"
      ]
     },
     "metadata": {},
     "output_type": "display_data"
    },
    {
     "data": {
      "text/html": [
       "<pre>Read 1344 images in 10.0272 secs\tspeed: 125.653 file/sec</pre>"
      ],
      "text/plain": [
       "Read 1344 images in 10.0272 secs\tspeed: 125.653 file/sec"
      ]
     },
     "metadata": {},
     "output_type": "display_data"
    },
    {
     "data": {
      "text/html": [
       "<pre>Materializing SFrame</pre>"
      ],
      "text/plain": [
       "Materializing SFrame"
      ]
     },
     "metadata": {},
     "output_type": "display_data"
    }
   ],
   "source": [
    "#Preparing the test data\n",
    "#Using the valid data to test\n",
    "import turicreate as tc\n",
    "import pandas as pd\n",
    "img_test_folder = 'valid'\n",
    "test_data = tc.image_analysis.load_images(img_test_folder, with_path=True)\n",
    "test_data['label'] = test_data['path'].apply(lambda path:'0' if '/v0' in path else '1')\n",
    "\n",
    "#save as sframe type\n",
    "test_data.save('valid_0-1.sframe')\n",
    "\n",
    "#visualization\n",
    "test_data.explore()"
   ]
  },
  {
   "cell_type": "code",
   "execution_count": 4,
   "metadata": {},
   "outputs": [
    {
     "name": "stdout",
     "output_type": "stream",
     "text": [
      "loading...111\n",
      "loading succe...\n"
     ]
    },
    {
     "data": {
      "text/html": [
       "<pre>Analyzing and extracting image features.</pre>"
      ],
      "text/plain": [
       "Analyzing and extracting image features."
      ]
     },
     "metadata": {},
     "output_type": "display_data"
    },
    {
     "data": {
      "text/html": [
       "<pre>+------------------+--------------+------------------+</pre>"
      ],
      "text/plain": [
       "+------------------+--------------+------------------+"
      ]
     },
     "metadata": {},
     "output_type": "display_data"
    },
    {
     "data": {
      "text/html": [
       "<pre>| Images Processed | Elapsed Time | Percent Complete |</pre>"
      ],
      "text/plain": [
       "| Images Processed | Elapsed Time | Percent Complete |"
      ]
     },
     "metadata": {},
     "output_type": "display_data"
    },
    {
     "data": {
      "text/html": [
       "<pre>+------------------+--------------+------------------+</pre>"
      ],
      "text/plain": [
       "+------------------+--------------+------------------+"
      ]
     },
     "metadata": {},
     "output_type": "display_data"
    },
    {
     "data": {
      "text/html": [
       "<pre>| 64               | 51.06s       | 3%               |</pre>"
      ],
      "text/plain": [
       "| 64               | 51.06s       | 3%               |"
      ]
     },
     "metadata": {},
     "output_type": "display_data"
    },
    {
     "data": {
      "text/html": [
       "<pre>| 128              | 54.42s       | 6.25%            |</pre>"
      ],
      "text/plain": [
       "| 128              | 54.42s       | 6.25%            |"
      ]
     },
     "metadata": {},
     "output_type": "display_data"
    },
    {
     "data": {
      "text/html": [
       "<pre>| 192              | 55.15s       | 9.5%             |</pre>"
      ],
      "text/plain": [
       "| 192              | 55.15s       | 9.5%             |"
      ]
     },
     "metadata": {},
     "output_type": "display_data"
    },
    {
     "data": {
      "text/html": [
       "<pre>| 256              | 59.42s       | 12.75%           |</pre>"
      ],
      "text/plain": [
       "| 256              | 59.42s       | 12.75%           |"
      ]
     },
     "metadata": {},
     "output_type": "display_data"
    },
    {
     "data": {
      "text/html": [
       "<pre>| 320              | 1m 37s       | 16%              |</pre>"
      ],
      "text/plain": [
       "| 320              | 1m 37s       | 16%              |"
      ]
     },
     "metadata": {},
     "output_type": "display_data"
    },
    {
     "data": {
      "text/html": [
       "<pre>| 448              | 1m 52s       | 22.5%            |</pre>"
      ],
      "text/plain": [
       "| 448              | 1m 52s       | 22.5%            |"
      ]
     },
     "metadata": {},
     "output_type": "display_data"
    },
    {
     "data": {
      "text/html": [
       "<pre>| 512              | 1m 53s       | 25.75%           |</pre>"
      ],
      "text/plain": [
       "| 512              | 1m 53s       | 25.75%           |"
      ]
     },
     "metadata": {},
     "output_type": "display_data"
    },
    {
     "data": {
      "text/html": [
       "<pre>| 576              | 2m 11s       | 29%              |</pre>"
      ],
      "text/plain": [
       "| 576              | 2m 11s       | 29%              |"
      ]
     },
     "metadata": {},
     "output_type": "display_data"
    },
    {
     "data": {
      "text/html": [
       "<pre>| 640              | 2m 42s       | 32.25%           |</pre>"
      ],
      "text/plain": [
       "| 640              | 2m 42s       | 32.25%           |"
      ]
     },
     "metadata": {},
     "output_type": "display_data"
    },
    {
     "data": {
      "text/html": [
       "<pre>| 704              | 2m 46s       | 35.25%           |</pre>"
      ],
      "text/plain": [
       "| 704              | 2m 46s       | 35.25%           |"
      ]
     },
     "metadata": {},
     "output_type": "display_data"
    },
    {
     "data": {
      "text/html": [
       "<pre>| 768              | 2m 47s       | 38.5%            |</pre>"
      ],
      "text/plain": [
       "| 768              | 2m 47s       | 38.5%            |"
      ]
     },
     "metadata": {},
     "output_type": "display_data"
    },
    {
     "data": {
      "text/html": [
       "<pre>| 832              | 2m 52s       | 41.75%           |</pre>"
      ],
      "text/plain": [
       "| 832              | 2m 52s       | 41.75%           |"
      ]
     },
     "metadata": {},
     "output_type": "display_data"
    },
    {
     "data": {
      "text/html": [
       "<pre>| 896              | 3m 29s       | 45%              |</pre>"
      ],
      "text/plain": [
       "| 896              | 3m 29s       | 45%              |"
      ]
     },
     "metadata": {},
     "output_type": "display_data"
    },
    {
     "data": {
      "text/html": [
       "<pre>| 960              | 3m 36s       | 48.25%           |</pre>"
      ],
      "text/plain": [
       "| 960              | 3m 36s       | 48.25%           |"
      ]
     },
     "metadata": {},
     "output_type": "display_data"
    },
    {
     "data": {
      "text/html": [
       "<pre>| 1024             | 3m 38s       | 51.5%            |</pre>"
      ],
      "text/plain": [
       "| 1024             | 3m 38s       | 51.5%            |"
      ]
     },
     "metadata": {},
     "output_type": "display_data"
    },
    {
     "data": {
      "text/html": [
       "<pre>| 1088             | 3m 40s       | 54.75%           |</pre>"
      ],
      "text/plain": [
       "| 1088             | 3m 40s       | 54.75%           |"
      ]
     },
     "metadata": {},
     "output_type": "display_data"
    },
    {
     "data": {
      "text/html": [
       "<pre>| 1152             | 4m 8s        | 58%              |</pre>"
      ],
      "text/plain": [
       "| 1152             | 4m 8s        | 58%              |"
      ]
     },
     "metadata": {},
     "output_type": "display_data"
    },
    {
     "data": {
      "text/html": [
       "<pre>| 1216             | 4m 30s       | 61.25%           |</pre>"
      ],
      "text/plain": [
       "| 1216             | 4m 30s       | 61.25%           |"
      ]
     },
     "metadata": {},
     "output_type": "display_data"
    },
    {
     "data": {
      "text/html": [
       "<pre>| 1280             | 4m 33s       | 64.5%            |</pre>"
      ],
      "text/plain": [
       "| 1280             | 4m 33s       | 64.5%            |"
      ]
     },
     "metadata": {},
     "output_type": "display_data"
    },
    {
     "data": {
      "text/html": [
       "<pre>| 1344             | 4m 39s       | 67.5%            |</pre>"
      ],
      "text/plain": [
       "| 1344             | 4m 39s       | 67.5%            |"
      ]
     },
     "metadata": {},
     "output_type": "display_data"
    },
    {
     "data": {
      "text/html": [
       "<pre>| 1408             | 4m 48s       | 70.75%           |</pre>"
      ],
      "text/plain": [
       "| 1408             | 4m 48s       | 70.75%           |"
      ]
     },
     "metadata": {},
     "output_type": "display_data"
    },
    {
     "data": {
      "text/html": [
       "<pre>| 1472             | 5m 15s       | 74%              |</pre>"
      ],
      "text/plain": [
       "| 1472             | 5m 15s       | 74%              |"
      ]
     },
     "metadata": {},
     "output_type": "display_data"
    },
    {
     "data": {
      "text/html": [
       "<pre>| 1536             | 5m 22s       | 77.25%           |</pre>"
      ],
      "text/plain": [
       "| 1536             | 5m 22s       | 77.25%           |"
      ]
     },
     "metadata": {},
     "output_type": "display_data"
    },
    {
     "data": {
      "text/html": [
       "<pre>| 1600             | 5m 33s       | 80.5%            |</pre>"
      ],
      "text/plain": [
       "| 1600             | 5m 33s       | 80.5%            |"
      ]
     },
     "metadata": {},
     "output_type": "display_data"
    },
    {
     "data": {
      "text/html": [
       "<pre>| 1664             | 5m 33s       | 83.75%           |</pre>"
      ],
      "text/plain": [
       "| 1664             | 5m 33s       | 83.75%           |"
      ]
     },
     "metadata": {},
     "output_type": "display_data"
    },
    {
     "data": {
      "text/html": [
       "<pre>| 1728             | 5m 52s       | 87%              |</pre>"
      ],
      "text/plain": [
       "| 1728             | 5m 52s       | 87%              |"
      ]
     },
     "metadata": {},
     "output_type": "display_data"
    },
    {
     "data": {
      "text/html": [
       "<pre>| 1792             | 5m 58s       | 90.25%           |</pre>"
      ],
      "text/plain": [
       "| 1792             | 5m 58s       | 90.25%           |"
      ]
     },
     "metadata": {},
     "output_type": "display_data"
    },
    {
     "data": {
      "text/html": [
       "<pre>| 1856             | 6m 1s        | 93.5%            |</pre>"
      ],
      "text/plain": [
       "| 1856             | 6m 1s        | 93.5%            |"
      ]
     },
     "metadata": {},
     "output_type": "display_data"
    },
    {
     "data": {
      "text/html": [
       "<pre>| 1920             | 6m 11s       | 96.75%           |</pre>"
      ],
      "text/plain": [
       "| 1920             | 6m 11s       | 96.75%           |"
      ]
     },
     "metadata": {},
     "output_type": "display_data"
    },
    {
     "data": {
      "text/html": [
       "<pre>| 1934             | 6m 20s       | 100%             |</pre>"
      ],
      "text/plain": [
       "| 1934             | 6m 20s       | 100%             |"
      ]
     },
     "metadata": {},
     "output_type": "display_data"
    },
    {
     "data": {
      "text/html": [
       "<pre>+------------------+--------------+------------------+</pre>"
      ],
      "text/plain": [
       "+------------------+--------------+------------------+"
      ]
     },
     "metadata": {},
     "output_type": "display_data"
    },
    {
     "name": "stdout",
     "output_type": "stream",
     "text": [
      "0.857290589452\n",
      "||check wrong prediction||\n"
     ]
    },
    {
     "data": {
      "text/html": [
       "<div style=\"max-height:1000px;max-width:1500px;overflow:auto;\"><table frame=\"box\" rules=\"cols\">\n",
       "    <tr>\n",
       "        <th style=\"padding-left: 1em; padding-right: 1em; text-align: center\">path</th>\n",
       "        <th style=\"padding-left: 1em; padding-right: 1em; text-align: center\">image</th>\n",
       "        <th style=\"padding-left: 1em; padding-right: 1em; text-align: center\">label</th>\n",
       "    </tr>\n",
       "    <tr>\n",
       "        <td style=\"padding-left: 1em; padding-right: 1em; text-align: center; vertical-align: top\">valid/v0/2013-07-18<br>12-45-52 M 01_01.JPG ...</td>\n",
       "        <td style=\"padding-left: 1em; padding-right: 1em; text-align: center; vertical-align: top\">Height: 1536 Width: 2048</td>\n",
       "        <td style=\"padding-left: 1em; padding-right: 1em; text-align: center; vertical-align: top\">0</td>\n",
       "    </tr>\n",
       "    <tr>\n",
       "        <td style=\"padding-left: 1em; padding-right: 1em; text-align: center; vertical-align: top\">valid/v0/2013-07-18<br>18-41-30 M 01_01.JPG ...</td>\n",
       "        <td style=\"padding-left: 1em; padding-right: 1em; text-align: center; vertical-align: top\">Height: 1536 Width: 2048</td>\n",
       "        <td style=\"padding-left: 1em; padding-right: 1em; text-align: center; vertical-align: top\">0</td>\n",
       "    </tr>\n",
       "    <tr>\n",
       "        <td style=\"padding-left: 1em; padding-right: 1em; text-align: center; vertical-align: top\">valid/v0/2013-07-19<br>13-13-34 M 01_01.JPG ...</td>\n",
       "        <td style=\"padding-left: 1em; padding-right: 1em; text-align: center; vertical-align: top\">Height: 1536 Width: 2048</td>\n",
       "        <td style=\"padding-left: 1em; padding-right: 1em; text-align: center; vertical-align: top\">0</td>\n",
       "    </tr>\n",
       "    <tr>\n",
       "        <td style=\"padding-left: 1em; padding-right: 1em; text-align: center; vertical-align: top\">valid/v0/2013-07-19<br>13-15-00 T.JPG ...</td>\n",
       "        <td style=\"padding-left: 1em; padding-right: 1em; text-align: center; vertical-align: top\">Height: 1536 Width: 2048</td>\n",
       "        <td style=\"padding-left: 1em; padding-right: 1em; text-align: center; vertical-align: top\">0</td>\n",
       "    </tr>\n",
       "    <tr>\n",
       "        <td style=\"padding-left: 1em; padding-right: 1em; text-align: center; vertical-align: top\">valid/v0/2013-07-24<br>16-50-18 M 01_01.JPG ...</td>\n",
       "        <td style=\"padding-left: 1em; padding-right: 1em; text-align: center; vertical-align: top\">Height: 1536 Width: 2048</td>\n",
       "        <td style=\"padding-left: 1em; padding-right: 1em; text-align: center; vertical-align: top\">0</td>\n",
       "    </tr>\n",
       "    <tr>\n",
       "        <td style=\"padding-left: 1em; padding-right: 1em; text-align: center; vertical-align: top\">valid/v0/2013-07-24<br>17-00-29 M 01_01.JPG ...</td>\n",
       "        <td style=\"padding-left: 1em; padding-right: 1em; text-align: center; vertical-align: top\">Height: 1536 Width: 2048</td>\n",
       "        <td style=\"padding-left: 1em; padding-right: 1em; text-align: center; vertical-align: top\">0</td>\n",
       "    </tr>\n",
       "    <tr>\n",
       "        <td style=\"padding-left: 1em; padding-right: 1em; text-align: center; vertical-align: top\">valid/v0/2013-07-24<br>17-03-23 M 01_01.JPG ...</td>\n",
       "        <td style=\"padding-left: 1em; padding-right: 1em; text-align: center; vertical-align: top\">Height: 1536 Width: 2048</td>\n",
       "        <td style=\"padding-left: 1em; padding-right: 1em; text-align: center; vertical-align: top\">0</td>\n",
       "    </tr>\n",
       "    <tr>\n",
       "        <td style=\"padding-left: 1em; padding-right: 1em; text-align: center; vertical-align: top\">valid/v0/2013-07-24<br>17-37-15 M 01_01.JPG ...</td>\n",
       "        <td style=\"padding-left: 1em; padding-right: 1em; text-align: center; vertical-align: top\">Height: 1536 Width: 2048</td>\n",
       "        <td style=\"padding-left: 1em; padding-right: 1em; text-align: center; vertical-align: top\">0</td>\n",
       "    </tr>\n",
       "    <tr>\n",
       "        <td style=\"padding-left: 1em; padding-right: 1em; text-align: center; vertical-align: top\">valid/v0/2018-07-09<br>06-53-18.JPG ...</td>\n",
       "        <td style=\"padding-left: 1em; padding-right: 1em; text-align: center; vertical-align: top\">Height: 1080 Width: 1920</td>\n",
       "        <td style=\"padding-left: 1em; padding-right: 1em; text-align: center; vertical-align: top\">0</td>\n",
       "    </tr>\n",
       "    <tr>\n",
       "        <td style=\"padding-left: 1em; padding-right: 1em; text-align: center; vertical-align: top\">valid/v0/2018-07-09<br>06-53-22.JPG ...</td>\n",
       "        <td style=\"padding-left: 1em; padding-right: 1em; text-align: center; vertical-align: top\">Height: 1080 Width: 1920</td>\n",
       "        <td style=\"padding-left: 1em; padding-right: 1em; text-align: center; vertical-align: top\">0</td>\n",
       "    </tr>\n",
       "</table>\n",
       "[276 rows x 3 columns]<br/>Note: Only the head of the SFrame is printed.<br/>You can use print_rows(num_rows=m, num_columns=n) to print more rows and columns.\n",
       "</div>"
      ],
      "text/plain": [
       "Columns:\n",
       "\tpath\tstr\n",
       "\timage\tImage\n",
       "\tlabel\tstr\n",
       "\n",
       "Rows: 276\n",
       "\n",
       "Data:\n",
       "+-------------------------------+--------------------------+-------+\n",
       "|              path             |          image           | label |\n",
       "+-------------------------------+--------------------------+-------+\n",
       "| valid/v0/2013-07-18 12-45-... | Height: 1536 Width: 2048 |   0   |\n",
       "| valid/v0/2013-07-18 18-41-... | Height: 1536 Width: 2048 |   0   |\n",
       "| valid/v0/2013-07-19 13-13-... | Height: 1536 Width: 2048 |   0   |\n",
       "| valid/v0/2013-07-19 13-15-... | Height: 1536 Width: 2048 |   0   |\n",
       "| valid/v0/2013-07-24 16-50-... | Height: 1536 Width: 2048 |   0   |\n",
       "| valid/v0/2013-07-24 17-00-... | Height: 1536 Width: 2048 |   0   |\n",
       "| valid/v0/2013-07-24 17-03-... | Height: 1536 Width: 2048 |   0   |\n",
       "| valid/v0/2013-07-24 17-37-... | Height: 1536 Width: 2048 |   0   |\n",
       "| valid/v0/2018-07-09 06-53-... | Height: 1080 Width: 1920 |   0   |\n",
       "| valid/v0/2018-07-09 06-53-... | Height: 1080 Width: 1920 |   0   |\n",
       "+-------------------------------+--------------------------+-------+\n",
       "[276 rows x 3 columns]\n",
       "Note: Only the head of the SFrame is printed.\n",
       "You can use print_rows(num_rows=m, num_columns=n) to print more rows and columns."
      ]
     },
     "execution_count": 4,
     "metadata": {},
     "output_type": "execute_result"
    }
   ],
   "source": [
    "print('loading...111')\n",
    "import turicreate as tc\n",
    "model = tc.load_model('Falcon_model.model')\n",
    "print('loading succe...')\n",
    "    #model = tc.image_classifier.create(data, target='label',max_iterations=50)\n",
    "predictions = model.predict(test_data)\n",
    "metrics = model.evaluate(test_data)\n",
    "print(metrics['accuracy'])\n",
    "\n",
    "#save the model\n",
    "model.save('Falcon_model.model')\n",
    "\n",
    "\n",
    "print('||check wrong prediction||')\n",
    "test_data[test_data['label']!=predictions]"
   ]
  },
  {
   "cell_type": "code",
   "execution_count": 5,
   "metadata": {},
   "outputs": [
    {
     "name": "stdout",
     "output_type": "stream",
     "text": [
      "+-------------------------------+--------------------------+-------+------------+\n",
      "|              path             |          image           | label | prediction |\n",
      "+-------------------------------+--------------------------+-------+------------+\n",
      "| valid/v0/2013-07-18 12-45-... | Height: 1536 Width: 2048 |   0   |     1      |\n",
      "| valid/v0/2013-07-18 18-30-... | Height: 1536 Width: 2048 |   0   |     0      |\n",
      "| valid/v0/2013-07-18 18-41-... | Height: 1536 Width: 2048 |   0   |     1      |\n",
      "| valid/v0/2013-07-18 18-45-... | Height: 1536 Width: 2048 |   0   |     0      |\n",
      "| valid/v0/2013-07-18 19-56-... | Height: 1536 Width: 2048 |   0   |     0      |\n",
      "| valid/v0/2013-07-19 13-13-... | Height: 1536 Width: 2048 |   0   |     1      |\n",
      "| valid/v0/2013-07-19 13-15-... | Height: 1536 Width: 2048 |   0   |     1      |\n",
      "| valid/v0/2013-07-24 16-48-... | Height: 1536 Width: 2048 |   0   |     0      |\n",
      "| valid/v0/2013-07-24 16-49-... | Height: 1536 Width: 2048 |   0   |     0      |\n",
      "| valid/v0/2013-07-24 16-49-... | Height: 1536 Width: 2048 |   0   |     0      |\n",
      "+-------------------------------+--------------------------+-------+------------+\n",
      "[1934 rows x 4 columns]\n",
      "Note: Only the head of the SFrame is printed.\n",
      "You can use print_rows(num_rows=m, num_columns=n) to print more rows and columns.\n"
     ]
    }
   ],
   "source": [
    "from turicreate import SFrame\n",
    "test_data['prediction'] = predictions\n",
    "result = test_data \n",
    "#print(predictions)\n",
    "print(result)\n",
    "result.save('result_train_vs_valid.csv',format='csv')"
   ]
  }
 ],
 "metadata": {
  "kernelspec": {
   "display_name": "Python 2",
   "language": "python",
   "name": "python2"
  },
  "language_info": {
   "codemirror_mode": {
    "name": "ipython",
    "version": 2
   },
   "file_extension": ".py",
   "mimetype": "text/x-python",
   "name": "python",
   "nbconvert_exporter": "python",
   "pygments_lexer": "ipython2",
   "version": "2.7.15"
  }
 },
 "nbformat": 4,
 "nbformat_minor": 2
}
