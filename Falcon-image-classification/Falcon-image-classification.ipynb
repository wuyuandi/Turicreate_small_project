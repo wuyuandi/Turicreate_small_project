{
 "cells": [
  {
   "cell_type": "code",
   "execution_count": 1,
   "metadata": {},
   "outputs": [
    {
     "name": "stdout",
     "output_type": "stream",
     "text": [
      "WARNING: You are using MXNet 1.4.0 which may result in breaking behavior.\n",
      "         To fix this, please install the currently recommended version:\n",
      "\n",
      "             pip uninstall -y mxnet && pip install mxnet==1.1.0\n",
      "\n",
      "         If you want to use a CUDA GPU, then change 'mxnet' to 'mxnet-cu90' (adjust 'cu90' depending on your CUDA version):\n",
      "\n"
     ]
    },
    {
     "data": {
      "text/html": [
       "<pre>Read 753 images in 5.00225 secs\tspeed: 150.532 file/sec</pre>"
      ],
      "text/plain": [
       "Read 753 images in 5.00225 secs\tspeed: 150.532 file/sec"
      ]
     },
     "metadata": {},
     "output_type": "display_data"
    },
    {
     "data": {
      "text/html": [
       "<pre>Read 1502 images in 10.012 secs\tspeed: 149.508 file/sec</pre>"
      ],
      "text/plain": [
       "Read 1502 images in 10.012 secs\tspeed: 149.508 file/sec"
      ]
     },
     "metadata": {},
     "output_type": "display_data"
    },
    {
     "data": {
      "text/html": [
       "<pre>Read 2272 images in 15.0275 secs\tspeed: 153.524 file/sec</pre>"
      ],
      "text/plain": [
       "Read 2272 images in 15.0275 secs\tspeed: 153.524 file/sec"
      ]
     },
     "metadata": {},
     "output_type": "display_data"
    },
    {
     "data": {
      "text/html": [
       "<pre>Read 3024 images in 20.0395 secs\tspeed: 150.042 file/sec</pre>"
      ],
      "text/plain": [
       "Read 3024 images in 20.0395 secs\tspeed: 150.042 file/sec"
      ]
     },
     "metadata": {},
     "output_type": "display_data"
    },
    {
     "data": {
      "text/html": [
       "<div style=\"max-height:1000px;max-width:1500px;overflow:auto;\"><table frame=\"box\" rules=\"cols\">\n",
       "    <tr>\n",
       "        <th style=\"padding-left: 1em; padding-right: 1em; text-align: center\">path</th>\n",
       "        <th style=\"padding-left: 1em; padding-right: 1em; text-align: center\">image</th>\n",
       "        <th style=\"padding-left: 1em; padding-right: 1em; text-align: center\">label</th>\n",
       "    </tr>\n",
       "    <tr>\n",
       "        <td style=\"padding-left: 1em; padding-right: 1em; text-align: center; vertical-align: top\">train/0/2013-07-26<br>22-39-43 M 01_01.JPG ...</td>\n",
       "        <td style=\"padding-left: 1em; padding-right: 1em; text-align: center; vertical-align: top\">Height: 1536 Width: 2048</td>\n",
       "        <td style=\"padding-left: 1em; padding-right: 1em; text-align: center; vertical-align: top\">0</td>\n",
       "    </tr>\n",
       "    <tr>\n",
       "        <td style=\"padding-left: 1em; padding-right: 1em; text-align: center; vertical-align: top\">train/0/2013-07-26<br>22-40-29 M 01_01.JPG ...</td>\n",
       "        <td style=\"padding-left: 1em; padding-right: 1em; text-align: center; vertical-align: top\">Height: 1536 Width: 2048</td>\n",
       "        <td style=\"padding-left: 1em; padding-right: 1em; text-align: center; vertical-align: top\">0</td>\n",
       "    </tr>\n",
       "    <tr>\n",
       "        <td style=\"padding-left: 1em; padding-right: 1em; text-align: center; vertical-align: top\">train/0/2013-07-26<br>22-41-42 M 01_01.JPG ...</td>\n",
       "        <td style=\"padding-left: 1em; padding-right: 1em; text-align: center; vertical-align: top\">Height: 1536 Width: 2048</td>\n",
       "        <td style=\"padding-left: 1em; padding-right: 1em; text-align: center; vertical-align: top\">0</td>\n",
       "    </tr>\n",
       "    <tr>\n",
       "        <td style=\"padding-left: 1em; padding-right: 1em; text-align: center; vertical-align: top\">train/0/2013-07-26<br>22-42-01 M 01_01.JPG ...</td>\n",
       "        <td style=\"padding-left: 1em; padding-right: 1em; text-align: center; vertical-align: top\">Height: 1536 Width: 2048</td>\n",
       "        <td style=\"padding-left: 1em; padding-right: 1em; text-align: center; vertical-align: top\">0</td>\n",
       "    </tr>\n",
       "    <tr>\n",
       "        <td style=\"padding-left: 1em; padding-right: 1em; text-align: center; vertical-align: top\">train/0/2013-07-26<br>22-45-00 T 01_01.JPG ...</td>\n",
       "        <td style=\"padding-left: 1em; padding-right: 1em; text-align: center; vertical-align: top\">Height: 1536 Width: 2048</td>\n",
       "        <td style=\"padding-left: 1em; padding-right: 1em; text-align: center; vertical-align: top\">0</td>\n",
       "    </tr>\n",
       "    <tr>\n",
       "        <td style=\"padding-left: 1em; padding-right: 1em; text-align: center; vertical-align: top\">train/0/2013-07-26<br>22-45-20 M 01_01.JPG ...</td>\n",
       "        <td style=\"padding-left: 1em; padding-right: 1em; text-align: center; vertical-align: top\">Height: 1536 Width: 2048</td>\n",
       "        <td style=\"padding-left: 1em; padding-right: 1em; text-align: center; vertical-align: top\">0</td>\n",
       "    </tr>\n",
       "    <tr>\n",
       "        <td style=\"padding-left: 1em; padding-right: 1em; text-align: center; vertical-align: top\">train/0/2013-07-26<br>22-45-23 M 01_01.JPG ...</td>\n",
       "        <td style=\"padding-left: 1em; padding-right: 1em; text-align: center; vertical-align: top\">Height: 1536 Width: 2048</td>\n",
       "        <td style=\"padding-left: 1em; padding-right: 1em; text-align: center; vertical-align: top\">0</td>\n",
       "    </tr>\n",
       "    <tr>\n",
       "        <td style=\"padding-left: 1em; padding-right: 1em; text-align: center; vertical-align: top\">train/0/2013-07-26<br>22-45-28 M 01_01.JPG ...</td>\n",
       "        <td style=\"padding-left: 1em; padding-right: 1em; text-align: center; vertical-align: top\">Height: 1536 Width: 2048</td>\n",
       "        <td style=\"padding-left: 1em; padding-right: 1em; text-align: center; vertical-align: top\">0</td>\n",
       "    </tr>\n",
       "    <tr>\n",
       "        <td style=\"padding-left: 1em; padding-right: 1em; text-align: center; vertical-align: top\">train/0/2013-07-26<br>22-45-30 M 01_01.JPG ...</td>\n",
       "        <td style=\"padding-left: 1em; padding-right: 1em; text-align: center; vertical-align: top\">Height: 1536 Width: 2048</td>\n",
       "        <td style=\"padding-left: 1em; padding-right: 1em; text-align: center; vertical-align: top\">0</td>\n",
       "    </tr>\n",
       "    <tr>\n",
       "        <td style=\"padding-left: 1em; padding-right: 1em; text-align: center; vertical-align: top\">train/0/2013-07-26<br>22-47-19 M 01_01.JPG ...</td>\n",
       "        <td style=\"padding-left: 1em; padding-right: 1em; text-align: center; vertical-align: top\">Height: 1536 Width: 2048</td>\n",
       "        <td style=\"padding-left: 1em; padding-right: 1em; text-align: center; vertical-align: top\">0</td>\n",
       "    </tr>\n",
       "</table>\n",
       "[3058 rows x 3 columns]<br/>Note: Only the head of the SFrame is printed.<br/>You can use print_rows(num_rows=m, num_columns=n) to print more rows and columns.\n",
       "</div>"
      ],
      "text/plain": [
       "Columns:\n",
       "\tpath\tstr\n",
       "\timage\tImage\n",
       "\tlabel\tstr\n",
       "\n",
       "Rows: 3058\n",
       "\n",
       "Data:\n",
       "+-------------------------------+--------------------------+-------+\n",
       "|              path             |          image           | label |\n",
       "+-------------------------------+--------------------------+-------+\n",
       "| train/0/2013-07-26 22-39-4... | Height: 1536 Width: 2048 |   0   |\n",
       "| train/0/2013-07-26 22-40-2... | Height: 1536 Width: 2048 |   0   |\n",
       "| train/0/2013-07-26 22-41-4... | Height: 1536 Width: 2048 |   0   |\n",
       "| train/0/2013-07-26 22-42-0... | Height: 1536 Width: 2048 |   0   |\n",
       "| train/0/2013-07-26 22-45-0... | Height: 1536 Width: 2048 |   0   |\n",
       "| train/0/2013-07-26 22-45-2... | Height: 1536 Width: 2048 |   0   |\n",
       "| train/0/2013-07-26 22-45-2... | Height: 1536 Width: 2048 |   0   |\n",
       "| train/0/2013-07-26 22-45-2... | Height: 1536 Width: 2048 |   0   |\n",
       "| train/0/2013-07-26 22-45-3... | Height: 1536 Width: 2048 |   0   |\n",
       "| train/0/2013-07-26 22-47-1... | Height: 1536 Width: 2048 |   0   |\n",
       "+-------------------------------+--------------------------+-------+\n",
       "[3058 rows x 3 columns]\n",
       "Note: Only the head of the SFrame is printed.\n",
       "You can use print_rows(num_rows=m, num_columns=n) to print more rows and columns."
      ]
     },
     "execution_count": 1,
     "metadata": {},
     "output_type": "execute_result"
    }
   ],
   "source": [
    "import turicreate as tc\n",
    "img_folder = 'train'\n",
    "data = tc.image_analysis.load_images(img_folder, with_path=True)\n",
    "data['label'] = data['path'].apply(lambda path: '0' if '/0' in path else '1')\n",
    "\n",
    "data\n"
   ]
  },
  {
   "cell_type": "code",
   "execution_count": 2,
   "metadata": {},
   "outputs": [
    {
     "data": {
      "text/html": [
       "<pre>Materializing SFrame</pre>"
      ],
      "text/plain": [
       "Materializing SFrame"
      ]
     },
     "metadata": {},
     "output_type": "display_data"
    }
   ],
   "source": [
    "data.save('0-1.sframe')\n",
    "data.explore()"
   ]
  },
  {
   "cell_type": "code",
   "execution_count": 7,
   "metadata": {},
   "outputs": [
    {
     "data": {
      "text/html": [
       "<pre>Analyzing and extracting image features.</pre>"
      ],
      "text/plain": [
       "Analyzing and extracting image features."
      ]
     },
     "metadata": {},
     "output_type": "display_data"
    },
    {
     "data": {
      "text/html": [
       "<pre>+------------------+--------------+------------------+</pre>"
      ],
      "text/plain": [
       "+------------------+--------------+------------------+"
      ]
     },
     "metadata": {},
     "output_type": "display_data"
    },
    {
     "data": {
      "text/html": [
       "<pre>| Images Processed | Elapsed Time | Percent Complete |</pre>"
      ],
      "text/plain": [
       "| Images Processed | Elapsed Time | Percent Complete |"
      ]
     },
     "metadata": {},
     "output_type": "display_data"
    },
    {
     "data": {
      "text/html": [
       "<pre>+------------------+--------------+------------------+</pre>"
      ],
      "text/plain": [
       "+------------------+--------------+------------------+"
      ]
     },
     "metadata": {},
     "output_type": "display_data"
    },
    {
     "data": {
      "text/html": [
       "<pre>| 64               | 48.05s       | 2.5%             |</pre>"
      ],
      "text/plain": [
       "| 64               | 48.05s       | 2.5%             |"
      ]
     },
     "metadata": {},
     "output_type": "display_data"
    },
    {
     "data": {
      "text/html": [
       "<pre>| 128              | 48.86s       | 5%               |</pre>"
      ],
      "text/plain": [
       "| 128              | 48.86s       | 5%               |"
      ]
     },
     "metadata": {},
     "output_type": "display_data"
    },
    {
     "data": {
      "text/html": [
       "<pre>| 192              | 49.57s       | 7.5%             |</pre>"
      ],
      "text/plain": [
       "| 192              | 49.57s       | 7.5%             |"
      ]
     },
     "metadata": {},
     "output_type": "display_data"
    },
    {
     "data": {
      "text/html": [
       "<pre>| 256              | 50.16s       | 10.25%           |</pre>"
      ],
      "text/plain": [
       "| 256              | 50.16s       | 10.25%           |"
      ]
     },
     "metadata": {},
     "output_type": "display_data"
    },
    {
     "data": {
      "text/html": [
       "<pre>| 320              | 1m 33s       | 12.75%           |</pre>"
      ],
      "text/plain": [
       "| 320              | 1m 33s       | 12.75%           |"
      ]
     },
     "metadata": {},
     "output_type": "display_data"
    },
    {
     "data": {
      "text/html": [
       "<pre>| 448              | 1m 39s       | 17.75%           |</pre>"
      ],
      "text/plain": [
       "| 448              | 1m 39s       | 17.75%           |"
      ]
     },
     "metadata": {},
     "output_type": "display_data"
    },
    {
     "data": {
      "text/html": [
       "<pre>| 512              | 1m 39s       | 20.5%            |</pre>"
      ],
      "text/plain": [
       "| 512              | 1m 39s       | 20.5%            |"
      ]
     },
     "metadata": {},
     "output_type": "display_data"
    },
    {
     "data": {
      "text/html": [
       "<pre>| 576              | 2m 13s       | 23%              |</pre>"
      ],
      "text/plain": [
       "| 576              | 2m 13s       | 23%              |"
      ]
     },
     "metadata": {},
     "output_type": "display_data"
    },
    {
     "data": {
      "text/html": [
       "<pre>| 640              | 2m 28s       | 25.5%            |</pre>"
      ],
      "text/plain": [
       "| 640              | 2m 28s       | 25.5%            |"
      ]
     },
     "metadata": {},
     "output_type": "display_data"
    },
    {
     "data": {
      "text/html": [
       "<pre>| 704              | 2m 30s       | 28%              |</pre>"
      ],
      "text/plain": [
       "| 704              | 2m 30s       | 28%              |"
      ]
     },
     "metadata": {},
     "output_type": "display_data"
    },
    {
     "data": {
      "text/html": [
       "<pre>| 768              | 2m 30s       | 30.75%           |</pre>"
      ],
      "text/plain": [
       "| 768              | 2m 30s       | 30.75%           |"
      ]
     },
     "metadata": {},
     "output_type": "display_data"
    },
    {
     "data": {
      "text/html": [
       "<pre>| 832              | 2m 47s       | 33.25%           |</pre>"
      ],
      "text/plain": [
       "| 832              | 2m 47s       | 33.25%           |"
      ]
     },
     "metadata": {},
     "output_type": "display_data"
    },
    {
     "data": {
      "text/html": [
       "<pre>| 896              | 3m 18s       | 35.75%           |</pre>"
      ],
      "text/plain": [
       "| 896              | 3m 18s       | 35.75%           |"
      ]
     },
     "metadata": {},
     "output_type": "display_data"
    },
    {
     "data": {
      "text/html": [
       "<pre>| 960              | 3m 21s       | 38.25%           |</pre>"
      ],
      "text/plain": [
       "| 960              | 3m 21s       | 38.25%           |"
      ]
     },
     "metadata": {},
     "output_type": "display_data"
    },
    {
     "data": {
      "text/html": [
       "<pre>| 1024             | 3m 21s       | 41%              |</pre>"
      ],
      "text/plain": [
       "| 1024             | 3m 21s       | 41%              |"
      ]
     },
     "metadata": {},
     "output_type": "display_data"
    },
    {
     "data": {
      "text/html": [
       "<pre>| 1088             | 3m 28s       | 43.5%            |</pre>"
      ],
      "text/plain": [
       "| 1088             | 3m 28s       | 43.5%            |"
      ]
     },
     "metadata": {},
     "output_type": "display_data"
    },
    {
     "data": {
      "text/html": [
       "<pre>| 1152             | 4m 3s        | 46%              |</pre>"
      ],
      "text/plain": [
       "| 1152             | 4m 3s        | 46%              |"
      ]
     },
     "metadata": {},
     "output_type": "display_data"
    },
    {
     "data": {
      "text/html": [
       "<pre>| 1216             | 4m 10s       | 48.5%            |</pre>"
      ],
      "text/plain": [
       "| 1216             | 4m 10s       | 48.5%            |"
      ]
     },
     "metadata": {},
     "output_type": "display_data"
    },
    {
     "data": {
      "text/html": [
       "<pre>| 1280             | 4m 13s       | 51.25%           |</pre>"
      ],
      "text/plain": [
       "| 1280             | 4m 13s       | 51.25%           |"
      ]
     },
     "metadata": {},
     "output_type": "display_data"
    },
    {
     "data": {
      "text/html": [
       "<pre>| 1344             | 4m 17s       | 53.75%           |</pre>"
      ],
      "text/plain": [
       "| 1344             | 4m 17s       | 53.75%           |"
      ]
     },
     "metadata": {},
     "output_type": "display_data"
    },
    {
     "data": {
      "text/html": [
       "<pre>| 1408             | 4m 40s       | 56.25%           |</pre>"
      ],
      "text/plain": [
       "| 1408             | 4m 40s       | 56.25%           |"
      ]
     },
     "metadata": {},
     "output_type": "display_data"
    },
    {
     "data": {
      "text/html": [
       "<pre>| 1472             | 4m 58s       | 58.75%           |</pre>"
      ],
      "text/plain": [
       "| 1472             | 4m 58s       | 58.75%           |"
      ]
     },
     "metadata": {},
     "output_type": "display_data"
    },
    {
     "data": {
      "text/html": [
       "<pre>| 1536             | 5m 4s        | 61.5%            |</pre>"
      ],
      "text/plain": [
       "| 1536             | 5m 4s        | 61.5%            |"
      ]
     },
     "metadata": {},
     "output_type": "display_data"
    },
    {
     "data": {
      "text/html": [
       "<pre>| 1600             | 5m 6s        | 64%              |</pre>"
      ],
      "text/plain": [
       "| 1600             | 5m 6s        | 64%              |"
      ]
     },
     "metadata": {},
     "output_type": "display_data"
    },
    {
     "data": {
      "text/html": [
       "<pre>| 1664             | 5m 21s       | 66.5%            |</pre>"
      ],
      "text/plain": [
       "| 1664             | 5m 21s       | 66.5%            |"
      ]
     },
     "metadata": {},
     "output_type": "display_data"
    },
    {
     "data": {
      "text/html": [
       "<pre>| 1728             | 5m 42s       | 69%              |</pre>"
      ],
      "text/plain": [
       "| 1728             | 5m 42s       | 69%              |"
      ]
     },
     "metadata": {},
     "output_type": "display_data"
    },
    {
     "data": {
      "text/html": [
       "<pre>| 1792             | 5m 53s       | 71.75%           |</pre>"
      ],
      "text/plain": [
       "| 1792             | 5m 53s       | 71.75%           |"
      ]
     },
     "metadata": {},
     "output_type": "display_data"
    },
    {
     "data": {
      "text/html": [
       "<pre>| 1856             | 5m 55s       | 74.25%           |</pre>"
      ],
      "text/plain": [
       "| 1856             | 5m 55s       | 74.25%           |"
      ]
     },
     "metadata": {},
     "output_type": "display_data"
    },
    {
     "data": {
      "text/html": [
       "<pre>| 1920             | 6m 6s        | 76.75%           |</pre>"
      ],
      "text/plain": [
       "| 1920             | 6m 6s        | 76.75%           |"
      ]
     },
     "metadata": {},
     "output_type": "display_data"
    },
    {
     "data": {
      "text/html": [
       "<pre>| 1984             | 6m 26s       | 79.25%           |</pre>"
      ],
      "text/plain": [
       "| 1984             | 6m 26s       | 79.25%           |"
      ]
     },
     "metadata": {},
     "output_type": "display_data"
    },
    {
     "data": {
      "text/html": [
       "<pre>| 2048             | 6m 41s       | 82%              |</pre>"
      ],
      "text/plain": [
       "| 2048             | 6m 41s       | 82%              |"
      ]
     },
     "metadata": {},
     "output_type": "display_data"
    },
    {
     "data": {
      "text/html": [
       "<pre>| 2112             | 6m 43s       | 84.5%            |</pre>"
      ],
      "text/plain": [
       "| 2112             | 6m 43s       | 84.5%            |"
      ]
     },
     "metadata": {},
     "output_type": "display_data"
    },
    {
     "data": {
      "text/html": [
       "<pre>| 2176             | 6m 50s       | 87%              |</pre>"
      ],
      "text/plain": [
       "| 2176             | 6m 50s       | 87%              |"
      ]
     },
     "metadata": {},
     "output_type": "display_data"
    },
    {
     "data": {
      "text/html": [
       "<pre>| 2240             | 7m 3s        | 89.5%            |</pre>"
      ],
      "text/plain": [
       "| 2240             | 7m 3s        | 89.5%            |"
      ]
     },
     "metadata": {},
     "output_type": "display_data"
    },
    {
     "data": {
      "text/html": [
       "<pre>| 2304             | 7m 8s        | 92.25%           |</pre>"
      ],
      "text/plain": [
       "| 2304             | 7m 8s        | 92.25%           |"
      ]
     },
     "metadata": {},
     "output_type": "display_data"
    },
    {
     "data": {
      "text/html": [
       "<pre>| 2368             | 7m 14s       | 94.75%           |</pre>"
      ],
      "text/plain": [
       "| 2368             | 7m 14s       | 94.75%           |"
      ]
     },
     "metadata": {},
     "output_type": "display_data"
    },
    {
     "data": {
      "text/html": [
       "<pre>| 2432             | 7m 19s       | 97.25%           |</pre>"
      ],
      "text/plain": [
       "| 2432             | 7m 19s       | 97.25%           |"
      ]
     },
     "metadata": {},
     "output_type": "display_data"
    },
    {
     "data": {
      "text/html": [
       "<pre>| 2441             | 7m 31s       | 100%             |</pre>"
      ],
      "text/plain": [
       "| 2441             | 7m 31s       | 100%             |"
      ]
     },
     "metadata": {},
     "output_type": "display_data"
    },
    {
     "data": {
      "text/html": [
       "<pre>+------------------+--------------+------------------+</pre>"
      ],
      "text/plain": [
       "+------------------+--------------+------------------+"
      ]
     },
     "metadata": {},
     "output_type": "display_data"
    },
    {
     "name": "stdout",
     "output_type": "stream",
     "text": [
      "PROGRESS: Creating a validation set from 5 percent of training data. This may take a while.\n",
      "          You can set ``validation_set=None`` to disable validation tracking.\n",
      "\n"
     ]
    },
    {
     "data": {
      "text/html": [
       "<pre>Logistic regression:</pre>"
      ],
      "text/plain": [
       "Logistic regression:"
      ]
     },
     "metadata": {},
     "output_type": "display_data"
    },
    {
     "data": {
      "text/html": [
       "<pre>--------------------------------------------------------</pre>"
      ],
      "text/plain": [
       "--------------------------------------------------------"
      ]
     },
     "metadata": {},
     "output_type": "display_data"
    },
    {
     "data": {
      "text/html": [
       "<pre>Number of examples          : 2333</pre>"
      ],
      "text/plain": [
       "Number of examples          : 2333"
      ]
     },
     "metadata": {},
     "output_type": "display_data"
    },
    {
     "data": {
      "text/html": [
       "<pre>Number of classes           : 2</pre>"
      ],
      "text/plain": [
       "Number of classes           : 2"
      ]
     },
     "metadata": {},
     "output_type": "display_data"
    },
    {
     "data": {
      "text/html": [
       "<pre>Number of feature columns   : 1</pre>"
      ],
      "text/plain": [
       "Number of feature columns   : 1"
      ]
     },
     "metadata": {},
     "output_type": "display_data"
    },
    {
     "data": {
      "text/html": [
       "<pre>Number of unpacked features : 2048</pre>"
      ],
      "text/plain": [
       "Number of unpacked features : 2048"
      ]
     },
     "metadata": {},
     "output_type": "display_data"
    },
    {
     "data": {
      "text/html": [
       "<pre>Number of coefficients      : 2049</pre>"
      ],
      "text/plain": [
       "Number of coefficients      : 2049"
      ]
     },
     "metadata": {},
     "output_type": "display_data"
    },
    {
     "data": {
      "text/html": [
       "<pre>Starting L-BFGS</pre>"
      ],
      "text/plain": [
       "Starting L-BFGS"
      ]
     },
     "metadata": {},
     "output_type": "display_data"
    },
    {
     "data": {
      "text/html": [
       "<pre>--------------------------------------------------------</pre>"
      ],
      "text/plain": [
       "--------------------------------------------------------"
      ]
     },
     "metadata": {},
     "output_type": "display_data"
    },
    {
     "data": {
      "text/html": [
       "<pre>+-----------+----------+-----------+--------------+-------------------+---------------------+</pre>"
      ],
      "text/plain": [
       "+-----------+----------+-----------+--------------+-------------------+---------------------+"
      ]
     },
     "metadata": {},
     "output_type": "display_data"
    },
    {
     "data": {
      "text/html": [
       "<pre>| Iteration | Passes   | Step size | Elapsed Time | Training Accuracy | Validation Accuracy |</pre>"
      ],
      "text/plain": [
       "| Iteration | Passes   | Step size | Elapsed Time | Training Accuracy | Validation Accuracy |"
      ]
     },
     "metadata": {},
     "output_type": "display_data"
    },
    {
     "data": {
      "text/html": [
       "<pre>+-----------+----------+-----------+--------------+-------------------+---------------------+</pre>"
      ],
      "text/plain": [
       "+-----------+----------+-----------+--------------+-------------------+---------------------+"
      ]
     },
     "metadata": {},
     "output_type": "display_data"
    },
    {
     "data": {
      "text/html": [
       "<pre>| 0         | 1        | NaN       | 0.291892     | 0.604801          | 0.583333            |</pre>"
      ],
      "text/plain": [
       "| 0         | 1        | NaN       | 0.291892     | 0.604801          | 0.583333            |"
      ]
     },
     "metadata": {},
     "output_type": "display_data"
    },
    {
     "data": {
      "text/html": [
       "<pre>| 1         | 7        | 0.000002  | 1.215697     | 0.604801          | 0.583333            |</pre>"
      ],
      "text/plain": [
       "| 1         | 7        | 0.000002  | 1.215697     | 0.604801          | 0.583333            |"
      ]
     },
     "metadata": {},
     "output_type": "display_data"
    },
    {
     "data": {
      "text/html": [
       "<pre>| 2         | 10       | 5.000000  | 1.753927     | 0.869267          | 0.879630            |</pre>"
      ],
      "text/plain": [
       "| 2         | 10       | 5.000000  | 1.753927     | 0.869267          | 0.879630            |"
      ]
     },
     "metadata": {},
     "output_type": "display_data"
    },
    {
     "data": {
      "text/html": [
       "<pre>| 3         | 11       | 5.000000  | 2.038586     | 0.895414          | 0.879630            |</pre>"
      ],
      "text/plain": [
       "| 3         | 11       | 5.000000  | 2.038586     | 0.895414          | 0.879630            |"
      ]
     },
     "metadata": {},
     "output_type": "display_data"
    },
    {
     "data": {
      "text/html": [
       "<pre>| 4         | 12       | 5.000000  | 2.318513     | 0.604801          | 0.583333            |</pre>"
      ],
      "text/plain": [
       "| 4         | 12       | 5.000000  | 2.318513     | 0.604801          | 0.583333            |"
      ]
     },
     "metadata": {},
     "output_type": "display_data"
    },
    {
     "data": {
      "text/html": [
       "<pre>| 5         | 18       | 1.116883  | 3.191674     | 0.910844          | 0.898148            |</pre>"
      ],
      "text/plain": [
       "| 5         | 18       | 1.116883  | 3.191674     | 0.910844          | 0.898148            |"
      ]
     },
     "metadata": {},
     "output_type": "display_data"
    },
    {
     "data": {
      "text/html": [
       "<pre>| 10        | 24       | 1.000000  | 4.687941     | 0.939134          | 0.916667            |</pre>"
      ],
      "text/plain": [
       "| 10        | 24       | 1.000000  | 4.687941     | 0.939134          | 0.916667            |"
      ]
     },
     "metadata": {},
     "output_type": "display_data"
    },
    {
     "data": {
      "text/html": [
       "<pre>| 20        | 35       | 1.000000  | 7.483954     | 0.973425          | 0.962963            |</pre>"
      ],
      "text/plain": [
       "| 20        | 35       | 1.000000  | 7.483954     | 0.973425          | 0.962963            |"
      ]
     },
     "metadata": {},
     "output_type": "display_data"
    },
    {
     "data": {
      "text/html": [
       "<pre>| 30        | 47       | 1.000000  | 10.413000    | 0.993571          | 0.990741            |</pre>"
      ],
      "text/plain": [
       "| 30        | 47       | 1.000000  | 10.413000    | 0.993571          | 0.990741            |"
      ]
     },
     "metadata": {},
     "output_type": "display_data"
    },
    {
     "data": {
      "text/html": [
       "<pre>| 40        | 58       | 1.000000  | 13.248126    | 0.998285          | 0.981481            |</pre>"
      ],
      "text/plain": [
       "| 40        | 58       | 1.000000  | 13.248126    | 0.998285          | 0.981481            |"
      ]
     },
     "metadata": {},
     "output_type": "display_data"
    },
    {
     "data": {
      "text/html": [
       "<pre>| 50        | 70       | 1.000000  | 16.094288    | 0.999143          | 0.990741            |</pre>"
      ],
      "text/plain": [
       "| 50        | 70       | 1.000000  | 16.094288    | 0.999143          | 0.990741            |"
      ]
     },
     "metadata": {},
     "output_type": "display_data"
    },
    {
     "data": {
      "text/html": [
       "<pre>+-----------+----------+-----------+--------------+-------------------+---------------------+</pre>"
      ],
      "text/plain": [
       "+-----------+----------+-----------+--------------+-------------------+---------------------+"
      ]
     },
     "metadata": {},
     "output_type": "display_data"
    },
    {
     "data": {
      "text/html": [
       "<pre>Completed (Iteration limit reached).</pre>"
      ],
      "text/plain": [
       "Completed (Iteration limit reached)."
      ]
     },
     "metadata": {},
     "output_type": "display_data"
    },
    {
     "data": {
      "text/html": [
       "<pre>This model may not be optimal. To improve it, consider increasing `max_iterations`.</pre>"
      ],
      "text/plain": [
       "This model may not be optimal. To improve it, consider increasing `max_iterations`."
      ]
     },
     "metadata": {},
     "output_type": "display_data"
    },
    {
     "data": {
      "text/html": [
       "<pre>Analyzing and extracting image features.</pre>"
      ],
      "text/plain": [
       "Analyzing and extracting image features."
      ]
     },
     "metadata": {},
     "output_type": "display_data"
    },
    {
     "data": {
      "text/html": [
       "<pre>+------------------+--------------+------------------+</pre>"
      ],
      "text/plain": [
       "+------------------+--------------+------------------+"
      ]
     },
     "metadata": {},
     "output_type": "display_data"
    },
    {
     "data": {
      "text/html": [
       "<pre>| Images Processed | Elapsed Time | Percent Complete |</pre>"
      ],
      "text/plain": [
       "| Images Processed | Elapsed Time | Percent Complete |"
      ]
     },
     "metadata": {},
     "output_type": "display_data"
    },
    {
     "data": {
      "text/html": [
       "<pre>+------------------+--------------+------------------+</pre>"
      ],
      "text/plain": [
       "+------------------+--------------+------------------+"
      ]
     },
     "metadata": {},
     "output_type": "display_data"
    },
    {
     "data": {
      "text/html": [
       "<pre>| 64               | 48.09s       | 10%              |</pre>"
      ],
      "text/plain": [
       "| 64               | 48.09s       | 10%              |"
      ]
     },
     "metadata": {},
     "output_type": "display_data"
    },
    {
     "data": {
      "text/html": [
       "<pre>| 128              | 49.23s       | 20%              |</pre>"
      ],
      "text/plain": [
       "| 128              | 49.23s       | 20%              |"
      ]
     },
     "metadata": {},
     "output_type": "display_data"
    },
    {
     "data": {
      "text/html": [
       "<pre>| 192              | 49.90s       | 30%              |</pre>"
      ],
      "text/plain": [
       "| 192              | 49.90s       | 30%              |"
      ]
     },
     "metadata": {},
     "output_type": "display_data"
    },
    {
     "data": {
      "text/html": [
       "<pre>| 256              | 50.18s       | 40%              |</pre>"
      ],
      "text/plain": [
       "| 256              | 50.18s       | 40%              |"
      ]
     },
     "metadata": {},
     "output_type": "display_data"
    },
    {
     "data": {
      "text/html": [
       "<pre>| 320              | 1m 33s       | 50%              |</pre>"
      ],
      "text/plain": [
       "| 320              | 1m 33s       | 50%              |"
      ]
     },
     "metadata": {},
     "output_type": "display_data"
    },
    {
     "data": {
      "text/html": [
       "<pre>| 448              | 1m 38s       | 70%              |</pre>"
      ],
      "text/plain": [
       "| 448              | 1m 38s       | 70%              |"
      ]
     },
     "metadata": {},
     "output_type": "display_data"
    },
    {
     "data": {
      "text/html": [
       "<pre>| 512              | 1m 39s       | 80%              |</pre>"
      ],
      "text/plain": [
       "| 512              | 1m 39s       | 80%              |"
      ]
     },
     "metadata": {},
     "output_type": "display_data"
    },
    {
     "data": {
      "text/html": [
       "<pre>| 576              | 1m 55s       | 90%              |</pre>"
      ],
      "text/plain": [
       "| 576              | 1m 55s       | 90%              |"
      ]
     },
     "metadata": {},
     "output_type": "display_data"
    },
    {
     "data": {
      "text/html": [
       "<pre>| 617              | 1m 57s       | 100%             |</pre>"
      ],
      "text/plain": [
       "| 617              | 1m 57s       | 100%             |"
      ]
     },
     "metadata": {},
     "output_type": "display_data"
    },
    {
     "data": {
      "text/html": [
       "<pre>+------------------+--------------+------------------+</pre>"
      ],
      "text/plain": [
       "+------------------+--------------+------------------+"
      ]
     },
     "metadata": {},
     "output_type": "display_data"
    },
    {
     "name": "stdout",
     "output_type": "stream",
     "text": [
      "0.97244732577\n",
      "check wrong prediction\n"
     ]
    },
    {
     "data": {
      "text/html": [
       "<div style=\"max-height:1000px;max-width:1500px;overflow:auto;\"><table frame=\"box\" rules=\"cols\">\n",
       "    <tr>\n",
       "        <th style=\"padding-left: 1em; padding-right: 1em; text-align: center\">path</th>\n",
       "        <th style=\"padding-left: 1em; padding-right: 1em; text-align: center\">image</th>\n",
       "        <th style=\"padding-left: 1em; padding-right: 1em; text-align: center\">label</th>\n",
       "    </tr>\n",
       "    <tr>\n",
       "        <td style=\"padding-left: 1em; padding-right: 1em; text-align: center; vertical-align: top\">train/0/2013-08-02<br>09-02-11 M 01_01.JPG ...</td>\n",
       "        <td style=\"padding-left: 1em; padding-right: 1em; text-align: center; vertical-align: top\">Height: 1536 Width: 2048</td>\n",
       "        <td style=\"padding-left: 1em; padding-right: 1em; text-align: center; vertical-align: top\">0</td>\n",
       "    </tr>\n",
       "    <tr>\n",
       "        <td style=\"padding-left: 1em; padding-right: 1em; text-align: center; vertical-align: top\">train/0/2013-08-02<br>09-06-40 M 01_01.JPG ...</td>\n",
       "        <td style=\"padding-left: 1em; padding-right: 1em; text-align: center; vertical-align: top\">Height: 1536 Width: 2048</td>\n",
       "        <td style=\"padding-left: 1em; padding-right: 1em; text-align: center; vertical-align: top\">0</td>\n",
       "    </tr>\n",
       "    <tr>\n",
       "        <td style=\"padding-left: 1em; padding-right: 1em; text-align: center; vertical-align: top\">train/0/2013-08-02<br>09-40-35 M 01_01.JPG ...</td>\n",
       "        <td style=\"padding-left: 1em; padding-right: 1em; text-align: center; vertical-align: top\">Height: 1536 Width: 2048</td>\n",
       "        <td style=\"padding-left: 1em; padding-right: 1em; text-align: center; vertical-align: top\">0</td>\n",
       "    </tr>\n",
       "    <tr>\n",
       "        <td style=\"padding-left: 1em; padding-right: 1em; text-align: center; vertical-align: top\">train/0/2013-08-12<br>12-54-25 M 01_01.JPG ...</td>\n",
       "        <td style=\"padding-left: 1em; padding-right: 1em; text-align: center; vertical-align: top\">Height: 1536 Width: 2048</td>\n",
       "        <td style=\"padding-left: 1em; padding-right: 1em; text-align: center; vertical-align: top\">0</td>\n",
       "    </tr>\n",
       "    <tr>\n",
       "        <td style=\"padding-left: 1em; padding-right: 1em; text-align: center; vertical-align: top\">train/0/2018-07-26<br>10-30-00 T.JPG ...</td>\n",
       "        <td style=\"padding-left: 1em; padding-right: 1em; text-align: center; vertical-align: top\">Height: 1536 Width: 2048</td>\n",
       "        <td style=\"padding-left: 1em; padding-right: 1em; text-align: center; vertical-align: top\">0</td>\n",
       "    </tr>\n",
       "    <tr>\n",
       "        <td style=\"padding-left: 1em; padding-right: 1em; text-align: center; vertical-align: top\">train/0/2018-07-28<br>10-40-00 T.JPG ...</td>\n",
       "        <td style=\"padding-left: 1em; padding-right: 1em; text-align: center; vertical-align: top\">Height: 1536 Width: 2048</td>\n",
       "        <td style=\"padding-left: 1em; padding-right: 1em; text-align: center; vertical-align: top\">0</td>\n",
       "    </tr>\n",
       "    <tr>\n",
       "        <td style=\"padding-left: 1em; padding-right: 1em; text-align: center; vertical-align: top\">train/0/2018-07-28<br>10-50-00 T.JPG ...</td>\n",
       "        <td style=\"padding-left: 1em; padding-right: 1em; text-align: center; vertical-align: top\">Height: 1536 Width: 2048</td>\n",
       "        <td style=\"padding-left: 1em; padding-right: 1em; text-align: center; vertical-align: top\">0</td>\n",
       "    </tr>\n",
       "    <tr>\n",
       "        <td style=\"padding-left: 1em; padding-right: 1em; text-align: center; vertical-align: top\">train/0/2018-08-07<br>10-30-00 T.JPG ...</td>\n",
       "        <td style=\"padding-left: 1em; padding-right: 1em; text-align: center; vertical-align: top\">Height: 1536 Width: 2048</td>\n",
       "        <td style=\"padding-left: 1em; padding-right: 1em; text-align: center; vertical-align: top\">0</td>\n",
       "    </tr>\n",
       "    <tr>\n",
       "        <td style=\"padding-left: 1em; padding-right: 1em; text-align: center; vertical-align: top\">train/1/2013-08-02<br>09-53-01 M 01_01.JPG ...</td>\n",
       "        <td style=\"padding-left: 1em; padding-right: 1em; text-align: center; vertical-align: top\">Height: 1536 Width: 2048</td>\n",
       "        <td style=\"padding-left: 1em; padding-right: 1em; text-align: center; vertical-align: top\">1</td>\n",
       "    </tr>\n",
       "    <tr>\n",
       "        <td style=\"padding-left: 1em; padding-right: 1em; text-align: center; vertical-align: top\">train/1/2013-08-02<br>09-54-39 M 01_01.JPG ...</td>\n",
       "        <td style=\"padding-left: 1em; padding-right: 1em; text-align: center; vertical-align: top\">Height: 1536 Width: 2048</td>\n",
       "        <td style=\"padding-left: 1em; padding-right: 1em; text-align: center; vertical-align: top\">1</td>\n",
       "    </tr>\n",
       "</table>\n",
       "[17 rows x 3 columns]<br/>Note: Only the head of the SFrame is printed.<br/>You can use print_rows(num_rows=m, num_columns=n) to print more rows and columns.\n",
       "</div>"
      ],
      "text/plain": [
       "Columns:\n",
       "\tpath\tstr\n",
       "\timage\tImage\n",
       "\tlabel\tstr\n",
       "\n",
       "Rows: 17\n",
       "\n",
       "Data:\n",
       "+-------------------------------+--------------------------+-------+\n",
       "|              path             |          image           | label |\n",
       "+-------------------------------+--------------------------+-------+\n",
       "| train/0/2013-08-02 09-02-1... | Height: 1536 Width: 2048 |   0   |\n",
       "| train/0/2013-08-02 09-06-4... | Height: 1536 Width: 2048 |   0   |\n",
       "| train/0/2013-08-02 09-40-3... | Height: 1536 Width: 2048 |   0   |\n",
       "| train/0/2013-08-12 12-54-2... | Height: 1536 Width: 2048 |   0   |\n",
       "| train/0/2018-07-26 10-30-0... | Height: 1536 Width: 2048 |   0   |\n",
       "| train/0/2018-07-28 10-40-0... | Height: 1536 Width: 2048 |   0   |\n",
       "| train/0/2018-07-28 10-50-0... | Height: 1536 Width: 2048 |   0   |\n",
       "| train/0/2018-08-07 10-30-0... | Height: 1536 Width: 2048 |   0   |\n",
       "| train/1/2013-08-02 09-53-0... | Height: 1536 Width: 2048 |   1   |\n",
       "| train/1/2013-08-02 09-54-3... | Height: 1536 Width: 2048 |   1   |\n",
       "+-------------------------------+--------------------------+-------+\n",
       "[17 rows x 3 columns]\n",
       "Note: Only the head of the SFrame is printed.\n",
       "You can use print_rows(num_rows=m, num_columns=n) to print more rows and columns."
      ]
     },
     "execution_count": 7,
     "metadata": {},
     "output_type": "execute_result"
    }
   ],
   "source": [
    "train_data, test_data = data.random_split(0.8, seed=2)\n",
    "model = tc.image_classifier.create(train_data, target='label',max_iterations=50)\n",
    "predictions = model.predict(test_data)\n",
    "metrics = model.evaluate(test_data)\n",
    "print(metrics['accuracy'])\n",
    "print('check wrong prediction')\n",
    "test_data[test_data['label']!=predictions]"
   ]
  }
 ],
 "metadata": {
  "kernelspec": {
   "display_name": "Python 2",
   "language": "python",
   "name": "python2"
  },
  "language_info": {
   "codemirror_mode": {
    "name": "ipython",
    "version": 2
   },
   "file_extension": ".py",
   "mimetype": "text/x-python",
   "name": "python",
   "nbconvert_exporter": "python",
   "pygments_lexer": "ipython2",
   "version": "2.7.15"
  }
 },
 "nbformat": 4,
 "nbformat_minor": 2
}
