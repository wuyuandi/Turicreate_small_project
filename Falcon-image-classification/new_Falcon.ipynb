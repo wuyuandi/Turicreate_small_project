{
 "cells": [
  {
   "cell_type": "code",
   "execution_count": 2,
   "metadata": {},
   "outputs": [
    {
     "name": "stdout",
     "output_type": "stream",
     "text": [
      "WARNING: You are using MXNet 1.4.0 which may result in breaking behavior.\n",
      "         To fix this, please install the currently recommended version:\n",
      "\n",
      "             pip uninstall -y mxnet && pip install mxnet==1.1.0\n",
      "\n",
      "         If you want to use a CUDA GPU, then change 'mxnet' to 'mxnet-cu90' (adjust 'cu90' depending on your CUDA version):\n",
      "\n"
     ]
    },
    {
     "data": {
      "text/html": [
       "<pre>Read 779 images in 5.00501 secs\tspeed: 155.644 file/sec</pre>"
      ],
      "text/plain": [
       "Read 779 images in 5.00501 secs\tspeed: 155.644 file/sec"
      ]
     },
     "metadata": {},
     "output_type": "display_data"
    },
    {
     "data": {
      "text/html": [
       "<pre>Read 1496 images in 10.0257 secs\tspeed: 142.808 file/sec</pre>"
      ],
      "text/plain": [
       "Read 1496 images in 10.0257 secs\tspeed: 142.808 file/sec"
      ]
     },
     "metadata": {},
     "output_type": "display_data"
    },
    {
     "data": {
      "text/html": [
       "<pre>Read 2282 images in 15.0282 secs\tspeed: 157.121 file/sec</pre>"
      ],
      "text/plain": [
       "Read 2282 images in 15.0282 secs\tspeed: 157.121 file/sec"
      ]
     },
     "metadata": {},
     "output_type": "display_data"
    },
    {
     "data": {
      "text/html": [
       "<pre>Materializing SFrame</pre>"
      ],
      "text/plain": [
       "Materializing SFrame"
      ]
     },
     "metadata": {},
     "output_type": "display_data"
    }
   ],
   "source": [
    "import turicreate as tc\n",
    "import pandas as pd\n",
    "\n",
    "#Preparing the training data\n",
    "img_train_folder = 'train'\n",
    "data = tc.image_analysis.load_images(img_train_folder, with_path=True)\n",
    "data['label'] = data['path'].apply(lambda path: '0' if '/0' in path else '1')\n",
    "\n",
    "#save as sframe type\n",
    "data.save('0-1.sframe')\n",
    "\n",
    "#visualization\n",
    "data.explore()"
   ]
  },
  {
   "cell_type": "code",
   "execution_count": 3,
   "metadata": {},
   "outputs": [
    {
     "data": {
      "text/html": [
       "<pre>Read 604 images in 5.00708 secs\tspeed: 120.629 file/sec</pre>"
      ],
      "text/plain": [
       "Read 604 images in 5.00708 secs\tspeed: 120.629 file/sec"
      ]
     },
     "metadata": {},
     "output_type": "display_data"
    },
    {
     "data": {
      "text/html": [
       "<pre>Materializing SFrame</pre>"
      ],
      "text/plain": [
       "Materializing SFrame"
      ]
     },
     "metadata": {},
     "output_type": "display_data"
    }
   ],
   "source": [
    "#Preparing the test data\n",
    "img_test_folder = 'test'\n",
    "test_data = tc.image_analysis.load_images(img_test_folder, with_path=True)\n",
    "test_data['label'] = test_data['path'].apply(lambda path:'0' if '/t0' in path else '1')\n",
    "\n",
    "#save as sframe type\n",
    "test_data.save('test_0-1.sframe')\n",
    "\n",
    "#visualization\n",
    "test_data.explore()"
   ]
  },
  {
   "cell_type": "code",
   "execution_count": 4,
   "metadata": {},
   "outputs": [
    {
     "data": {
      "text/html": [
       "<pre>Analyzing and extracting image features.</pre>"
      ],
      "text/plain": [
       "Analyzing and extracting image features."
      ]
     },
     "metadata": {},
     "output_type": "display_data"
    },
    {
     "data": {
      "text/html": [
       "<pre>+------------------+--------------+------------------+</pre>"
      ],
      "text/plain": [
       "+------------------+--------------+------------------+"
      ]
     },
     "metadata": {},
     "output_type": "display_data"
    },
    {
     "data": {
      "text/html": [
       "<pre>| Images Processed | Elapsed Time | Percent Complete |</pre>"
      ],
      "text/plain": [
       "| Images Processed | Elapsed Time | Percent Complete |"
      ]
     },
     "metadata": {},
     "output_type": "display_data"
    },
    {
     "data": {
      "text/html": [
       "<pre>+------------------+--------------+------------------+</pre>"
      ],
      "text/plain": [
       "+------------------+--------------+------------------+"
      ]
     },
     "metadata": {},
     "output_type": "display_data"
    },
    {
     "data": {
      "text/html": [
       "<pre>| 64               | 1m 27s       | 2%               |</pre>"
      ],
      "text/plain": [
       "| 64               | 1m 27s       | 2%               |"
      ]
     },
     "metadata": {},
     "output_type": "display_data"
    },
    {
     "data": {
      "text/html": [
       "<pre>| 128              | 1m 28s       | 4%               |</pre>"
      ],
      "text/plain": [
       "| 128              | 1m 28s       | 4%               |"
      ]
     },
     "metadata": {},
     "output_type": "display_data"
    },
    {
     "data": {
      "text/html": [
       "<pre>| 192              | 1m 29s       | 6.25%            |</pre>"
      ],
      "text/plain": [
       "| 192              | 1m 29s       | 6.25%            |"
      ]
     },
     "metadata": {},
     "output_type": "display_data"
    },
    {
     "data": {
      "text/html": [
       "<pre>| 256              | 1m 30s       | 8.25%            |</pre>"
      ],
      "text/plain": [
       "| 256              | 1m 30s       | 8.25%            |"
      ]
     },
     "metadata": {},
     "output_type": "display_data"
    },
    {
     "data": {
      "text/html": [
       "<pre>| 320              | 2m 31s       | 10.25%           |</pre>"
      ],
      "text/plain": [
       "| 320              | 2m 31s       | 10.25%           |"
      ]
     },
     "metadata": {},
     "output_type": "display_data"
    },
    {
     "data": {
      "text/html": [
       "<pre>| 448              | 2m 38s       | 14.5%            |</pre>"
      ],
      "text/plain": [
       "| 448              | 2m 38s       | 14.5%            |"
      ]
     },
     "metadata": {},
     "output_type": "display_data"
    },
    {
     "data": {
      "text/html": [
       "<pre>| 512              | 2m 39s       | 16.5%            |</pre>"
      ],
      "text/plain": [
       "| 512              | 2m 39s       | 16.5%            |"
      ]
     },
     "metadata": {},
     "output_type": "display_data"
    },
    {
     "data": {
      "text/html": [
       "<pre>| 576              | 3m 18s       | 18.75%           |</pre>"
      ],
      "text/plain": [
       "| 576              | 3m 18s       | 18.75%           |"
      ]
     },
     "metadata": {},
     "output_type": "display_data"
    },
    {
     "data": {
      "text/html": [
       "<pre>| 640              | 3m 36s       | 20.75%           |</pre>"
      ],
      "text/plain": [
       "| 640              | 3m 36s       | 20.75%           |"
      ]
     },
     "metadata": {},
     "output_type": "display_data"
    },
    {
     "data": {
      "text/html": [
       "<pre>| 704              | 3m 39s       | 22.75%           |</pre>"
      ],
      "text/plain": [
       "| 704              | 3m 39s       | 22.75%           |"
      ]
     },
     "metadata": {},
     "output_type": "display_data"
    },
    {
     "data": {
      "text/html": [
       "<pre>| 768              | 3m 40s       | 25%              |</pre>"
      ],
      "text/plain": [
       "| 768              | 3m 40s       | 25%              |"
      ]
     },
     "metadata": {},
     "output_type": "display_data"
    },
    {
     "data": {
      "text/html": [
       "<pre>| 832              | 3m 58s       | 27%              |</pre>"
      ],
      "text/plain": [
       "| 832              | 3m 58s       | 27%              |"
      ]
     },
     "metadata": {},
     "output_type": "display_data"
    },
    {
     "data": {
      "text/html": [
       "<pre>| 896              | 4m 37s       | 29%              |</pre>"
      ],
      "text/plain": [
       "| 896              | 4m 37s       | 29%              |"
      ]
     },
     "metadata": {},
     "output_type": "display_data"
    },
    {
     "data": {
      "text/html": [
       "<pre>| 960              | 4m 42s       | 31.25%           |</pre>"
      ],
      "text/plain": [
       "| 960              | 4m 42s       | 31.25%           |"
      ]
     },
     "metadata": {},
     "output_type": "display_data"
    },
    {
     "data": {
      "text/html": [
       "<pre>| 1024             | 4m 43s       | 33.25%           |</pre>"
      ],
      "text/plain": [
       "| 1024             | 4m 43s       | 33.25%           |"
      ]
     },
     "metadata": {},
     "output_type": "display_data"
    },
    {
     "data": {
      "text/html": [
       "<pre>| 1088             | 4m 50s       | 35.25%           |</pre>"
      ],
      "text/plain": [
       "| 1088             | 4m 50s       | 35.25%           |"
      ]
     },
     "metadata": {},
     "output_type": "display_data"
    },
    {
     "data": {
      "text/html": [
       "<pre>| 1152             | 5m 41s       | 37.5%            |</pre>"
      ],
      "text/plain": [
       "| 1152             | 5m 41s       | 37.5%            |"
      ]
     },
     "metadata": {},
     "output_type": "display_data"
    },
    {
     "data": {
      "text/html": [
       "<pre>| 1216             | 5m 59s       | 39.5%            |</pre>"
      ],
      "text/plain": [
       "| 1216             | 5m 59s       | 39.5%            |"
      ]
     },
     "metadata": {},
     "output_type": "display_data"
    },
    {
     "data": {
      "text/html": [
       "<pre>| 1280             | 6m 1s        | 41.5%            |</pre>"
      ],
      "text/plain": [
       "| 1280             | 6m 1s        | 41.5%            |"
      ]
     },
     "metadata": {},
     "output_type": "display_data"
    },
    {
     "data": {
      "text/html": [
       "<pre>| 1344             | 6m 6s        | 43.75%           |</pre>"
      ],
      "text/plain": [
       "| 1344             | 6m 6s        | 43.75%           |"
      ]
     },
     "metadata": {},
     "output_type": "display_data"
    },
    {
     "data": {
      "text/html": [
       "<pre>| 1408             | 6m 29s       | 45.75%           |</pre>"
      ],
      "text/plain": [
       "| 1408             | 6m 29s       | 45.75%           |"
      ]
     },
     "metadata": {},
     "output_type": "display_data"
    },
    {
     "data": {
      "text/html": [
       "<pre>| 1472             | 7m 7s        | 47.75%           |</pre>"
      ],
      "text/plain": [
       "| 1472             | 7m 7s        | 47.75%           |"
      ]
     },
     "metadata": {},
     "output_type": "display_data"
    },
    {
     "data": {
      "text/html": [
       "<pre>| 1536             | 7m 13s       | 50%              |</pre>"
      ],
      "text/plain": [
       "| 1536             | 7m 13s       | 50%              |"
      ]
     },
     "metadata": {},
     "output_type": "display_data"
    },
    {
     "data": {
      "text/html": [
       "<pre>| 1600             | 7m 17s       | 52%              |</pre>"
      ],
      "text/plain": [
       "| 1600             | 7m 17s       | 52%              |"
      ]
     },
     "metadata": {},
     "output_type": "display_data"
    },
    {
     "data": {
      "text/html": [
       "<pre>| 1664             | 7m 26s       | 54%              |</pre>"
      ],
      "text/plain": [
       "| 1664             | 7m 26s       | 54%              |"
      ]
     },
     "metadata": {},
     "output_type": "display_data"
    },
    {
     "data": {
      "text/html": [
       "<pre>| 1728             | 8m 3s        | 56.25%           |</pre>"
      ],
      "text/plain": [
       "| 1728             | 8m 3s        | 56.25%           |"
      ]
     },
     "metadata": {},
     "output_type": "display_data"
    },
    {
     "data": {
      "text/html": [
       "<pre>| 1792             | 8m 32s       | 58.25%           |</pre>"
      ],
      "text/plain": [
       "| 1792             | 8m 32s       | 58.25%           |"
      ]
     },
     "metadata": {},
     "output_type": "display_data"
    },
    {
     "data": {
      "text/html": [
       "<pre>| 1856             | 8m 32s       | 60.25%           |</pre>"
      ],
      "text/plain": [
       "| 1856             | 8m 32s       | 60.25%           |"
      ]
     },
     "metadata": {},
     "output_type": "display_data"
    },
    {
     "data": {
      "text/html": [
       "<pre>| 1920             | 8m 38s       | 62.5%            |</pre>"
      ],
      "text/plain": [
       "| 1920             | 8m 38s       | 62.5%            |"
      ]
     },
     "metadata": {},
     "output_type": "display_data"
    },
    {
     "data": {
      "text/html": [
       "<pre>| 1984             | 8m 55s       | 64.5%            |</pre>"
      ],
      "text/plain": [
       "| 1984             | 8m 55s       | 64.5%            |"
      ]
     },
     "metadata": {},
     "output_type": "display_data"
    },
    {
     "data": {
      "text/html": [
       "<pre>| 2048             | 9m 40s       | 66.5%            |</pre>"
      ],
      "text/plain": [
       "| 2048             | 9m 40s       | 66.5%            |"
      ]
     },
     "metadata": {},
     "output_type": "display_data"
    },
    {
     "data": {
      "text/html": [
       "<pre>| 2112             | 9m 44s       | 68.75%           |</pre>"
      ],
      "text/plain": [
       "| 2112             | 9m 44s       | 68.75%           |"
      ]
     },
     "metadata": {},
     "output_type": "display_data"
    },
    {
     "data": {
      "text/html": [
       "<pre>| 2176             | 9m 46s       | 70.75%           |</pre>"
      ],
      "text/plain": [
       "| 2176             | 9m 46s       | 70.75%           |"
      ]
     },
     "metadata": {},
     "output_type": "display_data"
    },
    {
     "data": {
      "text/html": [
       "<pre>| 2240             | 9m 55s       | 72.75%           |</pre>"
      ],
      "text/plain": [
       "| 2240             | 9m 55s       | 72.75%           |"
      ]
     },
     "metadata": {},
     "output_type": "display_data"
    },
    {
     "data": {
      "text/html": [
       "<pre>| 2304             | 10m 51s      | 75%              |</pre>"
      ],
      "text/plain": [
       "| 2304             | 10m 51s      | 75%              |"
      ]
     },
     "metadata": {},
     "output_type": "display_data"
    },
    {
     "data": {
      "text/html": [
       "<pre>| 2368             | 10m 58s      | 77%              |</pre>"
      ],
      "text/plain": [
       "| 2368             | 10m 58s      | 77%              |"
      ]
     },
     "metadata": {},
     "output_type": "display_data"
    },
    {
     "data": {
      "text/html": [
       "<pre>| 2432             | 11m 1s       | 79%              |</pre>"
      ],
      "text/plain": [
       "| 2432             | 11m 1s       | 79%              |"
      ]
     },
     "metadata": {},
     "output_type": "display_data"
    },
    {
     "data": {
      "text/html": [
       "<pre>| 2496             | 11m 4s       | 81.25%           |</pre>"
      ],
      "text/plain": [
       "| 2496             | 11m 4s       | 81.25%           |"
      ]
     },
     "metadata": {},
     "output_type": "display_data"
    },
    {
     "data": {
      "text/html": [
       "<pre>| 2560             | 11m 36s      | 83.25%           |</pre>"
      ],
      "text/plain": [
       "| 2560             | 11m 36s      | 83.25%           |"
      ]
     },
     "metadata": {},
     "output_type": "display_data"
    },
    {
     "data": {
      "text/html": [
       "<pre>| 2624             | 11m 59s      | 85.25%           |</pre>"
      ],
      "text/plain": [
       "| 2624             | 11m 59s      | 85.25%           |"
      ]
     },
     "metadata": {},
     "output_type": "display_data"
    },
    {
     "data": {
      "text/html": [
       "<pre>| 2688             | 12m 4s       | 87.5%            |</pre>"
      ],
      "text/plain": [
       "| 2688             | 12m 4s       | 87.5%            |"
      ]
     },
     "metadata": {},
     "output_type": "display_data"
    },
    {
     "data": {
      "text/html": [
       "<pre>| 2752             | 12m 6s       | 89.5%            |</pre>"
      ],
      "text/plain": [
       "| 2752             | 12m 6s       | 89.5%            |"
      ]
     },
     "metadata": {},
     "output_type": "display_data"
    },
    {
     "data": {
      "text/html": [
       "<pre>| 2816             | 12m 22s      | 91.5%            |</pre>"
      ],
      "text/plain": [
       "| 2816             | 12m 22s      | 91.5%            |"
      ]
     },
     "metadata": {},
     "output_type": "display_data"
    },
    {
     "data": {
      "text/html": [
       "<pre>| 2880             | 12m 55s      | 93.75%           |</pre>"
      ],
      "text/plain": [
       "| 2880             | 12m 55s      | 93.75%           |"
      ]
     },
     "metadata": {},
     "output_type": "display_data"
    },
    {
     "data": {
      "text/html": [
       "<pre>| 2944             | 12m 59s      | 95.75%           |</pre>"
      ],
      "text/plain": [
       "| 2944             | 12m 59s      | 95.75%           |"
      ]
     },
     "metadata": {},
     "output_type": "display_data"
    },
    {
     "data": {
      "text/html": [
       "<pre>| 3008             | 13m 4s       | 97.75%           |</pre>"
      ],
      "text/plain": [
       "| 3008             | 13m 4s       | 97.75%           |"
      ]
     },
     "metadata": {},
     "output_type": "display_data"
    },
    {
     "data": {
      "text/html": [
       "<pre>| 3058             | 13m 21s      | 100%             |</pre>"
      ],
      "text/plain": [
       "| 3058             | 13m 21s      | 100%             |"
      ]
     },
     "metadata": {},
     "output_type": "display_data"
    },
    {
     "data": {
      "text/html": [
       "<pre>+------------------+--------------+------------------+</pre>"
      ],
      "text/plain": [
       "+------------------+--------------+------------------+"
      ]
     },
     "metadata": {},
     "output_type": "display_data"
    },
    {
     "name": "stdout",
     "output_type": "stream",
     "text": [
      "PROGRESS: Creating a validation set from 5 percent of training data. This may take a while.\n",
      "          You can set ``validation_set=None`` to disable validation tracking.\n",
      "\n"
     ]
    },
    {
     "data": {
      "text/html": [
       "<pre>Logistic regression:</pre>"
      ],
      "text/plain": [
       "Logistic regression:"
      ]
     },
     "metadata": {},
     "output_type": "display_data"
    },
    {
     "data": {
      "text/html": [
       "<pre>--------------------------------------------------------</pre>"
      ],
      "text/plain": [
       "--------------------------------------------------------"
      ]
     },
     "metadata": {},
     "output_type": "display_data"
    },
    {
     "data": {
      "text/html": [
       "<pre>Number of examples          : 2912</pre>"
      ],
      "text/plain": [
       "Number of examples          : 2912"
      ]
     },
     "metadata": {},
     "output_type": "display_data"
    },
    {
     "data": {
      "text/html": [
       "<pre>Number of classes           : 2</pre>"
      ],
      "text/plain": [
       "Number of classes           : 2"
      ]
     },
     "metadata": {},
     "output_type": "display_data"
    },
    {
     "data": {
      "text/html": [
       "<pre>Number of feature columns   : 1</pre>"
      ],
      "text/plain": [
       "Number of feature columns   : 1"
      ]
     },
     "metadata": {},
     "output_type": "display_data"
    },
    {
     "data": {
      "text/html": [
       "<pre>Number of unpacked features : 2048</pre>"
      ],
      "text/plain": [
       "Number of unpacked features : 2048"
      ]
     },
     "metadata": {},
     "output_type": "display_data"
    },
    {
     "data": {
      "text/html": [
       "<pre>Number of coefficients      : 2049</pre>"
      ],
      "text/plain": [
       "Number of coefficients      : 2049"
      ]
     },
     "metadata": {},
     "output_type": "display_data"
    },
    {
     "data": {
      "text/html": [
       "<pre>Starting L-BFGS</pre>"
      ],
      "text/plain": [
       "Starting L-BFGS"
      ]
     },
     "metadata": {},
     "output_type": "display_data"
    },
    {
     "data": {
      "text/html": [
       "<pre>--------------------------------------------------------</pre>"
      ],
      "text/plain": [
       "--------------------------------------------------------"
      ]
     },
     "metadata": {},
     "output_type": "display_data"
    },
    {
     "data": {
      "text/html": [
       "<pre>+-----------+----------+-----------+--------------+-------------------+---------------------+</pre>"
      ],
      "text/plain": [
       "+-----------+----------+-----------+--------------+-------------------+---------------------+"
      ]
     },
     "metadata": {},
     "output_type": "display_data"
    },
    {
     "data": {
      "text/html": [
       "<pre>| Iteration | Passes   | Step size | Elapsed Time | Training Accuracy | Validation Accuracy |</pre>"
      ],
      "text/plain": [
       "| Iteration | Passes   | Step size | Elapsed Time | Training Accuracy | Validation Accuracy |"
      ]
     },
     "metadata": {},
     "output_type": "display_data"
    },
    {
     "data": {
      "text/html": [
       "<pre>+-----------+----------+-----------+--------------+-------------------+---------------------+</pre>"
      ],
      "text/plain": [
       "+-----------+----------+-----------+--------------+-------------------+---------------------+"
      ]
     },
     "metadata": {},
     "output_type": "display_data"
    },
    {
     "data": {
      "text/html": [
       "<pre>| 0         | 1        | NaN       | 0.361247     | 0.606113          | 0.623288            |</pre>"
      ],
      "text/plain": [
       "| 0         | 1        | NaN       | 0.361247     | 0.606113          | 0.623288            |"
      ]
     },
     "metadata": {},
     "output_type": "display_data"
    },
    {
     "data": {
      "text/html": [
       "<pre>| 1         | 7        | 0.000002  | 1.976810     | 0.606113          | 0.623288            |</pre>"
      ],
      "text/plain": [
       "| 1         | 7        | 0.000002  | 1.976810     | 0.606113          | 0.623288            |"
      ]
     },
     "metadata": {},
     "output_type": "display_data"
    },
    {
     "data": {
      "text/html": [
       "<pre>| 2         | 10       | 5.000000  | 3.022030     | 0.874657          | 0.863014            |</pre>"
      ],
      "text/plain": [
       "| 2         | 10       | 5.000000  | 3.022030     | 0.874657          | 0.863014            |"
      ]
     },
     "metadata": {},
     "output_type": "display_data"
    },
    {
     "data": {
      "text/html": [
       "<pre>| 3         | 11       | 5.000000  | 3.488634     | 0.894231          | 0.849315            |</pre>"
      ],
      "text/plain": [
       "| 3         | 11       | 5.000000  | 3.488634     | 0.894231          | 0.849315            |"
      ]
     },
     "metadata": {},
     "output_type": "display_data"
    },
    {
     "data": {
      "text/html": [
       "<pre>| 4         | 12       | 5.000000  | 3.986049     | 0.606113          | 0.623288            |</pre>"
      ],
      "text/plain": [
       "| 4         | 12       | 5.000000  | 3.986049     | 0.606113          | 0.623288            |"
      ]
     },
     "metadata": {},
     "output_type": "display_data"
    },
    {
     "data": {
      "text/html": [
       "<pre>| 5         | 18       | 1.125976  | 5.577124     | 0.890110          | 0.876712            |</pre>"
      ],
      "text/plain": [
       "| 5         | 18       | 1.125976  | 5.577124     | 0.890110          | 0.876712            |"
      ]
     },
     "metadata": {},
     "output_type": "display_data"
    },
    {
     "data": {
      "text/html": [
       "<pre>| 10        | 24       | 1.000000  | 8.137301     | 0.937843          | 0.897260            |</pre>"
      ],
      "text/plain": [
       "| 10        | 24       | 1.000000  | 8.137301     | 0.937843          | 0.897260            |"
      ]
     },
     "metadata": {},
     "output_type": "display_data"
    },
    {
     "data": {
      "text/html": [
       "<pre>| 15        | 30       | 1.000000  | 10.754488    | 0.961195          | 0.917808            |</pre>"
      ],
      "text/plain": [
       "| 15        | 30       | 1.000000  | 10.754488    | 0.961195          | 0.917808            |"
      ]
     },
     "metadata": {},
     "output_type": "display_data"
    },
    {
     "data": {
      "text/html": [
       "<pre>| 20        | 35       | 1.000000  | 13.109964    | 0.981113          | 0.924658            |</pre>"
      ],
      "text/plain": [
       "| 20        | 35       | 1.000000  | 13.109964    | 0.981113          | 0.924658            |"
      ]
     },
     "metadata": {},
     "output_type": "display_data"
    },
    {
     "data": {
      "text/html": [
       "<pre>| 25        | 40       | 1.000000  | 15.456123    | 0.991758          | 0.945205            |</pre>"
      ],
      "text/plain": [
       "| 25        | 40       | 1.000000  | 15.456123    | 0.991758          | 0.945205            |"
      ]
     },
     "metadata": {},
     "output_type": "display_data"
    },
    {
     "data": {
      "text/html": [
       "<pre>| 30        | 45       | 1.000000  | 17.886714    | 0.996223          | 0.945205            |</pre>"
      ],
      "text/plain": [
       "| 30        | 45       | 1.000000  | 17.886714    | 0.996223          | 0.945205            |"
      ]
     },
     "metadata": {},
     "output_type": "display_data"
    },
    {
     "data": {
      "text/html": [
       "<pre>| 35        | 50       | 1.000000  | 20.323928    | 0.997253          | 0.952055            |</pre>"
      ],
      "text/plain": [
       "| 35        | 50       | 1.000000  | 20.323928    | 0.997253          | 0.952055            |"
      ]
     },
     "metadata": {},
     "output_type": "display_data"
    },
    {
     "data": {
      "text/html": [
       "<pre>| 40        | 56       | 1.000000  | 23.015295    | 0.999313          | 0.938356            |</pre>"
      ],
      "text/plain": [
       "| 40        | 56       | 1.000000  | 23.015295    | 0.999313          | 0.938356            |"
      ]
     },
     "metadata": {},
     "output_type": "display_data"
    },
    {
     "data": {
      "text/html": [
       "<pre>| 45        | 62       | 1.000000  | 25.629147    | 0.999313          | 0.945205            |</pre>"
      ],
      "text/plain": [
       "| 45        | 62       | 1.000000  | 25.629147    | 0.999313          | 0.945205            |"
      ]
     },
     "metadata": {},
     "output_type": "display_data"
    },
    {
     "data": {
      "text/html": [
       "<pre>| 50        | 67       | 1.000000  | 28.010240    | 0.999313          | 0.945205            |</pre>"
      ],
      "text/plain": [
       "| 50        | 67       | 1.000000  | 28.010240    | 0.999313          | 0.945205            |"
      ]
     },
     "metadata": {},
     "output_type": "display_data"
    },
    {
     "data": {
      "text/html": [
       "<pre>+-----------+----------+-----------+--------------+-------------------+---------------------+</pre>"
      ],
      "text/plain": [
       "+-----------+----------+-----------+--------------+-------------------+---------------------+"
      ]
     },
     "metadata": {},
     "output_type": "display_data"
    },
    {
     "data": {
      "text/html": [
       "<pre>Completed (Iteration limit reached).</pre>"
      ],
      "text/plain": [
       "Completed (Iteration limit reached)."
      ]
     },
     "metadata": {},
     "output_type": "display_data"
    },
    {
     "data": {
      "text/html": [
       "<pre>This model may not be optimal. To improve it, consider increasing `max_iterations`.</pre>"
      ],
      "text/plain": [
       "This model may not be optimal. To improve it, consider increasing `max_iterations`."
      ]
     },
     "metadata": {},
     "output_type": "display_data"
    },
    {
     "data": {
      "text/html": [
       "<pre>Analyzing and extracting image features.</pre>"
      ],
      "text/plain": [
       "Analyzing and extracting image features."
      ]
     },
     "metadata": {},
     "output_type": "display_data"
    },
    {
     "data": {
      "text/html": [
       "<pre>+------------------+--------------+------------------+</pre>"
      ],
      "text/plain": [
       "+------------------+--------------+------------------+"
      ]
     },
     "metadata": {},
     "output_type": "display_data"
    },
    {
     "data": {
      "text/html": [
       "<pre>| Images Processed | Elapsed Time | Percent Complete |</pre>"
      ],
      "text/plain": [
       "| Images Processed | Elapsed Time | Percent Complete |"
      ]
     },
     "metadata": {},
     "output_type": "display_data"
    },
    {
     "data": {
      "text/html": [
       "<pre>+------------------+--------------+------------------+</pre>"
      ],
      "text/plain": [
       "+------------------+--------------+------------------+"
      ]
     },
     "metadata": {},
     "output_type": "display_data"
    },
    {
     "data": {
      "text/html": [
       "<pre>| 64               | 55.92s       | 10%              |</pre>"
      ],
      "text/plain": [
       "| 64               | 55.92s       | 10%              |"
      ]
     },
     "metadata": {},
     "output_type": "display_data"
    },
    {
     "data": {
      "text/html": [
       "<pre>| 128              | 56.96s       | 20%              |</pre>"
      ],
      "text/plain": [
       "| 128              | 56.96s       | 20%              |"
      ]
     },
     "metadata": {},
     "output_type": "display_data"
    },
    {
     "data": {
      "text/html": [
       "<pre>| 192              | 59.61s       | 30%              |</pre>"
      ],
      "text/plain": [
       "| 192              | 59.61s       | 30%              |"
      ]
     },
     "metadata": {},
     "output_type": "display_data"
    },
    {
     "data": {
      "text/html": [
       "<pre>| 256              | 59.87s       | 40%              |</pre>"
      ],
      "text/plain": [
       "| 256              | 59.87s       | 40%              |"
      ]
     },
     "metadata": {},
     "output_type": "display_data"
    },
    {
     "data": {
      "text/html": [
       "<pre>| 320              | 1m 48s       | 50%              |</pre>"
      ],
      "text/plain": [
       "| 320              | 1m 48s       | 50%              |"
      ]
     },
     "metadata": {},
     "output_type": "display_data"
    },
    {
     "data": {
      "text/html": [
       "<pre>| 448              | 1m 54s       | 70%              |</pre>"
      ],
      "text/plain": [
       "| 448              | 1m 54s       | 70%              |"
      ]
     },
     "metadata": {},
     "output_type": "display_data"
    },
    {
     "data": {
      "text/html": [
       "<pre>| 512              | 1m 54s       | 80%              |</pre>"
      ],
      "text/plain": [
       "| 512              | 1m 54s       | 80%              |"
      ]
     },
     "metadata": {},
     "output_type": "display_data"
    },
    {
     "data": {
      "text/html": [
       "<pre>| 576              | 2m 16s       | 90%              |</pre>"
      ],
      "text/plain": [
       "| 576              | 2m 16s       | 90%              |"
      ]
     },
     "metadata": {},
     "output_type": "display_data"
    },
    {
     "data": {
      "text/html": [
       "<pre>| 612              | 2m 20s       | 100%             |</pre>"
      ],
      "text/plain": [
       "| 612              | 2m 20s       | 100%             |"
      ]
     },
     "metadata": {},
     "output_type": "display_data"
    },
    {
     "data": {
      "text/html": [
       "<pre>+------------------+--------------+------------------+</pre>"
      ],
      "text/plain": [
       "+------------------+--------------+------------------+"
      ]
     },
     "metadata": {},
     "output_type": "display_data"
    },
    {
     "name": "stdout",
     "output_type": "stream",
     "text": [
      "0.978758169935\n",
      "||check wrong prediction||\n"
     ]
    },
    {
     "data": {
      "text/html": [
       "<div style=\"max-height:1000px;max-width:1500px;overflow:auto;\"><table frame=\"box\" rules=\"cols\">\n",
       "    <tr>\n",
       "        <th style=\"padding-left: 1em; padding-right: 1em; text-align: center\">path</th>\n",
       "        <th style=\"padding-left: 1em; padding-right: 1em; text-align: center\">image</th>\n",
       "        <th style=\"padding-left: 1em; padding-right: 1em; text-align: center\">label</th>\n",
       "    </tr>\n",
       "    <tr>\n",
       "        <td style=\"padding-left: 1em; padding-right: 1em; text-align: center; vertical-align: top\">test/t0/2013-07-24<br>22-37-52 M 01_01.JPG ...</td>\n",
       "        <td style=\"padding-left: 1em; padding-right: 1em; text-align: center; vertical-align: top\">Height: 1536 Width: 2048</td>\n",
       "        <td style=\"padding-left: 1em; padding-right: 1em; text-align: center; vertical-align: top\">0</td>\n",
       "    </tr>\n",
       "    <tr>\n",
       "        <td style=\"padding-left: 1em; padding-right: 1em; text-align: center; vertical-align: top\">test/t0/2013-07-24<br>22-53-55 M 01_01.JPG ...</td>\n",
       "        <td style=\"padding-left: 1em; padding-right: 1em; text-align: center; vertical-align: top\">Height: 1536 Width: 2048</td>\n",
       "        <td style=\"padding-left: 1em; padding-right: 1em; text-align: center; vertical-align: top\">0</td>\n",
       "    </tr>\n",
       "    <tr>\n",
       "        <td style=\"padding-left: 1em; padding-right: 1em; text-align: center; vertical-align: top\">test/t0/2013-07-25<br>20-04-03 M 01_01.JPG ...</td>\n",
       "        <td style=\"padding-left: 1em; padding-right: 1em; text-align: center; vertical-align: top\">Height: 1536 Width: 2048</td>\n",
       "        <td style=\"padding-left: 1em; padding-right: 1em; text-align: center; vertical-align: top\">0</td>\n",
       "    </tr>\n",
       "    <tr>\n",
       "        <td style=\"padding-left: 1em; padding-right: 1em; text-align: center; vertical-align: top\">test/t0/2013-07-25<br>20-16-43 M 01_01.JPG ...</td>\n",
       "        <td style=\"padding-left: 1em; padding-right: 1em; text-align: center; vertical-align: top\">Height: 1536 Width: 2048</td>\n",
       "        <td style=\"padding-left: 1em; padding-right: 1em; text-align: center; vertical-align: top\">0</td>\n",
       "    </tr>\n",
       "    <tr>\n",
       "        <td style=\"padding-left: 1em; padding-right: 1em; text-align: center; vertical-align: top\">test/t0/2013-07-25<br>20-16-58 M 01_01.JPG ...</td>\n",
       "        <td style=\"padding-left: 1em; padding-right: 1em; text-align: center; vertical-align: top\">Height: 1536 Width: 2048</td>\n",
       "        <td style=\"padding-left: 1em; padding-right: 1em; text-align: center; vertical-align: top\">0</td>\n",
       "    </tr>\n",
       "    <tr>\n",
       "        <td style=\"padding-left: 1em; padding-right: 1em; text-align: center; vertical-align: top\">test/t0/2013-07-25<br>20-17-28 M 01_01.JPG ...</td>\n",
       "        <td style=\"padding-left: 1em; padding-right: 1em; text-align: center; vertical-align: top\">Height: 1536 Width: 2048</td>\n",
       "        <td style=\"padding-left: 1em; padding-right: 1em; text-align: center; vertical-align: top\">0</td>\n",
       "    </tr>\n",
       "    <tr>\n",
       "        <td style=\"padding-left: 1em; padding-right: 1em; text-align: center; vertical-align: top\">test/t0/2013-07-25<br>20-17-48 M 01_01.JPG ...</td>\n",
       "        <td style=\"padding-left: 1em; padding-right: 1em; text-align: center; vertical-align: top\">Height: 1536 Width: 2048</td>\n",
       "        <td style=\"padding-left: 1em; padding-right: 1em; text-align: center; vertical-align: top\">0</td>\n",
       "    </tr>\n",
       "    <tr>\n",
       "        <td style=\"padding-left: 1em; padding-right: 1em; text-align: center; vertical-align: top\">test/t0/2013-07-26<br>16-22-09 M 01_01.JPG ...</td>\n",
       "        <td style=\"padding-left: 1em; padding-right: 1em; text-align: center; vertical-align: top\">Height: 1536 Width: 2048</td>\n",
       "        <td style=\"padding-left: 1em; padding-right: 1em; text-align: center; vertical-align: top\">0</td>\n",
       "    </tr>\n",
       "    <tr>\n",
       "        <td style=\"padding-left: 1em; padding-right: 1em; text-align: center; vertical-align: top\">test/t0/2013-07-26<br>16-22-44 M 01_01.JPG ...</td>\n",
       "        <td style=\"padding-left: 1em; padding-right: 1em; text-align: center; vertical-align: top\">Height: 1536 Width: 2048</td>\n",
       "        <td style=\"padding-left: 1em; padding-right: 1em; text-align: center; vertical-align: top\">0</td>\n",
       "    </tr>\n",
       "    <tr>\n",
       "        <td style=\"padding-left: 1em; padding-right: 1em; text-align: center; vertical-align: top\">test/t0/2013-07-26<br>16-22-53 M 01_01.JPG ...</td>\n",
       "        <td style=\"padding-left: 1em; padding-right: 1em; text-align: center; vertical-align: top\">Height: 1536 Width: 2048</td>\n",
       "        <td style=\"padding-left: 1em; padding-right: 1em; text-align: center; vertical-align: top\">0</td>\n",
       "    </tr>\n",
       "</table>\n",
       "[13 rows x 3 columns]<br/>Note: Only the head of the SFrame is printed.<br/>You can use print_rows(num_rows=m, num_columns=n) to print more rows and columns.\n",
       "</div>"
      ],
      "text/plain": [
       "Columns:\n",
       "\tpath\tstr\n",
       "\timage\tImage\n",
       "\tlabel\tstr\n",
       "\n",
       "Rows: 13\n",
       "\n",
       "Data:\n",
       "+-------------------------------+--------------------------+-------+\n",
       "|              path             |          image           | label |\n",
       "+-------------------------------+--------------------------+-------+\n",
       "| test/t0/2013-07-24 22-37-5... | Height: 1536 Width: 2048 |   0   |\n",
       "| test/t0/2013-07-24 22-53-5... | Height: 1536 Width: 2048 |   0   |\n",
       "| test/t0/2013-07-25 20-04-0... | Height: 1536 Width: 2048 |   0   |\n",
       "| test/t0/2013-07-25 20-16-4... | Height: 1536 Width: 2048 |   0   |\n",
       "| test/t0/2013-07-25 20-16-5... | Height: 1536 Width: 2048 |   0   |\n",
       "| test/t0/2013-07-25 20-17-2... | Height: 1536 Width: 2048 |   0   |\n",
       "| test/t0/2013-07-25 20-17-4... | Height: 1536 Width: 2048 |   0   |\n",
       "| test/t0/2013-07-26 16-22-0... | Height: 1536 Width: 2048 |   0   |\n",
       "| test/t0/2013-07-26 16-22-4... | Height: 1536 Width: 2048 |   0   |\n",
       "| test/t0/2013-07-26 16-22-5... | Height: 1536 Width: 2048 |   0   |\n",
       "+-------------------------------+--------------------------+-------+\n",
       "[13 rows x 3 columns]\n",
       "Note: Only the head of the SFrame is printed.\n",
       "You can use print_rows(num_rows=m, num_columns=n) to print more rows and columns."
      ]
     },
     "execution_count": 4,
     "metadata": {},
     "output_type": "execute_result"
    }
   ],
   "source": [
    "model = tc.image_classifier.create(data, target='label',max_iterations=50)\n",
    "predictions = model.predict(test_data)\n",
    "metrics = model.evaluate(test_data)\n",
    "print(metrics['accuracy'])\n",
    "\n",
    "#save the model\n",
    "model.save('Falcon_model.model')\n",
    "\n",
    "\n",
    "print('||check wrong prediction||')\n",
    "test_data[test_data['label']!=predictions]"
   ]
  },
  {
   "cell_type": "code",
   "execution_count": 15,
   "metadata": {},
   "outputs": [
    {
     "name": "stdout",
     "output_type": "stream",
     "text": [
      "+-------------------------------+--------------------------+-------+------------+\n",
      "|              path             |          image           | label | prediction |\n",
      "+-------------------------------+--------------------------+-------+------------+\n",
      "| test/t0/2013-07-24 22-30-1... | Height: 1536 Width: 2048 |   0   |     0      |\n",
      "| test/t0/2013-07-24 22-30-5... | Height: 1536 Width: 2048 |   0   |     0      |\n",
      "| test/t0/2013-07-24 22-30-5... | Height: 1536 Width: 2048 |   0   |     0      |\n",
      "| test/t0/2013-07-24 22-31-0... | Height: 1536 Width: 2048 |   0   |     0      |\n",
      "| test/t0/2013-07-24 22-31-0... | Height: 1536 Width: 2048 |   0   |     0      |\n",
      "| test/t0/2013-07-24 22-31-0... | Height: 1536 Width: 2048 |   0   |     0      |\n",
      "| test/t0/2013-07-24 22-31-3... | Height: 1536 Width: 2048 |   0   |     0      |\n",
      "| test/t0/2013-07-24 22-31-4... | Height: 1536 Width: 2048 |   0   |     0      |\n",
      "| test/t0/2013-07-24 22-31-4... | Height: 1536 Width: 2048 |   0   |     0      |\n",
      "| test/t0/2013-07-24 22-31-5... | Height: 1536 Width: 2048 |   0   |     0      |\n",
      "+-------------------------------+--------------------------+-------+------------+\n",
      "[612 rows x 4 columns]\n",
      "Note: Only the head of the SFrame is printed.\n",
      "You can use print_rows(num_rows=m, num_columns=n) to print more rows and columns.\n"
     ]
    }
   ],
   "source": [
    "from turicreate import SFrame\n",
    "test_data['prediction'] = predictions\n",
    "result = test_data \n",
    "#print(predictions)\n",
    "print(result)\n",
    "result.save('result.csv',format='csv')"
   ]
  }
 ],
 "metadata": {
  "kernelspec": {
   "display_name": "Python 2",
   "language": "python",
   "name": "python2"
  },
  "language_info": {
   "codemirror_mode": {
    "name": "ipython",
    "version": 2
   },
   "file_extension": ".py",
   "mimetype": "text/x-python",
   "name": "python",
   "nbconvert_exporter": "python",
   "pygments_lexer": "ipython2",
   "version": "2.7.15"
  }
 },
 "nbformat": 4,
 "nbformat_minor": 2
}
