{
 "cells": [
  {
   "cell_type": "code",
   "execution_count": 1,
   "metadata": {},
   "outputs": [
    {
     "name": "stdout",
     "output_type": "stream",
     "text": [
      "WARNING: You are using MXNet 1.4.0 which may result in breaking behavior.\n",
      "         To fix this, please install the currently recommended version:\n",
      "\n",
      "             pip uninstall -y mxnet && pip install mxnet==1.1.0\n",
      "\n",
      "         If you want to use a CUDA GPU, then change 'mxnet' to 'mxnet-cu90' (adjust 'cu90' depending on your CUDA version):\n",
      "\n"
     ]
    },
    {
     "data": {
      "text/html": [
       "<pre>Unexpected JPEG decode failure\t file: PetImages/Cat/10073.jpg</pre>"
      ],
      "text/plain": [
       "Unexpected JPEG decode failure\t file: PetImages/Cat/10073.jpg"
      ]
     },
     "metadata": {},
     "output_type": "display_data"
    },
    {
     "data": {
      "text/html": [
       "<pre>Unexpected JPEG decode failure\t file: PetImages/Cat/10125.jpg</pre>"
      ],
      "text/plain": [
       "Unexpected JPEG decode failure\t file: PetImages/Cat/10125.jpg"
      ]
     },
     "metadata": {},
     "output_type": "display_data"
    },
    {
     "data": {
      "text/html": [
       "<pre>Unexpected JPEG decode failure\t file: PetImages/Cat/10404.jpg</pre>"
      ],
      "text/plain": [
       "Unexpected JPEG decode failure\t file: PetImages/Cat/10404.jpg"
      ]
     },
     "metadata": {},
     "output_type": "display_data"
    },
    {
     "data": {
      "text/html": [
       "<pre>Unexpected JPEG decode failure\t file: PetImages/Cat/10501.jpg</pre>"
      ],
      "text/plain": [
       "Unexpected JPEG decode failure\t file: PetImages/Cat/10501.jpg"
      ]
     },
     "metadata": {},
     "output_type": "display_data"
    },
    {
     "data": {
      "text/html": [
       "<pre>Unexpected JPEG decode failure\t file: PetImages/Cat/10820.jpg</pre>"
      ],
      "text/plain": [
       "Unexpected JPEG decode failure\t file: PetImages/Cat/10820.jpg"
      ]
     },
     "metadata": {},
     "output_type": "display_data"
    },
    {
     "data": {
      "text/html": [
       "<pre>Unexpected JPEG decode failure\t file: PetImages/Cat/10874.jpg</pre>"
      ],
      "text/plain": [
       "Unexpected JPEG decode failure\t file: PetImages/Cat/10874.jpg"
      ]
     },
     "metadata": {},
     "output_type": "display_data"
    },
    {
     "data": {
      "text/html": [
       "<pre>Unexpected JPEG decode failure\t file: PetImages/Cat/11083.jpg</pre>"
      ],
      "text/plain": [
       "Unexpected JPEG decode failure\t file: PetImages/Cat/11083.jpg"
      ]
     },
     "metadata": {},
     "output_type": "display_data"
    },
    {
     "data": {
      "text/html": [
       "<pre>Unexpected JPEG decode failure\t file: PetImages/Cat/11086.jpg</pre>"
      ],
      "text/plain": [
       "Unexpected JPEG decode failure\t file: PetImages/Cat/11086.jpg"
      ]
     },
     "metadata": {},
     "output_type": "display_data"
    },
    {
     "data": {
      "text/html": [
       "<pre>Unexpected JPEG decode failure\t file: PetImages/Cat/11095.jpg</pre>"
      ],
      "text/plain": [
       "Unexpected JPEG decode failure\t file: PetImages/Cat/11095.jpg"
      ]
     },
     "metadata": {},
     "output_type": "display_data"
    },
    {
     "data": {
      "text/html": [
       "<pre>Unexpected JPEG decode failure\t file: PetImages/Cat/11210.jpg</pre>"
      ],
      "text/plain": [
       "Unexpected JPEG decode failure\t file: PetImages/Cat/11210.jpg"
      ]
     },
     "metadata": {},
     "output_type": "display_data"
    },
    {
     "data": {
      "text/html": [
       "<pre>Unexpected JPEG decode failure\t file: PetImages/Cat/11397.jpg</pre>"
      ],
      "text/plain": [
       "Unexpected JPEG decode failure\t file: PetImages/Cat/11397.jpg"
      ]
     },
     "metadata": {},
     "output_type": "display_data"
    },
    {
     "data": {
      "text/html": [
       "<pre>Unexpected JPEG decode failure\t file: PetImages/Cat/1151.jpg</pre>"
      ],
      "text/plain": [
       "Unexpected JPEG decode failure\t file: PetImages/Cat/1151.jpg"
      ]
     },
     "metadata": {},
     "output_type": "display_data"
    },
    {
     "data": {
      "text/html": [
       "<pre>Unexpected JPEG decode failure\t file: PetImages/Cat/11565.jpg</pre>"
      ],
      "text/plain": [
       "Unexpected JPEG decode failure\t file: PetImages/Cat/11565.jpg"
      ]
     },
     "metadata": {},
     "output_type": "display_data"
    },
    {
     "data": {
      "text/html": [
       "<pre>Unexpected JPEG decode failure\t file: PetImages/Cat/11729.jpg</pre>"
      ],
      "text/plain": [
       "Unexpected JPEG decode failure\t file: PetImages/Cat/11729.jpg"
      ]
     },
     "metadata": {},
     "output_type": "display_data"
    },
    {
     "data": {
      "text/html": [
       "<pre>Unexpected JPEG decode failure\t file: PetImages/Cat/11864.jpg</pre>"
      ],
      "text/plain": [
       "Unexpected JPEG decode failure\t file: PetImages/Cat/11864.jpg"
      ]
     },
     "metadata": {},
     "output_type": "display_data"
    },
    {
     "data": {
      "text/html": [
       "<pre>Unexpected JPEG decode failure\t file: PetImages/Cat/11874.jpg</pre>"
      ],
      "text/plain": [
       "Unexpected JPEG decode failure\t file: PetImages/Cat/11874.jpg"
      ]
     },
     "metadata": {},
     "output_type": "display_data"
    },
    {
     "data": {
      "text/html": [
       "<pre>Unexpected JPEG decode failure\t file: PetImages/Cat/11935.jpg</pre>"
      ],
      "text/plain": [
       "Unexpected JPEG decode failure\t file: PetImages/Cat/11935.jpg"
      ]
     },
     "metadata": {},
     "output_type": "display_data"
    },
    {
     "data": {
      "text/html": [
       "<pre>Unexpected JPEG decode failure\t file: PetImages/Cat/12080.jpg</pre>"
      ],
      "text/plain": [
       "Unexpected JPEG decode failure\t file: PetImages/Cat/12080.jpg"
      ]
     },
     "metadata": {},
     "output_type": "display_data"
    },
    {
     "data": {
      "text/html": [
       "<pre>Unexpected JPEG decode failure\t file: PetImages/Cat/12235.jpg</pre>"
      ],
      "text/plain": [
       "Unexpected JPEG decode failure\t file: PetImages/Cat/12235.jpg"
      ]
     },
     "metadata": {},
     "output_type": "display_data"
    },
    {
     "data": {
      "text/html": [
       "<pre>Unexpected JPEG decode failure\t file: PetImages/Cat/12269.jpg</pre>"
      ],
      "text/plain": [
       "Unexpected JPEG decode failure\t file: PetImages/Cat/12269.jpg"
      ]
     },
     "metadata": {},
     "output_type": "display_data"
    },
    {
     "data": {
      "text/html": [
       "<pre>Read 2770 images in 5.00107 secs\tspeed: 553.882 file/sec</pre>"
      ],
      "text/plain": [
       "Read 2770 images in 5.00107 secs\tspeed: 553.882 file/sec"
      ]
     },
     "metadata": {},
     "output_type": "display_data"
    },
    {
     "data": {
      "text/html": [
       "<pre>Unexpected JPEG decode failure\t file: PetImages/Cat/1267.jpg</pre>"
      ],
      "text/plain": [
       "Unexpected JPEG decode failure\t file: PetImages/Cat/1267.jpg"
      ]
     },
     "metadata": {},
     "output_type": "display_data"
    },
    {
     "data": {
      "text/html": [
       "<pre>Unexpected JPEG decode failure\t file: PetImages/Cat/1386.jpg</pre>"
      ],
      "text/plain": [
       "Unexpected JPEG decode failure\t file: PetImages/Cat/1386.jpg"
      ]
     },
     "metadata": {},
     "output_type": "display_data"
    },
    {
     "data": {
      "text/html": [
       "<pre>Unexpected JPEG decode failure\t file: PetImages/Cat/140.jpg</pre>"
      ],
      "text/plain": [
       "Unexpected JPEG decode failure\t file: PetImages/Cat/140.jpg"
      ]
     },
     "metadata": {},
     "output_type": "display_data"
    },
    {
     "data": {
      "text/html": [
       "<pre>Unexpected JPEG decode failure\t file: PetImages/Cat/1757.jpg</pre>"
      ],
      "text/plain": [
       "Unexpected JPEG decode failure\t file: PetImages/Cat/1757.jpg"
      ]
     },
     "metadata": {},
     "output_type": "display_data"
    },
    {
     "data": {
      "text/html": [
       "<pre>Unexpected JPEG decode failure\t file: PetImages/Cat/1914.jpg</pre>"
      ],
      "text/plain": [
       "Unexpected JPEG decode failure\t file: PetImages/Cat/1914.jpg"
      ]
     },
     "metadata": {},
     "output_type": "display_data"
    },
    {
     "data": {
      "text/html": [
       "<pre>Unexpected JPEG decode failure\t file: PetImages/Cat/1936.jpg</pre>"
      ],
      "text/plain": [
       "Unexpected JPEG decode failure\t file: PetImages/Cat/1936.jpg"
      ]
     },
     "metadata": {},
     "output_type": "display_data"
    },
    {
     "data": {
      "text/html": [
       "<pre>Unexpected JPEG decode failure\t file: PetImages/Cat/1937.jpg</pre>"
      ],
      "text/plain": [
       "Unexpected JPEG decode failure\t file: PetImages/Cat/1937.jpg"
      ]
     },
     "metadata": {},
     "output_type": "display_data"
    },
    {
     "data": {
      "text/html": [
       "<pre>Unexpected JPEG decode failure\t file: PetImages/Cat/2021.jpg</pre>"
      ],
      "text/plain": [
       "Unexpected JPEG decode failure\t file: PetImages/Cat/2021.jpg"
      ]
     },
     "metadata": {},
     "output_type": "display_data"
    },
    {
     "data": {
      "text/html": [
       "<pre>Unexpected JPEG decode failure\t file: PetImages/Cat/2189.jpg</pre>"
      ],
      "text/plain": [
       "Unexpected JPEG decode failure\t file: PetImages/Cat/2189.jpg"
      ]
     },
     "metadata": {},
     "output_type": "display_data"
    },
    {
     "data": {
      "text/html": [
       "<pre>Unexpected JPEG decode failure\t file: PetImages/Cat/23.jpg</pre>"
      ],
      "text/plain": [
       "Unexpected JPEG decode failure\t file: PetImages/Cat/23.jpg"
      ]
     },
     "metadata": {},
     "output_type": "display_data"
    },
    {
     "data": {
      "text/html": [
       "<pre>Unexpected JPEG decode failure\t file: PetImages/Cat/2569.jpg</pre>"
      ],
      "text/plain": [
       "Unexpected JPEG decode failure\t file: PetImages/Cat/2569.jpg"
      ]
     },
     "metadata": {},
     "output_type": "display_data"
    },
    {
     "data": {
      "text/html": [
       "<pre>Unexpected JPEG decode failure\t file: PetImages/Cat/2663.jpg</pre>"
      ],
      "text/plain": [
       "Unexpected JPEG decode failure\t file: PetImages/Cat/2663.jpg"
      ]
     },
     "metadata": {},
     "output_type": "display_data"
    },
    {
     "data": {
      "text/html": [
       "<pre>Unexpected JPEG decode failure\t file: PetImages/Cat/2742.jpg</pre>"
      ],
      "text/plain": [
       "Unexpected JPEG decode failure\t file: PetImages/Cat/2742.jpg"
      ]
     },
     "metadata": {},
     "output_type": "display_data"
    },
    {
     "data": {
      "text/html": [
       "<pre>Unexpected JPEG decode failure\t file: PetImages/Cat/3153.jpg</pre>"
      ],
      "text/plain": [
       "Unexpected JPEG decode failure\t file: PetImages/Cat/3153.jpg"
      ]
     },
     "metadata": {},
     "output_type": "display_data"
    },
    {
     "data": {
      "text/html": [
       "<pre>Unexpected JPEG decode failure\t file: PetImages/Cat/3161.jpg</pre>"
      ],
      "text/plain": [
       "Unexpected JPEG decode failure\t file: PetImages/Cat/3161.jpg"
      ]
     },
     "metadata": {},
     "output_type": "display_data"
    },
    {
     "data": {
      "text/html": [
       "<pre>Unexpected JPEG decode failure\t file: PetImages/Cat/3197.jpg</pre>"
      ],
      "text/plain": [
       "Unexpected JPEG decode failure\t file: PetImages/Cat/3197.jpg"
      ]
     },
     "metadata": {},
     "output_type": "display_data"
    },
    {
     "data": {
      "text/html": [
       "<pre>Unexpected JPEG decode failure\t file: PetImages/Cat/3300.jpg</pre>"
      ],
      "text/plain": [
       "Unexpected JPEG decode failure\t file: PetImages/Cat/3300.jpg"
      ]
     },
     "metadata": {},
     "output_type": "display_data"
    },
    {
     "data": {
      "text/html": [
       "<pre>Unexpected JPEG decode failure\t file: PetImages/Cat/3491.jpg</pre>"
      ],
      "text/plain": [
       "Unexpected JPEG decode failure\t file: PetImages/Cat/3491.jpg"
      ]
     },
     "metadata": {},
     "output_type": "display_data"
    },
    {
     "data": {
      "text/html": [
       "<pre>Unexpected JPEG decode failure\t file: PetImages/Cat/3649.jpg</pre>"
      ],
      "text/plain": [
       "Unexpected JPEG decode failure\t file: PetImages/Cat/3649.jpg"
      ]
     },
     "metadata": {},
     "output_type": "display_data"
    },
    {
     "data": {
      "text/html": [
       "<pre>Unexpected JPEG decode failure\t file: PetImages/Cat/3710.jpg</pre>"
      ],
      "text/plain": [
       "Unexpected JPEG decode failure\t file: PetImages/Cat/3710.jpg"
      ]
     },
     "metadata": {},
     "output_type": "display_data"
    },
    {
     "data": {
      "text/html": [
       "<pre>Read 5581 images in 10.0024 secs\tspeed: 562.053 file/sec</pre>"
      ],
      "text/plain": [
       "Read 5581 images in 10.0024 secs\tspeed: 562.053 file/sec"
      ]
     },
     "metadata": {},
     "output_type": "display_data"
    },
    {
     "data": {
      "text/html": [
       "<pre>Unexpected JPEG decode failure\t file: PetImages/Cat/391.jpg</pre>"
      ],
      "text/plain": [
       "Unexpected JPEG decode failure\t file: PetImages/Cat/391.jpg"
      ]
     },
     "metadata": {},
     "output_type": "display_data"
    },
    {
     "data": {
      "text/html": [
       "<pre>Unexpected JPEG decode failure\t file: PetImages/Cat/3967.jpg</pre>"
      ],
      "text/plain": [
       "Unexpected JPEG decode failure\t file: PetImages/Cat/3967.jpg"
      ]
     },
     "metadata": {},
     "output_type": "display_data"
    },
    {
     "data": {
      "text/html": [
       "<pre>Unexpected JPEG decode failure\t file: PetImages/Cat/4000.jpg</pre>"
      ],
      "text/plain": [
       "Unexpected JPEG decode failure\t file: PetImages/Cat/4000.jpg"
      ]
     },
     "metadata": {},
     "output_type": "display_data"
    },
    {
     "data": {
      "text/html": [
       "<pre>Unexpected JPEG decode failure\t file: PetImages/Cat/4293.jpg</pre>"
      ],
      "text/plain": [
       "Unexpected JPEG decode failure\t file: PetImages/Cat/4293.jpg"
      ]
     },
     "metadata": {},
     "output_type": "display_data"
    },
    {
     "data": {
      "text/html": [
       "<pre>Unexpected JPEG decode failure\t file: PetImages/Cat/4322.jpg</pre>"
      ],
      "text/plain": [
       "Unexpected JPEG decode failure\t file: PetImages/Cat/4322.jpg"
      ]
     },
     "metadata": {},
     "output_type": "display_data"
    },
    {
     "data": {
      "text/html": [
       "<pre>Unexpected JPEG decode failure\t file: PetImages/Cat/4334.jpg</pre>"
      ],
      "text/plain": [
       "Unexpected JPEG decode failure\t file: PetImages/Cat/4334.jpg"
      ]
     },
     "metadata": {},
     "output_type": "display_data"
    },
    {
     "data": {
      "text/html": [
       "<pre>Unexpected JPEG decode failure\t file: PetImages/Cat/4351.jpg</pre>"
      ],
      "text/plain": [
       "Unexpected JPEG decode failure\t file: PetImages/Cat/4351.jpg"
      ]
     },
     "metadata": {},
     "output_type": "display_data"
    },
    {
     "data": {
      "text/html": [
       "<pre>Unexpected JPEG decode failure\t file: PetImages/Cat/445.jpg</pre>"
      ],
      "text/plain": [
       "Unexpected JPEG decode failure\t file: PetImages/Cat/445.jpg"
      ]
     },
     "metadata": {},
     "output_type": "display_data"
    },
    {
     "data": {
      "text/html": [
       "<pre>Unexpected JPEG decode failure\t file: PetImages/Cat/4629.jpg</pre>"
      ],
      "text/plain": [
       "Unexpected JPEG decode failure\t file: PetImages/Cat/4629.jpg"
      ]
     },
     "metadata": {},
     "output_type": "display_data"
    },
    {
     "data": {
      "text/html": [
       "<pre>Unexpected JPEG decode failure\t file: PetImages/Cat/4750.jpg</pre>"
      ],
      "text/plain": [
       "Unexpected JPEG decode failure\t file: PetImages/Cat/4750.jpg"
      ]
     },
     "metadata": {},
     "output_type": "display_data"
    },
    {
     "data": {
      "text/html": [
       "<pre>Unexpected JPEG decode failure\t file: PetImages/Cat/4821.jpg</pre>"
      ],
      "text/plain": [
       "Unexpected JPEG decode failure\t file: PetImages/Cat/4821.jpg"
      ]
     },
     "metadata": {},
     "output_type": "display_data"
    },
    {
     "data": {
      "text/html": [
       "<pre>Unexpected JPEG decode failure\t file: PetImages/Cat/4833.jpg</pre>"
      ],
      "text/plain": [
       "Unexpected JPEG decode failure\t file: PetImages/Cat/4833.jpg"
      ]
     },
     "metadata": {},
     "output_type": "display_data"
    },
    {
     "data": {
      "text/html": [
       "<pre>Unexpected JPEG decode failure\t file: PetImages/Cat/4874.jpg</pre>"
      ],
      "text/plain": [
       "Unexpected JPEG decode failure\t file: PetImages/Cat/4874.jpg"
      ]
     },
     "metadata": {},
     "output_type": "display_data"
    },
    {
     "data": {
      "text/html": [
       "<pre>Unexpected JPEG decode failure\t file: PetImages/Cat/4929.jpg</pre>"
      ],
      "text/plain": [
       "Unexpected JPEG decode failure\t file: PetImages/Cat/4929.jpg"
      ]
     },
     "metadata": {},
     "output_type": "display_data"
    },
    {
     "data": {
      "text/html": [
       "<pre>Unexpected JPEG decode failure\t file: PetImages/Cat/5077.jpg</pre>"
      ],
      "text/plain": [
       "Unexpected JPEG decode failure\t file: PetImages/Cat/5077.jpg"
      ]
     },
     "metadata": {},
     "output_type": "display_data"
    },
    {
     "data": {
      "text/html": [
       "<pre>Unexpected JPEG decode failure\t file: PetImages/Cat/5370.jpg</pre>"
      ],
      "text/plain": [
       "Unexpected JPEG decode failure\t file: PetImages/Cat/5370.jpg"
      ]
     },
     "metadata": {},
     "output_type": "display_data"
    },
    {
     "data": {
      "text/html": [
       "<pre>Unexpected JPEG decode failure\t file: PetImages/Cat/5553.jpg</pre>"
      ],
      "text/plain": [
       "Unexpected JPEG decode failure\t file: PetImages/Cat/5553.jpg"
      ]
     },
     "metadata": {},
     "output_type": "display_data"
    },
    {
     "data": {
      "text/html": [
       "<pre>Unexpected JPEG decode failure\t file: PetImages/Cat/5614.jpg</pre>"
      ],
      "text/plain": [
       "Unexpected JPEG decode failure\t file: PetImages/Cat/5614.jpg"
      ]
     },
     "metadata": {},
     "output_type": "display_data"
    },
    {
     "data": {
      "text/html": [
       "<pre>Unexpected JPEG decode failure\t file: PetImages/Cat/5819.jpg</pre>"
      ],
      "text/plain": [
       "Unexpected JPEG decode failure\t file: PetImages/Cat/5819.jpg"
      ]
     },
     "metadata": {},
     "output_type": "display_data"
    },
    {
     "data": {
      "text/html": [
       "<pre>Unexpected JPEG decode failure\t file: PetImages/Cat/6029.jpg</pre>"
      ],
      "text/plain": [
       "Unexpected JPEG decode failure\t file: PetImages/Cat/6029.jpg"
      ]
     },
     "metadata": {},
     "output_type": "display_data"
    },
    {
     "data": {
      "text/html": [
       "<pre>Read 8377 images in 15.003 secs\tspeed: 559.134 file/sec</pre>"
      ],
      "text/plain": [
       "Read 8377 images in 15.003 secs\tspeed: 559.134 file/sec"
      ]
     },
     "metadata": {},
     "output_type": "display_data"
    },
    {
     "data": {
      "text/html": [
       "<pre>Unexpected JPEG decode failure\t file: PetImages/Cat/6376.jpg</pre>"
      ],
      "text/plain": [
       "Unexpected JPEG decode failure\t file: PetImages/Cat/6376.jpg"
      ]
     },
     "metadata": {},
     "output_type": "display_data"
    },
    {
     "data": {
      "text/html": [
       "<pre>Unexpected JPEG decode failure\t file: PetImages/Cat/6435.jpg</pre>"
      ],
      "text/plain": [
       "Unexpected JPEG decode failure\t file: PetImages/Cat/6435.jpg"
      ]
     },
     "metadata": {},
     "output_type": "display_data"
    },
    {
     "data": {
      "text/html": [
       "<pre>Unexpected JPEG decode failure\t file: PetImages/Cat/6486.jpg</pre>"
      ],
      "text/plain": [
       "Unexpected JPEG decode failure\t file: PetImages/Cat/6486.jpg"
      ]
     },
     "metadata": {},
     "output_type": "display_data"
    },
    {
     "data": {
      "text/html": [
       "<pre>Unexpected JPEG decode failure\t file: PetImages/Cat/6491.jpg</pre>"
      ],
      "text/plain": [
       "Unexpected JPEG decode failure\t file: PetImages/Cat/6491.jpg"
      ]
     },
     "metadata": {},
     "output_type": "display_data"
    },
    {
     "data": {
      "text/html": [
       "<pre>Unexpected JPEG decode failure\t file: PetImages/Cat/660.jpg</pre>"
      ],
      "text/plain": [
       "Unexpected JPEG decode failure\t file: PetImages/Cat/660.jpg"
      ]
     },
     "metadata": {},
     "output_type": "display_data"
    },
    {
     "data": {
      "text/html": [
       "<pre>Unexpected JPEG decode failure\t file: PetImages/Cat/666.jpg</pre>"
      ],
      "text/plain": [
       "Unexpected JPEG decode failure\t file: PetImages/Cat/666.jpg"
      ]
     },
     "metadata": {},
     "output_type": "display_data"
    },
    {
     "data": {
      "text/html": [
       "<pre>Unexpected JPEG decode failure\t file: PetImages/Cat/6768.jpg</pre>"
      ],
      "text/plain": [
       "Unexpected JPEG decode failure\t file: PetImages/Cat/6768.jpg"
      ]
     },
     "metadata": {},
     "output_type": "display_data"
    },
    {
     "data": {
      "text/html": [
       "<pre>Unexpected JPEG decode failure\t file: PetImages/Cat/6900.jpg</pre>"
      ],
      "text/plain": [
       "Unexpected JPEG decode failure\t file: PetImages/Cat/6900.jpg"
      ]
     },
     "metadata": {},
     "output_type": "display_data"
    },
    {
     "data": {
      "text/html": [
       "<pre>Unexpected JPEG decode failure\t file: PetImages/Cat/6906.jpg</pre>"
      ],
      "text/plain": [
       "Unexpected JPEG decode failure\t file: PetImages/Cat/6906.jpg"
      ]
     },
     "metadata": {},
     "output_type": "display_data"
    },
    {
     "data": {
      "text/html": [
       "<pre>Unexpected JPEG decode failure\t file: PetImages/Cat/6980.jpg</pre>"
      ],
      "text/plain": [
       "Unexpected JPEG decode failure\t file: PetImages/Cat/6980.jpg"
      ]
     },
     "metadata": {},
     "output_type": "display_data"
    },
    {
     "data": {
      "text/html": [
       "<pre>Unexpected JPEG decode failure\t file: PetImages/Cat/7003.jpg</pre>"
      ],
      "text/plain": [
       "Unexpected JPEG decode failure\t file: PetImages/Cat/7003.jpg"
      ]
     },
     "metadata": {},
     "output_type": "display_data"
    },
    {
     "data": {
      "text/html": [
       "<pre>Unexpected JPEG decode failure\t file: PetImages/Cat/7502.jpg</pre>"
      ],
      "text/plain": [
       "Unexpected JPEG decode failure\t file: PetImages/Cat/7502.jpg"
      ]
     },
     "metadata": {},
     "output_type": "display_data"
    },
    {
     "data": {
      "text/html": [
       "<pre>Unexpected JPEG decode failure\t file: PetImages/Cat/7642.jpg</pre>"
      ],
      "text/plain": [
       "Unexpected JPEG decode failure\t file: PetImages/Cat/7642.jpg"
      ]
     },
     "metadata": {},
     "output_type": "display_data"
    },
    {
     "data": {
      "text/html": [
       "<pre>Unexpected JPEG decode failure\t file: PetImages/Cat/7647.jpg</pre>"
      ],
      "text/plain": [
       "Unexpected JPEG decode failure\t file: PetImages/Cat/7647.jpg"
      ]
     },
     "metadata": {},
     "output_type": "display_data"
    },
    {
     "data": {
      "text/html": [
       "<pre>Unexpected JPEG decode failure\t file: PetImages/Cat/7845.jpg</pre>"
      ],
      "text/plain": [
       "Unexpected JPEG decode failure\t file: PetImages/Cat/7845.jpg"
      ]
     },
     "metadata": {},
     "output_type": "display_data"
    },
    {
     "data": {
      "text/html": [
       "<pre>Unexpected JPEG decode failure\t file: PetImages/Cat/7968.jpg</pre>"
      ],
      "text/plain": [
       "Unexpected JPEG decode failure\t file: PetImages/Cat/7968.jpg"
      ]
     },
     "metadata": {},
     "output_type": "display_data"
    },
    {
     "data": {
      "text/html": [
       "<pre>Unexpected JPEG decode failure\t file: PetImages/Cat/7978.jpg</pre>"
      ],
      "text/plain": [
       "Unexpected JPEG decode failure\t file: PetImages/Cat/7978.jpg"
      ]
     },
     "metadata": {},
     "output_type": "display_data"
    },
    {
     "data": {
      "text/html": [
       "<pre>Unexpected JPEG decode failure\t file: PetImages/Cat/8183.jpg</pre>"
      ],
      "text/plain": [
       "Unexpected JPEG decode failure\t file: PetImages/Cat/8183.jpg"
      ]
     },
     "metadata": {},
     "output_type": "display_data"
    },
    {
     "data": {
      "text/html": [
       "<pre>Unexpected JPEG decode failure\t file: PetImages/Cat/8295.jpg</pre>"
      ],
      "text/plain": [
       "Unexpected JPEG decode failure\t file: PetImages/Cat/8295.jpg"
      ]
     },
     "metadata": {},
     "output_type": "display_data"
    },
    {
     "data": {
      "text/html": [
       "<pre>Unexpected JPEG decode failure\t file: PetImages/Cat/8415.jpg</pre>"
      ],
      "text/plain": [
       "Unexpected JPEG decode failure\t file: PetImages/Cat/8415.jpg"
      ]
     },
     "metadata": {},
     "output_type": "display_data"
    },
    {
     "data": {
      "text/html": [
       "<pre>Unexpected JPEG decode failure\t file: PetImages/Cat/8470.jpg</pre>"
      ],
      "text/plain": [
       "Unexpected JPEG decode failure\t file: PetImages/Cat/8470.jpg"
      ]
     },
     "metadata": {},
     "output_type": "display_data"
    },
    {
     "data": {
      "text/html": [
       "<pre>Unexpected JPEG decode failure\t file: PetImages/Cat/850.jpg</pre>"
      ],
      "text/plain": [
       "Unexpected JPEG decode failure\t file: PetImages/Cat/850.jpg"
      ]
     },
     "metadata": {},
     "output_type": "display_data"
    },
    {
     "data": {
      "text/html": [
       "<pre>Unexpected JPEG decode failure\t file: PetImages/Cat/8553.jpg</pre>"
      ],
      "text/plain": [
       "Unexpected JPEG decode failure\t file: PetImages/Cat/8553.jpg"
      ]
     },
     "metadata": {},
     "output_type": "display_data"
    },
    {
     "data": {
      "text/html": [
       "<pre>Unexpected JPEG decode failure\t file: PetImages/Cat/8832.jpg</pre>"
      ],
      "text/plain": [
       "Unexpected JPEG decode failure\t file: PetImages/Cat/8832.jpg"
      ]
     },
     "metadata": {},
     "output_type": "display_data"
    },
    {
     "data": {
      "text/html": [
       "<pre>Read 11170 images in 20.0043 secs\tspeed: 558.451 file/sec</pre>"
      ],
      "text/plain": [
       "Read 11170 images in 20.0043 secs\tspeed: 558.451 file/sec"
      ]
     },
     "metadata": {},
     "output_type": "display_data"
    },
    {
     "data": {
      "text/html": [
       "<pre>Unexpected JPEG decode failure\t file: PetImages/Cat/8958.jpg</pre>"
      ],
      "text/plain": [
       "Unexpected JPEG decode failure\t file: PetImages/Cat/8958.jpg"
      ]
     },
     "metadata": {},
     "output_type": "display_data"
    },
    {
     "data": {
      "text/html": [
       "<pre>Unexpected JPEG decode failure\t file: PetImages/Cat/910.jpg</pre>"
      ],
      "text/plain": [
       "Unexpected JPEG decode failure\t file: PetImages/Cat/910.jpg"
      ]
     },
     "metadata": {},
     "output_type": "display_data"
    },
    {
     "data": {
      "text/html": [
       "<pre>Unexpected JPEG decode failure\t file: PetImages/Cat/9100.jpg</pre>"
      ],
      "text/plain": [
       "Unexpected JPEG decode failure\t file: PetImages/Cat/9100.jpg"
      ]
     },
     "metadata": {},
     "output_type": "display_data"
    },
    {
     "data": {
      "text/html": [
       "<pre>Unexpected JPEG decode failure\t file: PetImages/Cat/9171.jpg</pre>"
      ],
      "text/plain": [
       "Unexpected JPEG decode failure\t file: PetImages/Cat/9171.jpg"
      ]
     },
     "metadata": {},
     "output_type": "display_data"
    },
    {
     "data": {
      "text/html": [
       "<pre>Unexpected JPEG decode failure\t file: PetImages/Cat/9208.jpg</pre>"
      ],
      "text/plain": [
       "Unexpected JPEG decode failure\t file: PetImages/Cat/9208.jpg"
      ]
     },
     "metadata": {},
     "output_type": "display_data"
    },
    {
     "data": {
      "text/html": [
       "<pre>Unexpected JPEG decode failure\t file: PetImages/Cat/9328.jpg</pre>"
      ],
      "text/plain": [
       "Unexpected JPEG decode failure\t file: PetImages/Cat/9328.jpg"
      ]
     },
     "metadata": {},
     "output_type": "display_data"
    },
    {
     "data": {
      "text/html": [
       "<pre>Unexpected JPEG decode failure\t file: PetImages/Cat/936.jpg</pre>"
      ],
      "text/plain": [
       "Unexpected JPEG decode failure\t file: PetImages/Cat/936.jpg"
      ]
     },
     "metadata": {},
     "output_type": "display_data"
    },
    {
     "data": {
      "text/html": [
       "<pre>Unexpected JPEG decode failure\t file: PetImages/Cat/9361.jpg</pre>"
      ],
      "text/plain": [
       "Unexpected JPEG decode failure\t file: PetImages/Cat/9361.jpg"
      ]
     },
     "metadata": {},
     "output_type": "display_data"
    },
    {
     "data": {
      "text/html": [
       "<pre>Unexpected JPEG decode failure\t file: PetImages/Cat/9565.jpg</pre>"
      ],
      "text/plain": [
       "Unexpected JPEG decode failure\t file: PetImages/Cat/9565.jpg"
      ]
     },
     "metadata": {},
     "output_type": "display_data"
    },
    {
     "data": {
      "text/html": [
       "<pre>Unexpected JPEG decode failure\t file: PetImages/Cat/9619.jpg</pre>"
      ],
      "text/plain": [
       "Unexpected JPEG decode failure\t file: PetImages/Cat/9619.jpg"
      ]
     },
     "metadata": {},
     "output_type": "display_data"
    },
    {
     "data": {
      "text/html": [
       "<pre>Unexpected JPEG decode failure\t file: PetImages/Cat/9778.jpg</pre>"
      ],
      "text/plain": [
       "Unexpected JPEG decode failure\t file: PetImages/Cat/9778.jpg"
      ]
     },
     "metadata": {},
     "output_type": "display_data"
    },
    {
     "data": {
      "text/html": [
       "<pre>Unexpected JPEG decode failure\t file: PetImages/Dog/10158.jpg</pre>"
      ],
      "text/plain": [
       "Unexpected JPEG decode failure\t file: PetImages/Dog/10158.jpg"
      ]
     },
     "metadata": {},
     "output_type": "display_data"
    },
    {
     "data": {
      "text/html": [
       "<pre>Unexpected JPEG decode failure\t file: PetImages/Dog/1017.jpg</pre>"
      ],
      "text/plain": [
       "Unexpected JPEG decode failure\t file: PetImages/Dog/1017.jpg"
      ]
     },
     "metadata": {},
     "output_type": "display_data"
    },
    {
     "data": {
      "text/html": [
       "<pre>Unexpected JPEG decode failure\t file: PetImages/Dog/10173.jpg</pre>"
      ],
      "text/plain": [
       "Unexpected JPEG decode failure\t file: PetImages/Dog/10173.jpg"
      ]
     },
     "metadata": {},
     "output_type": "display_data"
    },
    {
     "data": {
      "text/html": [
       "<pre>Unexpected JPEG decode failure\t file: PetImages/Dog/10351.jpg</pre>"
      ],
      "text/plain": [
       "Unexpected JPEG decode failure\t file: PetImages/Dog/10351.jpg"
      ]
     },
     "metadata": {},
     "output_type": "display_data"
    },
    {
     "data": {
      "text/html": [
       "<pre>Unexpected JPEG decode failure\t file: PetImages/Dog/10353.jpg</pre>"
      ],
      "text/plain": [
       "Unexpected JPEG decode failure\t file: PetImages/Dog/10353.jpg"
      ]
     },
     "metadata": {},
     "output_type": "display_data"
    },
    {
     "data": {
      "text/html": [
       "<pre>Unexpected JPEG decode failure\t file: PetImages/Dog/10383.jpg</pre>"
      ],
      "text/plain": [
       "Unexpected JPEG decode failure\t file: PetImages/Dog/10383.jpg"
      ]
     },
     "metadata": {},
     "output_type": "display_data"
    },
    {
     "data": {
      "text/html": [
       "<pre>Unexpected JPEG decode failure\t file: PetImages/Dog/10401.jpg</pre>"
      ],
      "text/plain": [
       "Unexpected JPEG decode failure\t file: PetImages/Dog/10401.jpg"
      ]
     },
     "metadata": {},
     "output_type": "display_data"
    },
    {
     "data": {
      "text/html": [
       "<pre>Unexpected JPEG decode failure\t file: PetImages/Dog/10637.jpg</pre>"
      ],
      "text/plain": [
       "Unexpected JPEG decode failure\t file: PetImages/Dog/10637.jpg"
      ]
     },
     "metadata": {},
     "output_type": "display_data"
    },
    {
     "data": {
      "text/html": [
       "<pre>Unexpected JPEG decode failure\t file: PetImages/Dog/10678.jpg</pre>"
      ],
      "text/plain": [
       "Unexpected JPEG decode failure\t file: PetImages/Dog/10678.jpg"
      ]
     },
     "metadata": {},
     "output_type": "display_data"
    },
    {
     "data": {
      "text/html": [
       "<pre>Unexpected JPEG decode failure\t file: PetImages/Dog/10705.jpg</pre>"
      ],
      "text/plain": [
       "Unexpected JPEG decode failure\t file: PetImages/Dog/10705.jpg"
      ]
     },
     "metadata": {},
     "output_type": "display_data"
    },
    {
     "data": {
      "text/html": [
       "<pre>Unexpected JPEG decode failure\t file: PetImages/Dog/10726.jpg</pre>"
      ],
      "text/plain": [
       "Unexpected JPEG decode failure\t file: PetImages/Dog/10726.jpg"
      ]
     },
     "metadata": {},
     "output_type": "display_data"
    },
    {
     "data": {
      "text/html": [
       "<pre>Unexpected JPEG decode failure\t file: PetImages/Dog/10733.jpg</pre>"
      ],
      "text/plain": [
       "Unexpected JPEG decode failure\t file: PetImages/Dog/10733.jpg"
      ]
     },
     "metadata": {},
     "output_type": "display_data"
    },
    {
     "data": {
      "text/html": [
       "<pre>Unexpected JPEG decode failure\t file: PetImages/Dog/10747.jpg</pre>"
      ],
      "text/plain": [
       "Unexpected JPEG decode failure\t file: PetImages/Dog/10747.jpg"
      ]
     },
     "metadata": {},
     "output_type": "display_data"
    },
    {
     "data": {
      "text/html": [
       "<pre>Unexpected JPEG decode failure\t file: PetImages/Dog/10797.jpg</pre>"
      ],
      "text/plain": [
       "Unexpected JPEG decode failure\t file: PetImages/Dog/10797.jpg"
      ]
     },
     "metadata": {},
     "output_type": "display_data"
    },
    {
     "data": {
      "text/html": [
       "<pre>Unexpected JPEG decode failure\t file: PetImages/Dog/10863.jpg</pre>"
      ],
      "text/plain": [
       "Unexpected JPEG decode failure\t file: PetImages/Dog/10863.jpg"
      ]
     },
     "metadata": {},
     "output_type": "display_data"
    },
    {
     "data": {
      "text/html": [
       "<pre>Unexpected JPEG decode failure\t file: PetImages/Dog/10907.jpg</pre>"
      ],
      "text/plain": [
       "Unexpected JPEG decode failure\t file: PetImages/Dog/10907.jpg"
      ]
     },
     "metadata": {},
     "output_type": "display_data"
    },
    {
     "data": {
      "text/html": [
       "<pre>Unexpected JPEG decode failure\t file: PetImages/Dog/10969.jpg</pre>"
      ],
      "text/plain": [
       "Unexpected JPEG decode failure\t file: PetImages/Dog/10969.jpg"
      ]
     },
     "metadata": {},
     "output_type": "display_data"
    },
    {
     "data": {
      "text/html": [
       "<pre>Unexpected JPEG decode failure\t file: PetImages/Dog/10972.jpg</pre>"
      ],
      "text/plain": [
       "Unexpected JPEG decode failure\t file: PetImages/Dog/10972.jpg"
      ]
     },
     "metadata": {},
     "output_type": "display_data"
    },
    {
     "data": {
      "text/html": [
       "<pre>Unexpected JPEG decode failure\t file: PetImages/Dog/11166.jpg</pre>"
      ],
      "text/plain": [
       "Unexpected JPEG decode failure\t file: PetImages/Dog/11166.jpg"
      ]
     },
     "metadata": {},
     "output_type": "display_data"
    },
    {
     "data": {
      "text/html": [
       "<pre>Unexpected JPEG decode failure\t file: PetImages/Dog/11233.jpg</pre>"
      ],
      "text/plain": [
       "Unexpected JPEG decode failure\t file: PetImages/Dog/11233.jpg"
      ]
     },
     "metadata": {},
     "output_type": "display_data"
    },
    {
     "data": {
      "text/html": [
       "<pre>Unexpected JPEG decode failure\t file: PetImages/Dog/11253.jpg</pre>"
      ],
      "text/plain": [
       "Unexpected JPEG decode failure\t file: PetImages/Dog/11253.jpg"
      ]
     },
     "metadata": {},
     "output_type": "display_data"
    },
    {
     "data": {
      "text/html": [
       "<pre>Read 13789 images in 25.0058 secs\tspeed: 523.641 file/sec</pre>"
      ],
      "text/plain": [
       "Read 13789 images in 25.0058 secs\tspeed: 523.641 file/sec"
      ]
     },
     "metadata": {},
     "output_type": "display_data"
    },
    {
     "data": {
      "text/html": [
       "<pre>Unexpected JPEG decode failure\t file: PetImages/Dog/11285.jpg</pre>"
      ],
      "text/plain": [
       "Unexpected JPEG decode failure\t file: PetImages/Dog/11285.jpg"
      ]
     },
     "metadata": {},
     "output_type": "display_data"
    },
    {
     "data": {
      "text/html": [
       "<pre>Unexpected JPEG decode failure\t file: PetImages/Dog/11410.jpg</pre>"
      ],
      "text/plain": [
       "Unexpected JPEG decode failure\t file: PetImages/Dog/11410.jpg"
      ]
     },
     "metadata": {},
     "output_type": "display_data"
    },
    {
     "data": {
      "text/html": [
       "<pre>Unexpected JPEG decode failure\t file: PetImages/Dog/11560.jpg</pre>"
      ],
      "text/plain": [
       "Unexpected JPEG decode failure\t file: PetImages/Dog/11560.jpg"
      ]
     },
     "metadata": {},
     "output_type": "display_data"
    },
    {
     "data": {
      "text/html": [
       "<pre>Unexpected JPEG decode failure\t file: PetImages/Dog/11590.jpg</pre>"
      ],
      "text/plain": [
       "Unexpected JPEG decode failure\t file: PetImages/Dog/11590.jpg"
      ]
     },
     "metadata": {},
     "output_type": "display_data"
    },
    {
     "data": {
      "text/html": [
       "<pre>Unexpected JPEG decode failure\t file: PetImages/Dog/11675.jpg</pre>"
      ],
      "text/plain": [
       "Unexpected JPEG decode failure\t file: PetImages/Dog/11675.jpg"
      ]
     },
     "metadata": {},
     "output_type": "display_data"
    },
    {
     "data": {
      "text/html": [
       "<pre>Unexpected JPEG decode failure\t file: PetImages/Dog/1168.jpg</pre>"
      ],
      "text/plain": [
       "Unexpected JPEG decode failure\t file: PetImages/Dog/1168.jpg"
      ]
     },
     "metadata": {},
     "output_type": "display_data"
    },
    {
     "data": {
      "text/html": [
       "<pre>Unexpected JPEG decode failure\t file: PetImages/Dog/11692.jpg</pre>"
      ],
      "text/plain": [
       "Unexpected JPEG decode failure\t file: PetImages/Dog/11692.jpg"
      ]
     },
     "metadata": {},
     "output_type": "display_data"
    },
    {
     "data": {
      "text/html": [
       "<pre>Unexpected JPEG decode failure\t file: PetImages/Dog/11702.jpg</pre>"
      ],
      "text/plain": [
       "Unexpected JPEG decode failure\t file: PetImages/Dog/11702.jpg"
      ]
     },
     "metadata": {},
     "output_type": "display_data"
    },
    {
     "data": {
      "text/html": [
       "<pre>Unexpected JPEG decode failure\t file: PetImages/Dog/11849.jpg</pre>"
      ],
      "text/plain": [
       "Unexpected JPEG decode failure\t file: PetImages/Dog/11849.jpg"
      ]
     },
     "metadata": {},
     "output_type": "display_data"
    },
    {
     "data": {
      "text/html": [
       "<pre>Unexpected JPEG decode failure\t file: PetImages/Dog/11853.jpg</pre>"
      ],
      "text/plain": [
       "Unexpected JPEG decode failure\t file: PetImages/Dog/11853.jpg"
      ]
     },
     "metadata": {},
     "output_type": "display_data"
    },
    {
     "data": {
      "text/html": [
       "<pre>Unexpected JPEG decode failure\t file: PetImages/Dog/11912.jpg</pre>"
      ],
      "text/plain": [
       "Unexpected JPEG decode failure\t file: PetImages/Dog/11912.jpg"
      ]
     },
     "metadata": {},
     "output_type": "display_data"
    },
    {
     "data": {
      "text/html": [
       "<pre>Unexpected JPEG decode failure\t file: PetImages/Dog/12102.jpg</pre>"
      ],
      "text/plain": [
       "Unexpected JPEG decode failure\t file: PetImages/Dog/12102.jpg"
      ]
     },
     "metadata": {},
     "output_type": "display_data"
    },
    {
     "data": {
      "text/html": [
       "<pre>Unexpected JPEG decode failure\t file: PetImages/Dog/12114.jpg</pre>"
      ],
      "text/plain": [
       "Unexpected JPEG decode failure\t file: PetImages/Dog/12114.jpg"
      ]
     },
     "metadata": {},
     "output_type": "display_data"
    },
    {
     "data": {
      "text/html": [
       "<pre>Unexpected JPEG decode failure\t file: PetImages/Dog/12289.jpg</pre>"
      ],
      "text/plain": [
       "Unexpected JPEG decode failure\t file: PetImages/Dog/12289.jpg"
      ]
     },
     "metadata": {},
     "output_type": "display_data"
    },
    {
     "data": {
      "text/html": [
       "<pre>Unexpected JPEG decode failure\t file: PetImages/Dog/1259.jpg</pre>"
      ],
      "text/plain": [
       "Unexpected JPEG decode failure\t file: PetImages/Dog/1259.jpg"
      ]
     },
     "metadata": {},
     "output_type": "display_data"
    },
    {
     "data": {
      "text/html": [
       "<pre>Unexpected JPEG decode failure\t file: PetImages/Dog/1308.jpg</pre>"
      ],
      "text/plain": [
       "Unexpected JPEG decode failure\t file: PetImages/Dog/1308.jpg"
      ]
     },
     "metadata": {},
     "output_type": "display_data"
    },
    {
     "data": {
      "text/html": [
       "<pre>Unexpected JPEG decode failure\t file: PetImages/Dog/1356.jpg</pre>"
      ],
      "text/plain": [
       "Unexpected JPEG decode failure\t file: PetImages/Dog/1356.jpg"
      ]
     },
     "metadata": {},
     "output_type": "display_data"
    },
    {
     "data": {
      "text/html": [
       "<pre>Unsupported colorspace format. Currently, only RGB and Grayscale are supported.\t file: PetImages/Dog/1789.jpg</pre>"
      ],
      "text/plain": [
       "Unsupported colorspace format. Currently, only RGB and Grayscale are supported.\t file: PetImages/Dog/1789.jpg"
      ]
     },
     "metadata": {},
     "output_type": "display_data"
    },
    {
     "data": {
      "text/html": [
       "<pre>Unexpected JPEG decode failure\t file: PetImages/Dog/1866.jpg</pre>"
      ],
      "text/plain": [
       "Unexpected JPEG decode failure\t file: PetImages/Dog/1866.jpg"
      ]
     },
     "metadata": {},
     "output_type": "display_data"
    },
    {
     "data": {
      "text/html": [
       "<pre>Unexpected JPEG decode failure\t file: PetImages/Dog/1884.jpg</pre>"
      ],
      "text/plain": [
       "Unexpected JPEG decode failure\t file: PetImages/Dog/1884.jpg"
      ]
     },
     "metadata": {},
     "output_type": "display_data"
    },
    {
     "data": {
      "text/html": [
       "<pre>Unexpected JPEG decode failure\t file: PetImages/Dog/1900.jpg</pre>"
      ],
      "text/plain": [
       "Unexpected JPEG decode failure\t file: PetImages/Dog/1900.jpg"
      ]
     },
     "metadata": {},
     "output_type": "display_data"
    },
    {
     "data": {
      "text/html": [
       "<pre>Unexpected JPEG decode failure\t file: PetImages/Dog/2317.jpg</pre>"
      ],
      "text/plain": [
       "Unexpected JPEG decode failure\t file: PetImages/Dog/2317.jpg"
      ]
     },
     "metadata": {},
     "output_type": "display_data"
    },
    {
     "data": {
      "text/html": [
       "<pre>Unexpected JPEG decode failure\t file: PetImages/Dog/2353.jpg</pre>"
      ],
      "text/plain": [
       "Unexpected JPEG decode failure\t file: PetImages/Dog/2353.jpg"
      ]
     },
     "metadata": {},
     "output_type": "display_data"
    },
    {
     "data": {
      "text/html": [
       "<pre>Read 16387 images in 30.0202 secs\tspeed: 518.108 file/sec</pre>"
      ],
      "text/plain": [
       "Read 16387 images in 30.0202 secs\tspeed: 518.108 file/sec"
      ]
     },
     "metadata": {},
     "output_type": "display_data"
    },
    {
     "data": {
      "text/html": [
       "<pre>Unexpected JPEG decode failure\t file: PetImages/Dog/2384.jpg</pre>"
      ],
      "text/plain": [
       "Unexpected JPEG decode failure\t file: PetImages/Dog/2384.jpg"
      ]
     },
     "metadata": {},
     "output_type": "display_data"
    },
    {
     "data": {
      "text/html": [
       "<pre>Unexpected JPEG decode failure\t file: PetImages/Dog/2479.jpg</pre>"
      ],
      "text/plain": [
       "Unexpected JPEG decode failure\t file: PetImages/Dog/2479.jpg"
      ]
     },
     "metadata": {},
     "output_type": "display_data"
    },
    {
     "data": {
      "text/html": [
       "<pre>Unexpected JPEG decode failure\t file: PetImages/Dog/2494.jpg</pre>"
      ],
      "text/plain": [
       "Unexpected JPEG decode failure\t file: PetImages/Dog/2494.jpg"
      ]
     },
     "metadata": {},
     "output_type": "display_data"
    },
    {
     "data": {
      "text/html": [
       "<pre>Unexpected JPEG decode failure\t file: PetImages/Dog/2688.jpg</pre>"
      ],
      "text/plain": [
       "Unexpected JPEG decode failure\t file: PetImages/Dog/2688.jpg"
      ]
     },
     "metadata": {},
     "output_type": "display_data"
    },
    {
     "data": {
      "text/html": [
       "<pre>Unexpected JPEG decode failure\t file: PetImages/Dog/2877.jpg</pre>"
      ],
      "text/plain": [
       "Unexpected JPEG decode failure\t file: PetImages/Dog/2877.jpg"
      ]
     },
     "metadata": {},
     "output_type": "display_data"
    },
    {
     "data": {
      "text/html": [
       "<pre>Unexpected JPEG decode failure\t file: PetImages/Dog/2905.jpg</pre>"
      ],
      "text/plain": [
       "Unexpected JPEG decode failure\t file: PetImages/Dog/2905.jpg"
      ]
     },
     "metadata": {},
     "output_type": "display_data"
    },
    {
     "data": {
      "text/html": [
       "<pre>Unexpected JPEG decode failure\t file: PetImages/Dog/2915.jpg</pre>"
      ],
      "text/plain": [
       "Unexpected JPEG decode failure\t file: PetImages/Dog/2915.jpg"
      ]
     },
     "metadata": {},
     "output_type": "display_data"
    },
    {
     "data": {
      "text/html": [
       "<pre>Unexpected JPEG decode failure\t file: PetImages/Dog/296.jpg</pre>"
      ],
      "text/plain": [
       "Unexpected JPEG decode failure\t file: PetImages/Dog/296.jpg"
      ]
     },
     "metadata": {},
     "output_type": "display_data"
    },
    {
     "data": {
      "text/html": [
       "<pre>Unexpected JPEG decode failure\t file: PetImages/Dog/3038.jpg</pre>"
      ],
      "text/plain": [
       "Unexpected JPEG decode failure\t file: PetImages/Dog/3038.jpg"
      ]
     },
     "metadata": {},
     "output_type": "display_data"
    },
    {
     "data": {
      "text/html": [
       "<pre>Unexpected JPEG decode failure\t file: PetImages/Dog/3136.jpg</pre>"
      ],
      "text/plain": [
       "Unexpected JPEG decode failure\t file: PetImages/Dog/3136.jpg"
      ]
     },
     "metadata": {},
     "output_type": "display_data"
    },
    {
     "data": {
      "text/html": [
       "<pre>Unexpected JPEG decode failure\t file: PetImages/Dog/3155.jpg</pre>"
      ],
      "text/plain": [
       "Unexpected JPEG decode failure\t file: PetImages/Dog/3155.jpg"
      ]
     },
     "metadata": {},
     "output_type": "display_data"
    },
    {
     "data": {
      "text/html": [
       "<pre>Unexpected JPEG decode failure\t file: PetImages/Dog/3288.jpg</pre>"
      ],
      "text/plain": [
       "Unexpected JPEG decode failure\t file: PetImages/Dog/3288.jpg"
      ]
     },
     "metadata": {},
     "output_type": "display_data"
    },
    {
     "data": {
      "text/html": [
       "<pre>Unexpected JPEG decode failure\t file: PetImages/Dog/3320.jpg</pre>"
      ],
      "text/plain": [
       "Unexpected JPEG decode failure\t file: PetImages/Dog/3320.jpg"
      ]
     },
     "metadata": {},
     "output_type": "display_data"
    },
    {
     "data": {
      "text/html": [
       "<pre>Unexpected JPEG decode failure\t file: PetImages/Dog/3546.jpg</pre>"
      ],
      "text/plain": [
       "Unexpected JPEG decode failure\t file: PetImages/Dog/3546.jpg"
      ]
     },
     "metadata": {},
     "output_type": "display_data"
    },
    {
     "data": {
      "text/html": [
       "<pre>Unexpected JPEG decode failure\t file: PetImages/Dog/3588.jpg</pre>"
      ],
      "text/plain": [
       "Unexpected JPEG decode failure\t file: PetImages/Dog/3588.jpg"
      ]
     },
     "metadata": {},
     "output_type": "display_data"
    },
    {
     "data": {
      "text/html": [
       "<pre>Unexpected JPEG decode failure\t file: PetImages/Dog/3885.jpg</pre>"
      ],
      "text/plain": [
       "Unexpected JPEG decode failure\t file: PetImages/Dog/3885.jpg"
      ]
     },
     "metadata": {},
     "output_type": "display_data"
    },
    {
     "data": {
      "text/html": [
       "<pre>Unexpected JPEG decode failure\t file: PetImages/Dog/3927.jpg</pre>"
      ],
      "text/plain": [
       "Unexpected JPEG decode failure\t file: PetImages/Dog/3927.jpg"
      ]
     },
     "metadata": {},
     "output_type": "display_data"
    },
    {
     "data": {
      "text/html": [
       "<pre>Unexpected JPEG decode failure\t file: PetImages/Dog/4086.jpg</pre>"
      ],
      "text/plain": [
       "Unexpected JPEG decode failure\t file: PetImages/Dog/4086.jpg"
      ]
     },
     "metadata": {},
     "output_type": "display_data"
    },
    {
     "data": {
      "text/html": [
       "<pre>Unexpected JPEG decode failure\t file: PetImages/Dog/4134.jpg</pre>"
      ],
      "text/plain": [
       "Unexpected JPEG decode failure\t file: PetImages/Dog/4134.jpg"
      ]
     },
     "metadata": {},
     "output_type": "display_data"
    },
    {
     "data": {
      "text/html": [
       "<pre>Unexpected JPEG decode failure\t file: PetImages/Dog/414.jpg</pre>"
      ],
      "text/plain": [
       "Unexpected JPEG decode failure\t file: PetImages/Dog/414.jpg"
      ]
     },
     "metadata": {},
     "output_type": "display_data"
    },
    {
     "data": {
      "text/html": [
       "<pre>Unexpected JPEG decode failure\t file: PetImages/Dog/4203.jpg</pre>"
      ],
      "text/plain": [
       "Unexpected JPEG decode failure\t file: PetImages/Dog/4203.jpg"
      ]
     },
     "metadata": {},
     "output_type": "display_data"
    },
    {
     "data": {
      "text/html": [
       "<pre>Unexpected JPEG decode failure\t file: PetImages/Dog/4257.jpg</pre>"
      ],
      "text/plain": [
       "Unexpected JPEG decode failure\t file: PetImages/Dog/4257.jpg"
      ]
     },
     "metadata": {},
     "output_type": "display_data"
    },
    {
     "data": {
      "text/html": [
       "<pre>Unexpected JPEG decode failure\t file: PetImages/Dog/4301.jpg</pre>"
      ],
      "text/plain": [
       "Unexpected JPEG decode failure\t file: PetImages/Dog/4301.jpg"
      ]
     },
     "metadata": {},
     "output_type": "display_data"
    },
    {
     "data": {
      "text/html": [
       "<pre>Unexpected JPEG decode failure\t file: PetImages/Dog/4367.jpg</pre>"
      ],
      "text/plain": [
       "Unexpected JPEG decode failure\t file: PetImages/Dog/4367.jpg"
      ]
     },
     "metadata": {},
     "output_type": "display_data"
    },
    {
     "data": {
      "text/html": [
       "<pre>Unexpected JPEG decode failure\t file: PetImages/Dog/4640.jpg</pre>"
      ],
      "text/plain": [
       "Unexpected JPEG decode failure\t file: PetImages/Dog/4640.jpg"
      ]
     },
     "metadata": {},
     "output_type": "display_data"
    },
    {
     "data": {
      "text/html": [
       "<pre>Unexpected JPEG decode failure\t file: PetImages/Dog/4654.jpg</pre>"
      ],
      "text/plain": [
       "Unexpected JPEG decode failure\t file: PetImages/Dog/4654.jpg"
      ]
     },
     "metadata": {},
     "output_type": "display_data"
    },
    {
     "data": {
      "text/html": [
       "<pre>Read 18961 images in 35.0204 secs\tspeed: 514.777 file/sec</pre>"
      ],
      "text/plain": [
       "Read 18961 images in 35.0204 secs\tspeed: 514.777 file/sec"
      ]
     },
     "metadata": {},
     "output_type": "display_data"
    },
    {
     "data": {
      "text/html": [
       "<pre>Unexpected JPEG decode failure\t file: PetImages/Dog/4924.jpg</pre>"
      ],
      "text/plain": [
       "Unexpected JPEG decode failure\t file: PetImages/Dog/4924.jpg"
      ]
     },
     "metadata": {},
     "output_type": "display_data"
    },
    {
     "data": {
      "text/html": [
       "<pre>Unexpected JPEG decode failure\t file: PetImages/Dog/50.jpg</pre>"
      ],
      "text/plain": [
       "Unexpected JPEG decode failure\t file: PetImages/Dog/50.jpg"
      ]
     },
     "metadata": {},
     "output_type": "display_data"
    },
    {
     "data": {
      "text/html": [
       "<pre>Unexpected JPEG decode failure\t file: PetImages/Dog/5104.jpg</pre>"
      ],
      "text/plain": [
       "Unexpected JPEG decode failure\t file: PetImages/Dog/5104.jpg"
      ]
     },
     "metadata": {},
     "output_type": "display_data"
    },
    {
     "data": {
      "text/html": [
       "<pre>Unexpected JPEG decode failure\t file: PetImages/Dog/522.jpg</pre>"
      ],
      "text/plain": [
       "Unexpected JPEG decode failure\t file: PetImages/Dog/522.jpg"
      ]
     },
     "metadata": {},
     "output_type": "display_data"
    },
    {
     "data": {
      "text/html": [
       "<pre>Unexpected JPEG decode failure\t file: PetImages/Dog/5243.jpg</pre>"
      ],
      "text/plain": [
       "Unexpected JPEG decode failure\t file: PetImages/Dog/5243.jpg"
      ]
     },
     "metadata": {},
     "output_type": "display_data"
    },
    {
     "data": {
      "text/html": [
       "<pre>Unexpected JPEG decode failure\t file: PetImages/Dog/5263.jpg</pre>"
      ],
      "text/plain": [
       "Unexpected JPEG decode failure\t file: PetImages/Dog/5263.jpg"
      ]
     },
     "metadata": {},
     "output_type": "display_data"
    },
    {
     "data": {
      "text/html": [
       "<pre>Unexpected JPEG decode failure\t file: PetImages/Dog/543.jpg</pre>"
      ],
      "text/plain": [
       "Unexpected JPEG decode failure\t file: PetImages/Dog/543.jpg"
      ]
     },
     "metadata": {},
     "output_type": "display_data"
    },
    {
     "data": {
      "text/html": [
       "<pre>Unexpected JPEG decode failure\t file: PetImages/Dog/5547.jpg</pre>"
      ],
      "text/plain": [
       "Unexpected JPEG decode failure\t file: PetImages/Dog/5547.jpg"
      ]
     },
     "metadata": {},
     "output_type": "display_data"
    },
    {
     "data": {
      "text/html": [
       "<pre>Unexpected JPEG decode failure\t file: PetImages/Dog/5604.jpg</pre>"
      ],
      "text/plain": [
       "Unexpected JPEG decode failure\t file: PetImages/Dog/5604.jpg"
      ]
     },
     "metadata": {},
     "output_type": "display_data"
    },
    {
     "data": {
      "text/html": [
       "<pre>Unexpected JPEG decode failure\t file: PetImages/Dog/561.jpg</pre>"
      ],
      "text/plain": [
       "Unexpected JPEG decode failure\t file: PetImages/Dog/561.jpg"
      ]
     },
     "metadata": {},
     "output_type": "display_data"
    },
    {
     "data": {
      "text/html": [
       "<pre>Unexpected JPEG decode failure\t file: PetImages/Dog/5618.jpg</pre>"
      ],
      "text/plain": [
       "Unexpected JPEG decode failure\t file: PetImages/Dog/5618.jpg"
      ]
     },
     "metadata": {},
     "output_type": "display_data"
    },
    {
     "data": {
      "text/html": [
       "<pre>Unexpected JPEG decode failure\t file: PetImages/Dog/565.jpg</pre>"
      ],
      "text/plain": [
       "Unexpected JPEG decode failure\t file: PetImages/Dog/565.jpg"
      ]
     },
     "metadata": {},
     "output_type": "display_data"
    },
    {
     "data": {
      "text/html": [
       "<pre>Unexpected JPEG decode failure\t file: PetImages/Dog/573.jpg</pre>"
      ],
      "text/plain": [
       "Unexpected JPEG decode failure\t file: PetImages/Dog/573.jpg"
      ]
     },
     "metadata": {},
     "output_type": "display_data"
    },
    {
     "data": {
      "text/html": [
       "<pre>Unexpected JPEG decode failure\t file: PetImages/Dog/5730.jpg</pre>"
      ],
      "text/plain": [
       "Unexpected JPEG decode failure\t file: PetImages/Dog/5730.jpg"
      ]
     },
     "metadata": {},
     "output_type": "display_data"
    },
    {
     "data": {
      "text/html": [
       "<pre>Unexpected JPEG decode failure\t file: PetImages/Dog/5736.jpg</pre>"
      ],
      "text/plain": [
       "Unexpected JPEG decode failure\t file: PetImages/Dog/5736.jpg"
      ]
     },
     "metadata": {},
     "output_type": "display_data"
    },
    {
     "data": {
      "text/html": [
       "<pre>Unexpected JPEG decode failure\t file: PetImages/Dog/5790.jpg</pre>"
      ],
      "text/plain": [
       "Unexpected JPEG decode failure\t file: PetImages/Dog/5790.jpg"
      ]
     },
     "metadata": {},
     "output_type": "display_data"
    },
    {
     "data": {
      "text/html": [
       "<pre>Unexpected JPEG decode failure\t file: PetImages/Dog/5955.jpg</pre>"
      ],
      "text/plain": [
       "Unexpected JPEG decode failure\t file: PetImages/Dog/5955.jpg"
      ]
     },
     "metadata": {},
     "output_type": "display_data"
    },
    {
     "data": {
      "text/html": [
       "<pre>Unexpected JPEG decode failure\t file: PetImages/Dog/6032.jpg</pre>"
      ],
      "text/plain": [
       "Unexpected JPEG decode failure\t file: PetImages/Dog/6032.jpg"
      ]
     },
     "metadata": {},
     "output_type": "display_data"
    },
    {
     "data": {
      "text/html": [
       "<pre>Unexpected JPEG decode failure\t file: PetImages/Dog/6059.jpg</pre>"
      ],
      "text/plain": [
       "Unexpected JPEG decode failure\t file: PetImages/Dog/6059.jpg"
      ]
     },
     "metadata": {},
     "output_type": "display_data"
    },
    {
     "data": {
      "text/html": [
       "<pre>Unexpected JPEG decode failure\t file: PetImages/Dog/6213.jpg</pre>"
      ],
      "text/plain": [
       "Unexpected JPEG decode failure\t file: PetImages/Dog/6213.jpg"
      ]
     },
     "metadata": {},
     "output_type": "display_data"
    },
    {
     "data": {
      "text/html": [
       "<pre>Unexpected JPEG decode failure\t file: PetImages/Dog/6238.jpg</pre>"
      ],
      "text/plain": [
       "Unexpected JPEG decode failure\t file: PetImages/Dog/6238.jpg"
      ]
     },
     "metadata": {},
     "output_type": "display_data"
    },
    {
     "data": {
      "text/html": [
       "<pre>Unsupported colorspace format. Currently, only RGB and Grayscale are supported.\t file: PetImages/Dog/6245.jpg</pre>"
      ],
      "text/plain": [
       "Unsupported colorspace format. Currently, only RGB and Grayscale are supported.\t file: PetImages/Dog/6245.jpg"
      ]
     },
     "metadata": {},
     "output_type": "display_data"
    },
    {
     "data": {
      "text/html": [
       "<pre>Unexpected JPEG decode failure\t file: PetImages/Dog/6305.jpg</pre>"
      ],
      "text/plain": [
       "Unexpected JPEG decode failure\t file: PetImages/Dog/6305.jpg"
      ]
     },
     "metadata": {},
     "output_type": "display_data"
    },
    {
     "data": {
      "text/html": [
       "<pre>Unexpected JPEG decode failure\t file: PetImages/Dog/6318.jpg</pre>"
      ],
      "text/plain": [
       "Unexpected JPEG decode failure\t file: PetImages/Dog/6318.jpg"
      ]
     },
     "metadata": {},
     "output_type": "display_data"
    },
    {
     "data": {
      "text/html": [
       "<pre>Unexpected JPEG decode failure\t file: PetImages/Dog/6430.jpg</pre>"
      ],
      "text/plain": [
       "Unexpected JPEG decode failure\t file: PetImages/Dog/6430.jpg"
      ]
     },
     "metadata": {},
     "output_type": "display_data"
    },
    {
     "data": {
      "text/html": [
       "<pre>Unexpected JPEG decode failure\t file: PetImages/Dog/6500.jpg</pre>"
      ],
      "text/plain": [
       "Unexpected JPEG decode failure\t file: PetImages/Dog/6500.jpg"
      ]
     },
     "metadata": {},
     "output_type": "display_data"
    },
    {
     "data": {
      "text/html": [
       "<pre>Unexpected JPEG decode failure\t file: PetImages/Dog/6503.jpg</pre>"
      ],
      "text/plain": [
       "Unexpected JPEG decode failure\t file: PetImages/Dog/6503.jpg"
      ]
     },
     "metadata": {},
     "output_type": "display_data"
    },
    {
     "data": {
      "text/html": [
       "<pre>Unexpected JPEG decode failure\t file: PetImages/Dog/6555.jpg</pre>"
      ],
      "text/plain": [
       "Unexpected JPEG decode failure\t file: PetImages/Dog/6555.jpg"
      ]
     },
     "metadata": {},
     "output_type": "display_data"
    },
    {
     "data": {
      "text/html": [
       "<pre>Unexpected JPEG decode failure\t file: PetImages/Dog/663.jpg</pre>"
      ],
      "text/plain": [
       "Unexpected JPEG decode failure\t file: PetImages/Dog/663.jpg"
      ]
     },
     "metadata": {},
     "output_type": "display_data"
    },
    {
     "data": {
      "text/html": [
       "<pre>Unexpected JPEG decode failure\t file: PetImages/Dog/6718.jpg</pre>"
      ],
      "text/plain": [
       "Unexpected JPEG decode failure\t file: PetImages/Dog/6718.jpg"
      ]
     },
     "metadata": {},
     "output_type": "display_data"
    },
    {
     "data": {
      "text/html": [
       "<pre>Unexpected JPEG decode failure\t file: PetImages/Dog/6855.jpg</pre>"
      ],
      "text/plain": [
       "Unexpected JPEG decode failure\t file: PetImages/Dog/6855.jpg"
      ]
     },
     "metadata": {},
     "output_type": "display_data"
    },
    {
     "data": {
      "text/html": [
       "<pre>Read 21443 images in 40.0208 secs\tspeed: 496.368 file/sec</pre>"
      ],
      "text/plain": [
       "Read 21443 images in 40.0208 secs\tspeed: 496.368 file/sec"
      ]
     },
     "metadata": {},
     "output_type": "display_data"
    },
    {
     "data": {
      "text/html": [
       "<pre>Unexpected JPEG decode failure\t file: PetImages/Dog/7112.jpg</pre>"
      ],
      "text/plain": [
       "Unexpected JPEG decode failure\t file: PetImages/Dog/7112.jpg"
      ]
     },
     "metadata": {},
     "output_type": "display_data"
    },
    {
     "data": {
      "text/html": [
       "<pre>Unexpected JPEG decode failure\t file: PetImages/Dog/7128.jpg</pre>"
      ],
      "text/plain": [
       "Unexpected JPEG decode failure\t file: PetImages/Dog/7128.jpg"
      ]
     },
     "metadata": {},
     "output_type": "display_data"
    },
    {
     "data": {
      "text/html": [
       "<pre>Unexpected JPEG decode failure\t file: PetImages/Dog/7133.jpg</pre>"
      ],
      "text/plain": [
       "Unexpected JPEG decode failure\t file: PetImages/Dog/7133.jpg"
      ]
     },
     "metadata": {},
     "output_type": "display_data"
    },
    {
     "data": {
      "text/html": [
       "<pre>Unexpected JPEG decode failure\t file: PetImages/Dog/719.jpg</pre>"
      ],
      "text/plain": [
       "Unexpected JPEG decode failure\t file: PetImages/Dog/719.jpg"
      ]
     },
     "metadata": {},
     "output_type": "display_data"
    },
    {
     "data": {
      "text/html": [
       "<pre>Unexpected JPEG decode failure\t file: PetImages/Dog/7311.jpg</pre>"
      ],
      "text/plain": [
       "Unexpected JPEG decode failure\t file: PetImages/Dog/7311.jpg"
      ]
     },
     "metadata": {},
     "output_type": "display_data"
    },
    {
     "data": {
      "text/html": [
       "<pre>Unexpected JPEG decode failure\t file: PetImages/Dog/7369.jpg</pre>"
      ],
      "text/plain": [
       "Unexpected JPEG decode failure\t file: PetImages/Dog/7369.jpg"
      ]
     },
     "metadata": {},
     "output_type": "display_data"
    },
    {
     "data": {
      "text/html": [
       "<pre>Unexpected JPEG decode failure\t file: PetImages/Dog/7459.jpg</pre>"
      ],
      "text/plain": [
       "Unexpected JPEG decode failure\t file: PetImages/Dog/7459.jpg"
      ]
     },
     "metadata": {},
     "output_type": "display_data"
    },
    {
     "data": {
      "text/html": [
       "<pre>Unexpected JPEG decode failure\t file: PetImages/Dog/7514.jpg</pre>"
      ],
      "text/plain": [
       "Unexpected JPEG decode failure\t file: PetImages/Dog/7514.jpg"
      ]
     },
     "metadata": {},
     "output_type": "display_data"
    },
    {
     "data": {
      "text/html": [
       "<pre>Unexpected JPEG decode failure\t file: PetImages/Dog/7652.jpg</pre>"
      ],
      "text/plain": [
       "Unexpected JPEG decode failure\t file: PetImages/Dog/7652.jpg"
      ]
     },
     "metadata": {},
     "output_type": "display_data"
    },
    {
     "data": {
      "text/html": [
       "<pre>Unexpected JPEG decode failure\t file: PetImages/Dog/7718.jpg</pre>"
      ],
      "text/plain": [
       "Unexpected JPEG decode failure\t file: PetImages/Dog/7718.jpg"
      ]
     },
     "metadata": {},
     "output_type": "display_data"
    },
    {
     "data": {
      "text/html": [
       "<pre>Unexpected JPEG decode failure\t file: PetImages/Dog/7739.jpg</pre>"
      ],
      "text/plain": [
       "Unexpected JPEG decode failure\t file: PetImages/Dog/7739.jpg"
      ]
     },
     "metadata": {},
     "output_type": "display_data"
    },
    {
     "data": {
      "text/html": [
       "<pre>Unexpected JPEG decode failure\t file: PetImages/Dog/7743.jpg</pre>"
      ],
      "text/plain": [
       "Unexpected JPEG decode failure\t file: PetImages/Dog/7743.jpg"
      ]
     },
     "metadata": {},
     "output_type": "display_data"
    },
    {
     "data": {
      "text/html": [
       "<pre>Unexpected JPEG decode failure\t file: PetImages/Dog/7969.jpg</pre>"
      ],
      "text/plain": [
       "Unexpected JPEG decode failure\t file: PetImages/Dog/7969.jpg"
      ]
     },
     "metadata": {},
     "output_type": "display_data"
    },
    {
     "data": {
      "text/html": [
       "<pre>Unexpected JPEG decode failure\t file: PetImages/Dog/8126.jpg</pre>"
      ],
      "text/plain": [
       "Unexpected JPEG decode failure\t file: PetImages/Dog/8126.jpg"
      ]
     },
     "metadata": {},
     "output_type": "display_data"
    },
    {
     "data": {
      "text/html": [
       "<pre>Unexpected JPEG decode failure\t file: PetImages/Dog/8194.jpg</pre>"
      ],
      "text/plain": [
       "Unexpected JPEG decode failure\t file: PetImages/Dog/8194.jpg"
      ]
     },
     "metadata": {},
     "output_type": "display_data"
    },
    {
     "data": {
      "text/html": [
       "<pre>Unexpected JPEG decode failure\t file: PetImages/Dog/8364.jpg</pre>"
      ],
      "text/plain": [
       "Unexpected JPEG decode failure\t file: PetImages/Dog/8364.jpg"
      ]
     },
     "metadata": {},
     "output_type": "display_data"
    },
    {
     "data": {
      "text/html": [
       "<pre>Unexpected JPEG decode failure\t file: PetImages/Dog/8521.jpg</pre>"
      ],
      "text/plain": [
       "Unexpected JPEG decode failure\t file: PetImages/Dog/8521.jpg"
      ]
     },
     "metadata": {},
     "output_type": "display_data"
    },
    {
     "data": {
      "text/html": [
       "<pre>Unexpected JPEG decode failure\t file: PetImages/Dog/8557.jpg</pre>"
      ],
      "text/plain": [
       "Unexpected JPEG decode failure\t file: PetImages/Dog/8557.jpg"
      ]
     },
     "metadata": {},
     "output_type": "display_data"
    },
    {
     "data": {
      "text/html": [
       "<pre>Unexpected JPEG decode failure\t file: PetImages/Dog/8563.jpg</pre>"
      ],
      "text/plain": [
       "Unexpected JPEG decode failure\t file: PetImages/Dog/8563.jpg"
      ]
     },
     "metadata": {},
     "output_type": "display_data"
    },
    {
     "data": {
      "text/html": [
       "<pre>Unexpected JPEG decode failure\t file: PetImages/Dog/8641.jpg</pre>"
      ],
      "text/plain": [
       "Unexpected JPEG decode failure\t file: PetImages/Dog/8641.jpg"
      ]
     },
     "metadata": {},
     "output_type": "display_data"
    },
    {
     "data": {
      "text/html": [
       "<pre>Unexpected JPEG decode failure\t file: PetImages/Dog/8693.jpg</pre>"
      ],
      "text/plain": [
       "Unexpected JPEG decode failure\t file: PetImages/Dog/8693.jpg"
      ]
     },
     "metadata": {},
     "output_type": "display_data"
    },
    {
     "data": {
      "text/html": [
       "<pre>Unexpected JPEG decode failure\t file: PetImages/Dog/8715.jpg</pre>"
      ],
      "text/plain": [
       "Unexpected JPEG decode failure\t file: PetImages/Dog/8715.jpg"
      ]
     },
     "metadata": {},
     "output_type": "display_data"
    },
    {
     "data": {
      "text/html": [
       "<pre>Unexpected JPEG decode failure\t file: PetImages/Dog/8730.jpg</pre>"
      ],
      "text/plain": [
       "Unexpected JPEG decode failure\t file: PetImages/Dog/8730.jpg"
      ]
     },
     "metadata": {},
     "output_type": "display_data"
    },
    {
     "data": {
      "text/html": [
       "<pre>Unexpected JPEG decode failure\t file: PetImages/Dog/8889.jpg</pre>"
      ],
      "text/plain": [
       "Unexpected JPEG decode failure\t file: PetImages/Dog/8889.jpg"
      ]
     },
     "metadata": {},
     "output_type": "display_data"
    },
    {
     "data": {
      "text/html": [
       "<pre>Unexpected JPEG decode failure\t file: PetImages/Dog/9026.jpg</pre>"
      ],
      "text/plain": [
       "Unexpected JPEG decode failure\t file: PetImages/Dog/9026.jpg"
      ]
     },
     "metadata": {},
     "output_type": "display_data"
    },
    {
     "data": {
      "text/html": [
       "<pre>Unexpected JPEG decode failure\t file: PetImages/Dog/9043.jpg</pre>"
      ],
      "text/plain": [
       "Unexpected JPEG decode failure\t file: PetImages/Dog/9043.jpg"
      ]
     },
     "metadata": {},
     "output_type": "display_data"
    },
    {
     "data": {
      "text/html": [
       "<pre>Unsupported colorspace format. Currently, only RGB and Grayscale are supported.\t file: PetImages/Dog/9078.jpg</pre>"
      ],
      "text/plain": [
       "Unsupported colorspace format. Currently, only RGB and Grayscale are supported.\t file: PetImages/Dog/9078.jpg"
      ]
     },
     "metadata": {},
     "output_type": "display_data"
    },
    {
     "data": {
      "text/html": [
       "<pre>Unexpected JPEG decode failure\t file: PetImages/Dog/9145.jpg</pre>"
      ],
      "text/plain": [
       "Unexpected JPEG decode failure\t file: PetImages/Dog/9145.jpg"
      ]
     },
     "metadata": {},
     "output_type": "display_data"
    },
    {
     "data": {
      "text/html": [
       "<pre>Read 23872 images in 45.0215 secs\tspeed: 485.729 file/sec</pre>"
      ],
      "text/plain": [
       "Read 23872 images in 45.0215 secs\tspeed: 485.729 file/sec"
      ]
     },
     "metadata": {},
     "output_type": "display_data"
    },
    {
     "data": {
      "text/html": [
       "<pre>Unexpected JPEG decode failure\t file: PetImages/Dog/9188.jpg</pre>"
      ],
      "text/plain": [
       "Unexpected JPEG decode failure\t file: PetImages/Dog/9188.jpg"
      ]
     },
     "metadata": {},
     "output_type": "display_data"
    },
    {
     "data": {
      "text/html": [
       "<pre>Unexpected JPEG decode failure\t file: PetImages/Dog/9367.jpg</pre>"
      ],
      "text/plain": [
       "Unexpected JPEG decode failure\t file: PetImages/Dog/9367.jpg"
      ]
     },
     "metadata": {},
     "output_type": "display_data"
    },
    {
     "data": {
      "text/html": [
       "<pre>Unexpected JPEG decode failure\t file: PetImages/Dog/9414.jpg</pre>"
      ],
      "text/plain": [
       "Unexpected JPEG decode failure\t file: PetImages/Dog/9414.jpg"
      ]
     },
     "metadata": {},
     "output_type": "display_data"
    },
    {
     "data": {
      "text/html": [
       "<pre>Unexpected JPEG decode failure\t file: PetImages/Dog/9500.jpg</pre>"
      ],
      "text/plain": [
       "Unexpected JPEG decode failure\t file: PetImages/Dog/9500.jpg"
      ]
     },
     "metadata": {},
     "output_type": "display_data"
    },
    {
     "data": {
      "text/html": [
       "<pre>Unexpected JPEG decode failure\t file: PetImages/Dog/9556.jpg</pre>"
      ],
      "text/plain": [
       "Unexpected JPEG decode failure\t file: PetImages/Dog/9556.jpg"
      ]
     },
     "metadata": {},
     "output_type": "display_data"
    },
    {
     "data": {
      "text/html": [
       "<pre>Unexpected JPEG decode failure\t file: PetImages/Dog/9640.jpg</pre>"
      ],
      "text/plain": [
       "Unexpected JPEG decode failure\t file: PetImages/Dog/9640.jpg"
      ]
     },
     "metadata": {},
     "output_type": "display_data"
    },
    {
     "data": {
      "text/html": [
       "<pre>Unexpected JPEG decode failure\t file: PetImages/Dog/9643.jpg</pre>"
      ],
      "text/plain": [
       "Unexpected JPEG decode failure\t file: PetImages/Dog/9643.jpg"
      ]
     },
     "metadata": {},
     "output_type": "display_data"
    },
    {
     "data": {
      "text/html": [
       "<pre>Unexpected JPEG decode failure\t file: PetImages/Dog/9851.jpg</pre>"
      ],
      "text/plain": [
       "Unexpected JPEG decode failure\t file: PetImages/Dog/9851.jpg"
      ]
     },
     "metadata": {},
     "output_type": "display_data"
    },
    {
     "data": {
      "text/html": [
       "<pre>Unexpected JPEG decode failure\t file: PetImages/Dog/9961.jpg</pre>"
      ],
      "text/plain": [
       "Unexpected JPEG decode failure\t file: PetImages/Dog/9961.jpg"
      ]
     },
     "metadata": {},
     "output_type": "display_data"
    },
    {
     "data": {
      "text/html": [
       "<pre>Unexpected JPEG decode failure\t file: PetImages/Dog/9967.jpg</pre>"
      ],
      "text/plain": [
       "Unexpected JPEG decode failure\t file: PetImages/Dog/9967.jpg"
      ]
     },
     "metadata": {},
     "output_type": "display_data"
    },
    {
     "data": {
      "text/html": [
       "<pre>Materializing SFrame</pre>"
      ],
      "text/plain": [
       "Materializing SFrame"
      ]
     },
     "metadata": {},
     "output_type": "display_data"
    }
   ],
   "source": [
    "import turicreate as tc\n",
    "\n",
    "# Load images (Note: you can ignore 'Not a JPEG file' errors)\n",
    "data = tc.image_analysis.load_images('PetImages', with_path=True)\n",
    "\n",
    "# From the path-name, create a label column\n",
    "data['label'] = data['path'].apply(lambda path: 'dog' if '/Dog' in path else 'cat')\n",
    "\n",
    "# Save the data for future use\n",
    "data.save('cats-dogs.sframe')\n",
    "\n",
    "# Explore interactively\n",
    "data.explore()"
   ]
  },
  {
   "cell_type": "code",
   "execution_count": null,
   "metadata": {},
   "outputs": [
    {
     "data": {
      "text/html": [
       "<pre>Analyzing and extracting image features.</pre>"
      ],
      "text/plain": [
       "Analyzing and extracting image features."
      ]
     },
     "metadata": {},
     "output_type": "display_data"
    },
    {
     "data": {
      "text/html": [
       "<pre>+------------------+--------------+------------------+</pre>"
      ],
      "text/plain": [
       "+------------------+--------------+------------------+"
      ]
     },
     "metadata": {},
     "output_type": "display_data"
    },
    {
     "data": {
      "text/html": [
       "<pre>| Images Processed | Elapsed Time | Percent Complete |</pre>"
      ],
      "text/plain": [
       "| Images Processed | Elapsed Time | Percent Complete |"
      ]
     },
     "metadata": {},
     "output_type": "display_data"
    },
    {
     "data": {
      "text/html": [
       "<pre>+------------------+--------------+------------------+</pre>"
      ],
      "text/plain": [
       "+------------------+--------------+------------------+"
      ]
     },
     "metadata": {},
     "output_type": "display_data"
    },
    {
     "data": {
      "text/html": [
       "<pre>| 64               | 57.71s       | 0.25%            |</pre>"
      ],
      "text/plain": [
       "| 64               | 57.71s       | 0.25%            |"
      ]
     },
     "metadata": {},
     "output_type": "display_data"
    },
    {
     "data": {
      "text/html": [
       "<pre>| 128              | 58.57s       | 0.5%             |</pre>"
      ],
      "text/plain": [
       "| 128              | 58.57s       | 0.5%             |"
      ]
     },
     "metadata": {},
     "output_type": "display_data"
    },
    {
     "data": {
      "text/html": [
       "<pre>| 192              | 58.78s       | 0.75%            |</pre>"
      ],
      "text/plain": [
       "| 192              | 58.78s       | 0.75%            |"
      ]
     },
     "metadata": {},
     "output_type": "display_data"
    },
    {
     "data": {
      "text/html": [
       "<pre>| 256              | 59.01s       | 1.25%            |</pre>"
      ],
      "text/plain": [
       "| 256              | 59.01s       | 1.25%            |"
      ]
     },
     "metadata": {},
     "output_type": "display_data"
    },
    {
     "data": {
      "text/html": [
       "<pre>| 320              | 1m 43s       | 1.5%             |</pre>"
      ],
      "text/plain": [
       "| 320              | 1m 43s       | 1.5%             |"
      ]
     },
     "metadata": {},
     "output_type": "display_data"
    },
    {
     "data": {
      "text/html": [
       "<pre>| 448              | 1m 49s       | 2%               |</pre>"
      ],
      "text/plain": [
       "| 448              | 1m 49s       | 2%               |"
      ]
     },
     "metadata": {},
     "output_type": "display_data"
    },
    {
     "data": {
      "text/html": [
       "<pre>| 512              | 1m 50s       | 2.5%             |</pre>"
      ],
      "text/plain": [
       "| 512              | 1m 50s       | 2.5%             |"
      ]
     },
     "metadata": {},
     "output_type": "display_data"
    },
    {
     "data": {
      "text/html": [
       "<pre>| 576              | 2m 47s       | 2.75%            |</pre>"
      ],
      "text/plain": [
       "| 576              | 2m 47s       | 2.75%            |"
      ]
     },
     "metadata": {},
     "output_type": "display_data"
    },
    {
     "data": {
      "text/html": [
       "<pre>| 640              | 2m 48s       | 3%               |</pre>"
      ],
      "text/plain": [
       "| 640              | 2m 48s       | 3%               |"
      ]
     },
     "metadata": {},
     "output_type": "display_data"
    },
    {
     "data": {
      "text/html": [
       "<pre>| 704              | 2m 50s       | 3.5%             |</pre>"
      ],
      "text/plain": [
       "| 704              | 2m 50s       | 3.5%             |"
      ]
     },
     "metadata": {},
     "output_type": "display_data"
    },
    {
     "data": {
      "text/html": [
       "<pre>| 768              | 2m 51s       | 3.75%            |</pre>"
      ],
      "text/plain": [
       "| 768              | 2m 51s       | 3.75%            |"
      ]
     },
     "metadata": {},
     "output_type": "display_data"
    },
    {
     "data": {
      "text/html": [
       "<pre>| 832              | 3m 49s       | 4%               |</pre>"
      ],
      "text/plain": [
       "| 832              | 3m 49s       | 4%               |"
      ]
     },
     "metadata": {},
     "output_type": "display_data"
    },
    {
     "data": {
      "text/html": [
       "<pre>| 896              | 3m 51s       | 4.25%            |</pre>"
      ],
      "text/plain": [
       "| 896              | 3m 51s       | 4.25%            |"
      ]
     },
     "metadata": {},
     "output_type": "display_data"
    },
    {
     "data": {
      "text/html": [
       "<pre>| 960              | 3m 52s       | 4.75%            |</pre>"
      ],
      "text/plain": [
       "| 960              | 3m 52s       | 4.75%            |"
      ]
     },
     "metadata": {},
     "output_type": "display_data"
    },
    {
     "data": {
      "text/html": [
       "<pre>| 1024             | 3m 53s       | 5%               |</pre>"
      ],
      "text/plain": [
       "| 1024             | 3m 53s       | 5%               |"
      ]
     },
     "metadata": {},
     "output_type": "display_data"
    },
    {
     "data": {
      "text/html": [
       "<pre>| 1088             | 4m 35s       | 5.25%            |</pre>"
      ],
      "text/plain": [
       "| 1088             | 4m 35s       | 5.25%            |"
      ]
     },
     "metadata": {},
     "output_type": "display_data"
    },
    {
     "data": {
      "text/html": [
       "<pre>| 1152             | 4m 37s       | 5.75%            |</pre>"
      ],
      "text/plain": [
       "| 1152             | 4m 37s       | 5.75%            |"
      ]
     },
     "metadata": {},
     "output_type": "display_data"
    },
    {
     "data": {
      "text/html": [
       "<pre>| 1216             | 4m 38s       | 6%               |</pre>"
      ],
      "text/plain": [
       "| 1216             | 4m 38s       | 6%               |"
      ]
     },
     "metadata": {},
     "output_type": "display_data"
    },
    {
     "data": {
      "text/html": [
       "<pre>| 1280             | 4m 39s       | 6.25%            |</pre>"
      ],
      "text/plain": [
       "| 1280             | 4m 39s       | 6.25%            |"
      ]
     },
     "metadata": {},
     "output_type": "display_data"
    },
    {
     "data": {
      "text/html": [
       "<pre>| 1344             | 5m 18s       | 6.5%             |</pre>"
      ],
      "text/plain": [
       "| 1344             | 5m 18s       | 6.5%             |"
      ]
     },
     "metadata": {},
     "output_type": "display_data"
    },
    {
     "data": {
      "text/html": [
       "<pre>| 1408             | 5m 19s       | 7%               |</pre>"
      ],
      "text/plain": [
       "| 1408             | 5m 19s       | 7%               |"
      ]
     },
     "metadata": {},
     "output_type": "display_data"
    },
    {
     "data": {
      "text/html": [
       "<pre>| 1472             | 5m 21s       | 7.25%            |</pre>"
      ],
      "text/plain": [
       "| 1472             | 5m 21s       | 7.25%            |"
      ]
     },
     "metadata": {},
     "output_type": "display_data"
    },
    {
     "data": {
      "text/html": [
       "<pre>| 1536             | 5m 22s       | 7.5%             |</pre>"
      ],
      "text/plain": [
       "| 1536             | 5m 22s       | 7.5%             |"
      ]
     },
     "metadata": {},
     "output_type": "display_data"
    },
    {
     "data": {
      "text/html": [
       "<pre>| 1600             | 6m 2s        | 8%               |</pre>"
      ],
      "text/plain": [
       "| 1600             | 6m 2s        | 8%               |"
      ]
     },
     "metadata": {},
     "output_type": "display_data"
    },
    {
     "data": {
      "text/html": [
       "<pre>| 1664             | 6m 3s        | 8.25%            |</pre>"
      ],
      "text/plain": [
       "| 1664             | 6m 3s        | 8.25%            |"
      ]
     },
     "metadata": {},
     "output_type": "display_data"
    },
    {
     "data": {
      "text/html": [
       "<pre>| 1728             | 6m 5s        | 8.5%             |</pre>"
      ],
      "text/plain": [
       "| 1728             | 6m 5s        | 8.5%             |"
      ]
     },
     "metadata": {},
     "output_type": "display_data"
    },
    {
     "data": {
      "text/html": [
       "<pre>| 1792             | 6m 6s        | 8.75%            |</pre>"
      ],
      "text/plain": [
       "| 1792             | 6m 6s        | 8.75%            |"
      ]
     },
     "metadata": {},
     "output_type": "display_data"
    },
    {
     "data": {
      "text/html": [
       "<pre>| 1856             | 6m 44s       | 9.25%            |</pre>"
      ],
      "text/plain": [
       "| 1856             | 6m 44s       | 9.25%            |"
      ]
     },
     "metadata": {},
     "output_type": "display_data"
    },
    {
     "data": {
      "text/html": [
       "<pre>| 1920             | 6m 45s       | 9.5%             |</pre>"
      ],
      "text/plain": [
       "| 1920             | 6m 45s       | 9.5%             |"
      ]
     },
     "metadata": {},
     "output_type": "display_data"
    },
    {
     "data": {
      "text/html": [
       "<pre>| 1984             | 6m 47s       | 9.75%            |</pre>"
      ],
      "text/plain": [
       "| 1984             | 6m 47s       | 9.75%            |"
      ]
     },
     "metadata": {},
     "output_type": "display_data"
    },
    {
     "data": {
      "text/html": [
       "<pre>| 2048             | 6m 48s       | 10.25%           |</pre>"
      ],
      "text/plain": [
       "| 2048             | 6m 48s       | 10.25%           |"
      ]
     },
     "metadata": {},
     "output_type": "display_data"
    },
    {
     "data": {
      "text/html": [
       "<pre>| 2112             | 7m 23s       | 10.5%            |</pre>"
      ],
      "text/plain": [
       "| 2112             | 7m 23s       | 10.5%            |"
      ]
     },
     "metadata": {},
     "output_type": "display_data"
    },
    {
     "data": {
      "text/html": [
       "<pre>| 2176             | 7m 25s       | 10.75%           |</pre>"
      ],
      "text/plain": [
       "| 2176             | 7m 25s       | 10.75%           |"
      ]
     },
     "metadata": {},
     "output_type": "display_data"
    },
    {
     "data": {
      "text/html": [
       "<pre>| 2240             | 7m 26s       | 11%              |</pre>"
      ],
      "text/plain": [
       "| 2240             | 7m 26s       | 11%              |"
      ]
     },
     "metadata": {},
     "output_type": "display_data"
    },
    {
     "data": {
      "text/html": [
       "<pre>| 2304             | 7m 27s       | 11.5%            |</pre>"
      ],
      "text/plain": [
       "| 2304             | 7m 27s       | 11.5%            |"
      ]
     },
     "metadata": {},
     "output_type": "display_data"
    },
    {
     "data": {
      "text/html": [
       "<pre>| 2368             | 8m 1s        | 11.75%           |</pre>"
      ],
      "text/plain": [
       "| 2368             | 8m 1s        | 11.75%           |"
      ]
     },
     "metadata": {},
     "output_type": "display_data"
    },
    {
     "data": {
      "text/html": [
       "<pre>| 2432             | 8m 2s        | 12%              |</pre>"
      ],
      "text/plain": [
       "| 2432             | 8m 2s        | 12%              |"
      ]
     },
     "metadata": {},
     "output_type": "display_data"
    },
    {
     "data": {
      "text/html": [
       "<pre>| 2496             | 8m 3s        | 12.5%            |</pre>"
      ],
      "text/plain": [
       "| 2496             | 8m 3s        | 12.5%            |"
      ]
     },
     "metadata": {},
     "output_type": "display_data"
    },
    {
     "data": {
      "text/html": [
       "<pre>| 2560             | 8m 4s        | 12.75%           |</pre>"
      ],
      "text/plain": [
       "| 2560             | 8m 4s        | 12.75%           |"
      ]
     },
     "metadata": {},
     "output_type": "display_data"
    },
    {
     "data": {
      "text/html": [
       "<pre>| 2624             | 8m 40s       | 13%              |</pre>"
      ],
      "text/plain": [
       "| 2624             | 8m 40s       | 13%              |"
      ]
     },
     "metadata": {},
     "output_type": "display_data"
    },
    {
     "data": {
      "text/html": [
       "<pre>| 2688             | 8m 41s       | 13.25%           |</pre>"
      ],
      "text/plain": [
       "| 2688             | 8m 41s       | 13.25%           |"
      ]
     },
     "metadata": {},
     "output_type": "display_data"
    },
    {
     "data": {
      "text/html": [
       "<pre>| 2752             | 8m 43s       | 13.75%           |</pre>"
      ],
      "text/plain": [
       "| 2752             | 8m 43s       | 13.75%           |"
      ]
     },
     "metadata": {},
     "output_type": "display_data"
    },
    {
     "data": {
      "text/html": [
       "<pre>| 2816             | 8m 44s       | 14%              |</pre>"
      ],
      "text/plain": [
       "| 2816             | 8m 44s       | 14%              |"
      ]
     },
     "metadata": {},
     "output_type": "display_data"
    },
    {
     "data": {
      "text/html": [
       "<pre>| 2880             | 9m 19s       | 14.25%           |</pre>"
      ],
      "text/plain": [
       "| 2880             | 9m 19s       | 14.25%           |"
      ]
     },
     "metadata": {},
     "output_type": "display_data"
    },
    {
     "data": {
      "text/html": [
       "<pre>| 2944             | 9m 22s       | 14.5%            |</pre>"
      ],
      "text/plain": [
       "| 2944             | 9m 22s       | 14.5%            |"
      ]
     },
     "metadata": {},
     "output_type": "display_data"
    },
    {
     "data": {
      "text/html": [
       "<pre>| 3008             | 9m 25s       | 15%              |</pre>"
      ],
      "text/plain": [
       "| 3008             | 9m 25s       | 15%              |"
      ]
     },
     "metadata": {},
     "output_type": "display_data"
    },
    {
     "data": {
      "text/html": [
       "<pre>| 3072             | 9m 26s       | 15.25%           |</pre>"
      ],
      "text/plain": [
       "| 3072             | 9m 26s       | 15.25%           |"
      ]
     },
     "metadata": {},
     "output_type": "display_data"
    },
    {
     "data": {
      "text/html": [
       "<pre>| 3136             | 10m 5s       | 15.5%            |</pre>"
      ],
      "text/plain": [
       "| 3136             | 10m 5s       | 15.5%            |"
      ]
     },
     "metadata": {},
     "output_type": "display_data"
    },
    {
     "data": {
      "text/html": [
       "<pre>| 3200             | 10m 7s       | 16%              |</pre>"
      ],
      "text/plain": [
       "| 3200             | 10m 7s       | 16%              |"
      ]
     },
     "metadata": {},
     "output_type": "display_data"
    },
    {
     "data": {
      "text/html": [
       "<pre>| 3264             | 10m 8s       | 16.25%           |</pre>"
      ],
      "text/plain": [
       "| 3264             | 10m 8s       | 16.25%           |"
      ]
     },
     "metadata": {},
     "output_type": "display_data"
    },
    {
     "data": {
      "text/html": [
       "<pre>| 3328             | 10m 10s      | 16.5%            |</pre>"
      ],
      "text/plain": [
       "| 3328             | 10m 10s      | 16.5%            |"
      ]
     },
     "metadata": {},
     "output_type": "display_data"
    },
    {
     "data": {
      "text/html": [
       "<pre>| 3392             | 10m 44s      | 16.75%           |</pre>"
      ],
      "text/plain": [
       "| 3392             | 10m 44s      | 16.75%           |"
      ]
     },
     "metadata": {},
     "output_type": "display_data"
    },
    {
     "data": {
      "text/html": [
       "<pre>| 3456             | 10m 46s      | 17.25%           |</pre>"
      ],
      "text/plain": [
       "| 3456             | 10m 46s      | 17.25%           |"
      ]
     },
     "metadata": {},
     "output_type": "display_data"
    },
    {
     "data": {
      "text/html": [
       "<pre>| 3520             | 10m 48s      | 17.5%            |</pre>"
      ],
      "text/plain": [
       "| 3520             | 10m 48s      | 17.5%            |"
      ]
     },
     "metadata": {},
     "output_type": "display_data"
    },
    {
     "data": {
      "text/html": [
       "<pre>| 3584             | 10m 49s      | 17.75%           |</pre>"
      ],
      "text/plain": [
       "| 3584             | 10m 49s      | 17.75%           |"
      ]
     },
     "metadata": {},
     "output_type": "display_data"
    },
    {
     "data": {
      "text/html": [
       "<pre>| 3648             | 11m 28s      | 18.25%           |</pre>"
      ],
      "text/plain": [
       "| 3648             | 11m 28s      | 18.25%           |"
      ]
     },
     "metadata": {},
     "output_type": "display_data"
    },
    {
     "data": {
      "text/html": [
       "<pre>| 3712             | 11m 29s      | 18.5%            |</pre>"
      ],
      "text/plain": [
       "| 3712             | 11m 29s      | 18.5%            |"
      ]
     },
     "metadata": {},
     "output_type": "display_data"
    },
    {
     "data": {
      "text/html": [
       "<pre>| 3776             | 11m 31s      | 18.75%           |</pre>"
      ],
      "text/plain": [
       "| 3776             | 11m 31s      | 18.75%           |"
      ]
     },
     "metadata": {},
     "output_type": "display_data"
    },
    {
     "data": {
      "text/html": [
       "<pre>| 3840             | 11m 32s      | 19%              |</pre>"
      ],
      "text/plain": [
       "| 3840             | 11m 32s      | 19%              |"
      ]
     },
     "metadata": {},
     "output_type": "display_data"
    },
    {
     "data": {
      "text/html": [
       "<pre>| 3904             | 12m 8s       | 19.5%            |</pre>"
      ],
      "text/plain": [
       "| 3904             | 12m 8s       | 19.5%            |"
      ]
     },
     "metadata": {},
     "output_type": "display_data"
    },
    {
     "data": {
      "text/html": [
       "<pre>| 3968             | 12m 10s      | 19.75%           |</pre>"
      ],
      "text/plain": [
       "| 3968             | 12m 10s      | 19.75%           |"
      ]
     },
     "metadata": {},
     "output_type": "display_data"
    },
    {
     "data": {
      "text/html": [
       "<pre>| 4032             | 12m 11s      | 20%              |</pre>"
      ],
      "text/plain": [
       "| 4032             | 12m 11s      | 20%              |"
      ]
     },
     "metadata": {},
     "output_type": "display_data"
    },
    {
     "data": {
      "text/html": [
       "<pre>| 4096             | 12m 12s      | 20.5%            |</pre>"
      ],
      "text/plain": [
       "| 4096             | 12m 12s      | 20.5%            |"
      ]
     },
     "metadata": {},
     "output_type": "display_data"
    },
    {
     "data": {
      "text/html": [
       "<pre>| 4160             | 12m 50s      | 20.75%           |</pre>"
      ],
      "text/plain": [
       "| 4160             | 12m 50s      | 20.75%           |"
      ]
     },
     "metadata": {},
     "output_type": "display_data"
    },
    {
     "data": {
      "text/html": [
       "<pre>| 4224             | 12m 51s      | 21%              |</pre>"
      ],
      "text/plain": [
       "| 4224             | 12m 51s      | 21%              |"
      ]
     },
     "metadata": {},
     "output_type": "display_data"
    },
    {
     "data": {
      "text/html": [
       "<pre>| 4288             | 12m 53s      | 21.25%           |</pre>"
      ],
      "text/plain": [
       "| 4288             | 12m 53s      | 21.25%           |"
      ]
     },
     "metadata": {},
     "output_type": "display_data"
    },
    {
     "data": {
      "text/html": [
       "<pre>| 4352             | 12m 54s      | 21.75%           |</pre>"
      ],
      "text/plain": [
       "| 4352             | 12m 54s      | 21.75%           |"
      ]
     },
     "metadata": {},
     "output_type": "display_data"
    },
    {
     "data": {
      "text/html": [
       "<pre>| 4416             | 13m 31s      | 22%              |</pre>"
      ],
      "text/plain": [
       "| 4416             | 13m 31s      | 22%              |"
      ]
     },
     "metadata": {},
     "output_type": "display_data"
    },
    {
     "data": {
      "text/html": [
       "<pre>| 4480             | 13m 33s      | 22.25%           |</pre>"
      ],
      "text/plain": [
       "| 4480             | 13m 33s      | 22.25%           |"
      ]
     },
     "metadata": {},
     "output_type": "display_data"
    },
    {
     "data": {
      "text/html": [
       "<pre>| 4544             | 13m 34s      | 22.75%           |</pre>"
      ],
      "text/plain": [
       "| 4544             | 13m 34s      | 22.75%           |"
      ]
     },
     "metadata": {},
     "output_type": "display_data"
    },
    {
     "data": {
      "text/html": [
       "<pre>| 4608             | 13m 35s      | 23%              |</pre>"
      ],
      "text/plain": [
       "| 4608             | 13m 35s      | 23%              |"
      ]
     },
     "metadata": {},
     "output_type": "display_data"
    },
    {
     "data": {
      "text/html": [
       "<pre>| 4672             | 14m 9s       | 23.25%           |</pre>"
      ],
      "text/plain": [
       "| 4672             | 14m 9s       | 23.25%           |"
      ]
     },
     "metadata": {},
     "output_type": "display_data"
    },
    {
     "data": {
      "text/html": [
       "<pre>| 4736             | 14m 11s      | 23.5%            |</pre>"
      ],
      "text/plain": [
       "| 4736             | 14m 11s      | 23.5%            |"
      ]
     },
     "metadata": {},
     "output_type": "display_data"
    },
    {
     "data": {
      "text/html": [
       "<pre>| 4800             | 14m 12s      | 24%              |</pre>"
      ],
      "text/plain": [
       "| 4800             | 14m 12s      | 24%              |"
      ]
     },
     "metadata": {},
     "output_type": "display_data"
    },
    {
     "data": {
      "text/html": [
       "<pre>| 4864             | 14m 14s      | 24.25%           |</pre>"
      ],
      "text/plain": [
       "| 4864             | 14m 14s      | 24.25%           |"
      ]
     },
     "metadata": {},
     "output_type": "display_data"
    },
    {
     "data": {
      "text/html": [
       "<pre>| 4928             | 14m 48s      | 24.5%            |</pre>"
      ],
      "text/plain": [
       "| 4928             | 14m 48s      | 24.5%            |"
      ]
     },
     "metadata": {},
     "output_type": "display_data"
    },
    {
     "data": {
      "text/html": [
       "<pre>| 4992             | 14m 51s      | 25%              |</pre>"
      ],
      "text/plain": [
       "| 4992             | 14m 51s      | 25%              |"
      ]
     },
     "metadata": {},
     "output_type": "display_data"
    },
    {
     "data": {
      "text/html": [
       "<pre>| 5056             | 14m 52s      | 25.25%           |</pre>"
      ],
      "text/plain": [
       "| 5056             | 14m 52s      | 25.25%           |"
      ]
     },
     "metadata": {},
     "output_type": "display_data"
    },
    {
     "data": {
      "text/html": [
       "<pre>| 5120             | 14m 53s      | 25.5%            |</pre>"
      ],
      "text/plain": [
       "| 5120             | 14m 53s      | 25.5%            |"
      ]
     },
     "metadata": {},
     "output_type": "display_data"
    },
    {
     "data": {
      "text/html": [
       "<pre>| 5184             | 15m 28s      | 25.75%           |</pre>"
      ],
      "text/plain": [
       "| 5184             | 15m 28s      | 25.75%           |"
      ]
     },
     "metadata": {},
     "output_type": "display_data"
    },
    {
     "data": {
      "text/html": [
       "<pre>| 5248             | 15m 31s      | 26.25%           |</pre>"
      ],
      "text/plain": [
       "| 5248             | 15m 31s      | 26.25%           |"
      ]
     },
     "metadata": {},
     "output_type": "display_data"
    },
    {
     "data": {
      "text/html": [
       "<pre>| 5312             | 15m 32s      | 26.5%            |</pre>"
      ],
      "text/plain": [
       "| 5312             | 15m 32s      | 26.5%            |"
      ]
     },
     "metadata": {},
     "output_type": "display_data"
    },
    {
     "data": {
      "text/html": [
       "<pre>| 5376             | 15m 33s      | 26.75%           |</pre>"
      ],
      "text/plain": [
       "| 5376             | 15m 33s      | 26.75%           |"
      ]
     },
     "metadata": {},
     "output_type": "display_data"
    },
    {
     "data": {
      "text/html": [
       "<pre>| 5440             | 16m 8s       | 27%              |</pre>"
      ],
      "text/plain": [
       "| 5440             | 16m 8s       | 27%              |"
      ]
     },
     "metadata": {},
     "output_type": "display_data"
    },
    {
     "data": {
      "text/html": [
       "<pre>| 5504             | 16m 10s      | 27.5%            |</pre>"
      ],
      "text/plain": [
       "| 5504             | 16m 10s      | 27.5%            |"
      ]
     },
     "metadata": {},
     "output_type": "display_data"
    },
    {
     "data": {
      "text/html": [
       "<pre>| 5568             | 16m 11s      | 27.75%           |</pre>"
      ],
      "text/plain": [
       "| 5568             | 16m 11s      | 27.75%           |"
      ]
     },
     "metadata": {},
     "output_type": "display_data"
    },
    {
     "data": {
      "text/html": [
       "<pre>| 5632             | 16m 13s      | 28%              |</pre>"
      ],
      "text/plain": [
       "| 5632             | 16m 13s      | 28%              |"
      ]
     },
     "metadata": {},
     "output_type": "display_data"
    },
    {
     "data": {
      "text/html": [
       "<pre>| 5696             | 16m 46s      | 28.5%            |</pre>"
      ],
      "text/plain": [
       "| 5696             | 16m 46s      | 28.5%            |"
      ]
     },
     "metadata": {},
     "output_type": "display_data"
    },
    {
     "data": {
      "text/html": [
       "<pre>| 5760             | 16m 48s      | 28.75%           |</pre>"
      ],
      "text/plain": [
       "| 5760             | 16m 48s      | 28.75%           |"
      ]
     },
     "metadata": {},
     "output_type": "display_data"
    },
    {
     "data": {
      "text/html": [
       "<pre>| 5824             | 16m 49s      | 29%              |</pre>"
      ],
      "text/plain": [
       "| 5824             | 16m 49s      | 29%              |"
      ]
     },
     "metadata": {},
     "output_type": "display_data"
    },
    {
     "data": {
      "text/html": [
       "<pre>| 5888             | 16m 50s      | 29.25%           |</pre>"
      ],
      "text/plain": [
       "| 5888             | 16m 50s      | 29.25%           |"
      ]
     },
     "metadata": {},
     "output_type": "display_data"
    },
    {
     "data": {
      "text/html": [
       "<pre>| 5952             | 17m 25s      | 29.75%           |</pre>"
      ],
      "text/plain": [
       "| 5952             | 17m 25s      | 29.75%           |"
      ]
     },
     "metadata": {},
     "output_type": "display_data"
    },
    {
     "data": {
      "text/html": [
       "<pre>| 6016             | 17m 28s      | 30%              |</pre>"
      ],
      "text/plain": [
       "| 6016             | 17m 28s      | 30%              |"
      ]
     },
     "metadata": {},
     "output_type": "display_data"
    },
    {
     "data": {
      "text/html": [
       "<pre>| 6080             | 17m 29s      | 30.25%           |</pre>"
      ],
      "text/plain": [
       "| 6080             | 17m 29s      | 30.25%           |"
      ]
     },
     "metadata": {},
     "output_type": "display_data"
    },
    {
     "data": {
      "text/html": [
       "<pre>| 6144             | 17m 30s      | 30.75%           |</pre>"
      ],
      "text/plain": [
       "| 6144             | 17m 30s      | 30.75%           |"
      ]
     },
     "metadata": {},
     "output_type": "display_data"
    },
    {
     "data": {
      "text/html": [
       "<pre>| 6208             | 18m 3s       | 31%              |</pre>"
      ],
      "text/plain": [
       "| 6208             | 18m 3s       | 31%              |"
      ]
     },
     "metadata": {},
     "output_type": "display_data"
    },
    {
     "data": {
      "text/html": [
       "<pre>| 6272             | 18m 6s       | 31.25%           |</pre>"
      ],
      "text/plain": [
       "| 6272             | 18m 6s       | 31.25%           |"
      ]
     },
     "metadata": {},
     "output_type": "display_data"
    },
    {
     "data": {
      "text/html": [
       "<pre>| 6336             | 18m 7s       | 31.5%            |</pre>"
      ],
      "text/plain": [
       "| 6336             | 18m 7s       | 31.5%            |"
      ]
     },
     "metadata": {},
     "output_type": "display_data"
    },
    {
     "data": {
      "text/html": [
       "<pre>| 6400             | 18m 8s       | 32%              |</pre>"
      ],
      "text/plain": [
       "| 6400             | 18m 8s       | 32%              |"
      ]
     },
     "metadata": {},
     "output_type": "display_data"
    },
    {
     "data": {
      "text/html": [
       "<pre>| 6464             | 18m 41s      | 32.25%           |</pre>"
      ],
      "text/plain": [
       "| 6464             | 18m 41s      | 32.25%           |"
      ]
     },
     "metadata": {},
     "output_type": "display_data"
    },
    {
     "data": {
      "text/html": [
       "<pre>| 6528             | 18m 44s      | 32.5%            |</pre>"
      ],
      "text/plain": [
       "| 6528             | 18m 44s      | 32.5%            |"
      ]
     },
     "metadata": {},
     "output_type": "display_data"
    },
    {
     "data": {
      "text/html": [
       "<pre>| 6592             | 18m 45s      | 33%              |</pre>"
      ],
      "text/plain": [
       "| 6592             | 18m 45s      | 33%              |"
      ]
     },
     "metadata": {},
     "output_type": "display_data"
    },
    {
     "data": {
      "text/html": [
       "<pre>| 6656             | 18m 45s      | 33.25%           |</pre>"
      ],
      "text/plain": [
       "| 6656             | 18m 45s      | 33.25%           |"
      ]
     },
     "metadata": {},
     "output_type": "display_data"
    },
    {
     "data": {
      "text/html": [
       "<pre>| 6720             | 19m 19s      | 33.5%            |</pre>"
      ],
      "text/plain": [
       "| 6720             | 19m 19s      | 33.5%            |"
      ]
     },
     "metadata": {},
     "output_type": "display_data"
    },
    {
     "data": {
      "text/html": [
       "<pre>| 6784             | 19m 22s      | 33.75%           |</pre>"
      ],
      "text/plain": [
       "| 6784             | 19m 22s      | 33.75%           |"
      ]
     },
     "metadata": {},
     "output_type": "display_data"
    },
    {
     "data": {
      "text/html": [
       "<pre>| 6848             | 19m 23s      | 34.25%           |</pre>"
      ],
      "text/plain": [
       "| 6848             | 19m 23s      | 34.25%           |"
      ]
     },
     "metadata": {},
     "output_type": "display_data"
    },
    {
     "data": {
      "text/html": [
       "<pre>| 6912             | 19m 24s      | 34.5%            |</pre>"
      ],
      "text/plain": [
       "| 6912             | 19m 24s      | 34.5%            |"
      ]
     },
     "metadata": {},
     "output_type": "display_data"
    },
    {
     "data": {
      "text/html": [
       "<pre>| 6976             | 20m 4s       | 34.75%           |</pre>"
      ],
      "text/plain": [
       "| 6976             | 20m 4s       | 34.75%           |"
      ]
     },
     "metadata": {},
     "output_type": "display_data"
    },
    {
     "data": {
      "text/html": [
       "<pre>| 7040             | 20m 7s       | 35.25%           |</pre>"
      ],
      "text/plain": [
       "| 7040             | 20m 7s       | 35.25%           |"
      ]
     },
     "metadata": {},
     "output_type": "display_data"
    },
    {
     "data": {
      "text/html": [
       "<pre>| 7104             | 20m 8s       | 35.5%            |</pre>"
      ],
      "text/plain": [
       "| 7104             | 20m 8s       | 35.5%            |"
      ]
     },
     "metadata": {},
     "output_type": "display_data"
    },
    {
     "data": {
      "text/html": [
       "<pre>| 7168             | 20m 10s      | 35.75%           |</pre>"
      ],
      "text/plain": [
       "| 7168             | 20m 10s      | 35.75%           |"
      ]
     },
     "metadata": {},
     "output_type": "display_data"
    },
    {
     "data": {
      "text/html": [
       "<pre>| 7232             | 20m 47s      | 36%              |</pre>"
      ],
      "text/plain": [
       "| 7232             | 20m 47s      | 36%              |"
      ]
     },
     "metadata": {},
     "output_type": "display_data"
    },
    {
     "data": {
      "text/html": [
       "<pre>| 7296             | 20m 50s      | 36.5%            |</pre>"
      ],
      "text/plain": [
       "| 7296             | 20m 50s      | 36.5%            |"
      ]
     },
     "metadata": {},
     "output_type": "display_data"
    },
    {
     "data": {
      "text/html": [
       "<pre>| 7360             | 20m 51s      | 36.75%           |</pre>"
      ],
      "text/plain": [
       "| 7360             | 20m 51s      | 36.75%           |"
      ]
     },
     "metadata": {},
     "output_type": "display_data"
    },
    {
     "data": {
      "text/html": [
       "<pre>| 7424             | 20m 53s      | 37%              |</pre>"
      ],
      "text/plain": [
       "| 7424             | 20m 53s      | 37%              |"
      ]
     },
     "metadata": {},
     "output_type": "display_data"
    },
    {
     "data": {
      "text/html": [
       "<pre>| 7488             | 21m 32s      | 37.5%            |</pre>"
      ],
      "text/plain": [
       "| 7488             | 21m 32s      | 37.5%            |"
      ]
     },
     "metadata": {},
     "output_type": "display_data"
    },
    {
     "data": {
      "text/html": [
       "<pre>| 7552             | 21m 35s      | 37.75%           |</pre>"
      ],
      "text/plain": [
       "| 7552             | 21m 35s      | 37.75%           |"
      ]
     },
     "metadata": {},
     "output_type": "display_data"
    },
    {
     "data": {
      "text/html": [
       "<pre>| 7616             | 21m 37s      | 38%              |</pre>"
      ],
      "text/plain": [
       "| 7616             | 21m 37s      | 38%              |"
      ]
     },
     "metadata": {},
     "output_type": "display_data"
    },
    {
     "data": {
      "text/html": [
       "<pre>| 7680             | 21m 39s      | 38.25%           |</pre>"
      ],
      "text/plain": [
       "| 7680             | 21m 39s      | 38.25%           |"
      ]
     },
     "metadata": {},
     "output_type": "display_data"
    },
    {
     "data": {
      "text/html": [
       "<pre>| 7744             | 22m 16s      | 38.75%           |</pre>"
      ],
      "text/plain": [
       "| 7744             | 22m 16s      | 38.75%           |"
      ]
     },
     "metadata": {},
     "output_type": "display_data"
    },
    {
     "data": {
      "text/html": [
       "<pre>| 7808             | 22m 18s      | 39%              |</pre>"
      ],
      "text/plain": [
       "| 7808             | 22m 18s      | 39%              |"
      ]
     },
     "metadata": {},
     "output_type": "display_data"
    },
    {
     "data": {
      "text/html": [
       "<pre>| 7872             | 22m 20s      | 39.25%           |</pre>"
      ],
      "text/plain": [
       "| 7872             | 22m 20s      | 39.25%           |"
      ]
     },
     "metadata": {},
     "output_type": "display_data"
    },
    {
     "data": {
      "text/html": [
       "<pre>| 7936             | 22m 24s      | 39.5%            |</pre>"
      ],
      "text/plain": [
       "| 7936             | 22m 24s      | 39.5%            |"
      ]
     },
     "metadata": {},
     "output_type": "display_data"
    },
    {
     "data": {
      "text/html": [
       "<pre>| 8000             | 23m 1s       | 40%              |</pre>"
      ],
      "text/plain": [
       "| 8000             | 23m 1s       | 40%              |"
      ]
     },
     "metadata": {},
     "output_type": "display_data"
    },
    {
     "data": {
      "text/html": [
       "<pre>| 8064             | 23m 4s       | 40.25%           |</pre>"
      ],
      "text/plain": [
       "| 8064             | 23m 4s       | 40.25%           |"
      ]
     },
     "metadata": {},
     "output_type": "display_data"
    },
    {
     "data": {
      "text/html": [
       "<pre>| 8128             | 23m 6s       | 40.5%            |</pre>"
      ],
      "text/plain": [
       "| 8128             | 23m 6s       | 40.5%            |"
      ]
     },
     "metadata": {},
     "output_type": "display_data"
    },
    {
     "data": {
      "text/html": [
       "<pre>| 8192             | 23m 8s       | 41%              |</pre>"
      ],
      "text/plain": [
       "| 8192             | 23m 8s       | 41%              |"
      ]
     },
     "metadata": {},
     "output_type": "display_data"
    },
    {
     "data": {
      "text/html": [
       "<pre>| 8256             | 23m 43s      | 41.25%           |</pre>"
      ],
      "text/plain": [
       "| 8256             | 23m 43s      | 41.25%           |"
      ]
     },
     "metadata": {},
     "output_type": "display_data"
    },
    {
     "data": {
      "text/html": [
       "<pre>| 8320             | 23m 45s      | 41.5%            |</pre>"
      ],
      "text/plain": [
       "| 8320             | 23m 45s      | 41.5%            |"
      ]
     },
     "metadata": {},
     "output_type": "display_data"
    },
    {
     "data": {
      "text/html": [
       "<pre>| 8384             | 23m 46s      | 41.75%           |</pre>"
      ],
      "text/plain": [
       "| 8384             | 23m 46s      | 41.75%           |"
      ]
     },
     "metadata": {},
     "output_type": "display_data"
    },
    {
     "data": {
      "text/html": [
       "<pre>| 8448             | 23m 49s      | 42.25%           |</pre>"
      ],
      "text/plain": [
       "| 8448             | 23m 49s      | 42.25%           |"
      ]
     },
     "metadata": {},
     "output_type": "display_data"
    },
    {
     "data": {
      "text/html": [
       "<pre>| 8512             | 24m 22s      | 42.5%            |</pre>"
      ],
      "text/plain": [
       "| 8512             | 24m 22s      | 42.5%            |"
      ]
     },
     "metadata": {},
     "output_type": "display_data"
    },
    {
     "data": {
      "text/html": [
       "<pre>| 8576             | 24m 24s      | 42.75%           |</pre>"
      ],
      "text/plain": [
       "| 8576             | 24m 24s      | 42.75%           |"
      ]
     },
     "metadata": {},
     "output_type": "display_data"
    },
    {
     "data": {
      "text/html": [
       "<pre>| 8640             | 24m 25s      | 43.25%           |</pre>"
      ],
      "text/plain": [
       "| 8640             | 24m 25s      | 43.25%           |"
      ]
     },
     "metadata": {},
     "output_type": "display_data"
    },
    {
     "data": {
      "text/html": [
       "<pre>| 8704             | 24m 27s      | 43.5%            |</pre>"
      ],
      "text/plain": [
       "| 8704             | 24m 27s      | 43.5%            |"
      ]
     },
     "metadata": {},
     "output_type": "display_data"
    },
    {
     "data": {
      "text/html": [
       "<pre>| 8768             | 25m 3s       | 43.75%           |</pre>"
      ],
      "text/plain": [
       "| 8768             | 25m 3s       | 43.75%           |"
      ]
     },
     "metadata": {},
     "output_type": "display_data"
    },
    {
     "data": {
      "text/html": [
       "<pre>| 8832             | 25m 5s       | 44%              |</pre>"
      ],
      "text/plain": [
       "| 8832             | 25m 5s       | 44%              |"
      ]
     },
     "metadata": {},
     "output_type": "display_data"
    },
    {
     "data": {
      "text/html": [
       "<pre>| 8896             | 25m 6s       | 44.5%            |</pre>"
      ],
      "text/plain": [
       "| 8896             | 25m 6s       | 44.5%            |"
      ]
     },
     "metadata": {},
     "output_type": "display_data"
    },
    {
     "data": {
      "text/html": [
       "<pre>| 8960             | 25m 8s       | 44.75%           |</pre>"
      ],
      "text/plain": [
       "| 8960             | 25m 8s       | 44.75%           |"
      ]
     },
     "metadata": {},
     "output_type": "display_data"
    },
    {
     "data": {
      "text/html": [
       "<pre>| 9024             | 25m 41s      | 45%              |</pre>"
      ],
      "text/plain": [
       "| 9024             | 25m 41s      | 45%              |"
      ]
     },
     "metadata": {},
     "output_type": "display_data"
    },
    {
     "data": {
      "text/html": [
       "<pre>| 9088             | 25m 43s      | 45.5%            |</pre>"
      ],
      "text/plain": [
       "| 9088             | 25m 43s      | 45.5%            |"
      ]
     },
     "metadata": {},
     "output_type": "display_data"
    },
    {
     "data": {
      "text/html": [
       "<pre>| 9152             | 25m 44s      | 45.75%           |</pre>"
      ],
      "text/plain": [
       "| 9152             | 25m 44s      | 45.75%           |"
      ]
     },
     "metadata": {},
     "output_type": "display_data"
    },
    {
     "data": {
      "text/html": [
       "<pre>| 9216             | 25m 46s      | 46%              |</pre>"
      ],
      "text/plain": [
       "| 9216             | 25m 46s      | 46%              |"
      ]
     },
     "metadata": {},
     "output_type": "display_data"
    },
    {
     "data": {
      "text/html": [
       "<pre>| 9280             | 26m 19s      | 46.25%           |</pre>"
      ],
      "text/plain": [
       "| 9280             | 26m 19s      | 46.25%           |"
      ]
     },
     "metadata": {},
     "output_type": "display_data"
    },
    {
     "data": {
      "text/html": [
       "<pre>| 9344             | 26m 21s      | 46.75%           |</pre>"
      ],
      "text/plain": [
       "| 9344             | 26m 21s      | 46.75%           |"
      ]
     },
     "metadata": {},
     "output_type": "display_data"
    },
    {
     "data": {
      "text/html": [
       "<pre>| 9408             | 26m 22s      | 47%              |</pre>"
      ],
      "text/plain": [
       "| 9408             | 26m 22s      | 47%              |"
      ]
     },
     "metadata": {},
     "output_type": "display_data"
    },
    {
     "data": {
      "text/html": [
       "<pre>| 9472             | 26m 25s      | 47.25%           |</pre>"
      ],
      "text/plain": [
       "| 9472             | 26m 25s      | 47.25%           |"
      ]
     },
     "metadata": {},
     "output_type": "display_data"
    },
    {
     "data": {
      "text/html": [
       "<pre>| 9536             | 26m 57s      | 47.75%           |</pre>"
      ],
      "text/plain": [
       "| 9536             | 26m 57s      | 47.75%           |"
      ]
     },
     "metadata": {},
     "output_type": "display_data"
    },
    {
     "data": {
      "text/html": [
       "<pre>| 9600             | 26m 58s      | 48%              |</pre>"
      ],
      "text/plain": [
       "| 9600             | 26m 58s      | 48%              |"
      ]
     },
     "metadata": {},
     "output_type": "display_data"
    },
    {
     "data": {
      "text/html": [
       "<pre>| 9664             | 26m 59s      | 48.25%           |</pre>"
      ],
      "text/plain": [
       "| 9664             | 26m 59s      | 48.25%           |"
      ]
     },
     "metadata": {},
     "output_type": "display_data"
    },
    {
     "data": {
      "text/html": [
       "<pre>| 9728             | 27m 2s       | 48.5%            |</pre>"
      ],
      "text/plain": [
       "| 9728             | 27m 2s       | 48.5%            |"
      ]
     },
     "metadata": {},
     "output_type": "display_data"
    },
    {
     "data": {
      "text/html": [
       "<pre>| 9792             | 27m 35s      | 49%              |</pre>"
      ],
      "text/plain": [
       "| 9792             | 27m 35s      | 49%              |"
      ]
     },
     "metadata": {},
     "output_type": "display_data"
    },
    {
     "data": {
      "text/html": [
       "<pre>| 9856             | 27m 37s      | 49.25%           |</pre>"
      ],
      "text/plain": [
       "| 9856             | 27m 37s      | 49.25%           |"
      ]
     },
     "metadata": {},
     "output_type": "display_data"
    },
    {
     "data": {
      "text/html": [
       "<pre>| 9920             | 27m 38s      | 49.5%            |</pre>"
      ],
      "text/plain": [
       "| 9920             | 27m 38s      | 49.5%            |"
      ]
     },
     "metadata": {},
     "output_type": "display_data"
    },
    {
     "data": {
      "text/html": [
       "<pre>| 9984             | 27m 40s      | 50%              |</pre>"
      ],
      "text/plain": [
       "| 9984             | 27m 40s      | 50%              |"
      ]
     },
     "metadata": {},
     "output_type": "display_data"
    },
    {
     "data": {
      "text/html": [
       "<pre>| 10048            | 28m 17s      | 50.25%           |</pre>"
      ],
      "text/plain": [
       "| 10048            | 28m 17s      | 50.25%           |"
      ]
     },
     "metadata": {},
     "output_type": "display_data"
    },
    {
     "data": {
      "text/html": [
       "<pre>| 10112            | 28m 19s      | 50.5%            |</pre>"
      ],
      "text/plain": [
       "| 10112            | 28m 19s      | 50.5%            |"
      ]
     },
     "metadata": {},
     "output_type": "display_data"
    },
    {
     "data": {
      "text/html": [
       "<pre>| 10176            | 28m 20s      | 50.75%           |</pre>"
      ],
      "text/plain": [
       "| 10176            | 28m 20s      | 50.75%           |"
      ]
     },
     "metadata": {},
     "output_type": "display_data"
    },
    {
     "data": {
      "text/html": [
       "<pre>| 10240            | 28m 22s      | 51.25%           |</pre>"
      ],
      "text/plain": [
       "| 10240            | 28m 22s      | 51.25%           |"
      ]
     },
     "metadata": {},
     "output_type": "display_data"
    },
    {
     "data": {
      "text/html": [
       "<pre>| 10304            | 29m 1s       | 51.5%            |</pre>"
      ],
      "text/plain": [
       "| 10304            | 29m 1s       | 51.5%            |"
      ]
     },
     "metadata": {},
     "output_type": "display_data"
    },
    {
     "data": {
      "text/html": [
       "<pre>| 10368            | 29m 2s       | 51.75%           |</pre>"
      ],
      "text/plain": [
       "| 10368            | 29m 2s       | 51.75%           |"
      ]
     },
     "metadata": {},
     "output_type": "display_data"
    },
    {
     "data": {
      "text/html": [
       "<pre>| 10432            | 29m 3s       | 52%              |</pre>"
      ],
      "text/plain": [
       "| 10432            | 29m 3s       | 52%              |"
      ]
     },
     "metadata": {},
     "output_type": "display_data"
    },
    {
     "data": {
      "text/html": [
       "<pre>| 10496            | 29m 6s       | 52.5%            |</pre>"
      ],
      "text/plain": [
       "| 10496            | 29m 6s       | 52.5%            |"
      ]
     },
     "metadata": {},
     "output_type": "display_data"
    },
    {
     "data": {
      "text/html": [
       "<pre>| 10560            | 29m 48s      | 52.75%           |</pre>"
      ],
      "text/plain": [
       "| 10560            | 29m 48s      | 52.75%           |"
      ]
     },
     "metadata": {},
     "output_type": "display_data"
    },
    {
     "data": {
      "text/html": [
       "<pre>| 10624            | 29m 49s      | 53%              |</pre>"
      ],
      "text/plain": [
       "| 10624            | 29m 49s      | 53%              |"
      ]
     },
     "metadata": {},
     "output_type": "display_data"
    },
    {
     "data": {
      "text/html": [
       "<pre>| 10688            | 29m 50s      | 53.5%            |</pre>"
      ],
      "text/plain": [
       "| 10688            | 29m 50s      | 53.5%            |"
      ]
     },
     "metadata": {},
     "output_type": "display_data"
    },
    {
     "data": {
      "text/html": [
       "<pre>| 10752            | 29m 54s      | 53.75%           |</pre>"
      ],
      "text/plain": [
       "| 10752            | 29m 54s      | 53.75%           |"
      ]
     },
     "metadata": {},
     "output_type": "display_data"
    },
    {
     "data": {
      "text/html": [
       "<pre>| 10816            | 30m 35s      | 54%              |</pre>"
      ],
      "text/plain": [
       "| 10816            | 30m 35s      | 54%              |"
      ]
     },
     "metadata": {},
     "output_type": "display_data"
    },
    {
     "data": {
      "text/html": [
       "<pre>| 10880            | 30m 37s      | 54.25%           |</pre>"
      ],
      "text/plain": [
       "| 10880            | 30m 37s      | 54.25%           |"
      ]
     },
     "metadata": {},
     "output_type": "display_data"
    },
    {
     "data": {
      "text/html": [
       "<pre>| 10944            | 30m 39s      | 54.75%           |</pre>"
      ],
      "text/plain": [
       "| 10944            | 30m 39s      | 54.75%           |"
      ]
     },
     "metadata": {},
     "output_type": "display_data"
    },
    {
     "data": {
      "text/html": [
       "<pre>| 11008            | 30m 42s      | 55%              |</pre>"
      ],
      "text/plain": [
       "| 11008            | 30m 42s      | 55%              |"
      ]
     },
     "metadata": {},
     "output_type": "display_data"
    },
    {
     "data": {
      "text/html": [
       "<pre>| 11072            | 31m 24s      | 55.25%           |</pre>"
      ],
      "text/plain": [
       "| 11072            | 31m 24s      | 55.25%           |"
      ]
     },
     "metadata": {},
     "output_type": "display_data"
    },
    {
     "data": {
      "text/html": [
       "<pre>| 11136            | 31m 26s      | 55.75%           |</pre>"
      ],
      "text/plain": [
       "| 11136            | 31m 26s      | 55.75%           |"
      ]
     },
     "metadata": {},
     "output_type": "display_data"
    },
    {
     "data": {
      "text/html": [
       "<pre>| 11200            | 31m 27s      | 56%              |</pre>"
      ],
      "text/plain": [
       "| 11200            | 31m 27s      | 56%              |"
      ]
     },
     "metadata": {},
     "output_type": "display_data"
    },
    {
     "data": {
      "text/html": [
       "<pre>| 11264            | 31m 30s      | 56.25%           |</pre>"
      ],
      "text/plain": [
       "| 11264            | 31m 30s      | 56.25%           |"
      ]
     },
     "metadata": {},
     "output_type": "display_data"
    },
    {
     "data": {
      "text/html": [
       "<pre>| 11328            | 32m 11s      | 56.5%            |</pre>"
      ],
      "text/plain": [
       "| 11328            | 32m 11s      | 56.5%            |"
      ]
     },
     "metadata": {},
     "output_type": "display_data"
    },
    {
     "data": {
      "text/html": [
       "<pre>| 11392            | 32m 13s      | 57%              |</pre>"
      ],
      "text/plain": [
       "| 11392            | 32m 13s      | 57%              |"
      ]
     },
     "metadata": {},
     "output_type": "display_data"
    },
    {
     "data": {
      "text/html": [
       "<pre>| 11456            | 32m 14s      | 57.25%           |</pre>"
      ],
      "text/plain": [
       "| 11456            | 32m 14s      | 57.25%           |"
      ]
     },
     "metadata": {},
     "output_type": "display_data"
    },
    {
     "data": {
      "text/html": [
       "<pre>| 11520            | 32m 17s      | 57.5%            |</pre>"
      ],
      "text/plain": [
       "| 11520            | 32m 17s      | 57.5%            |"
      ]
     },
     "metadata": {},
     "output_type": "display_data"
    },
    {
     "data": {
      "text/html": [
       "<pre>| 11584            | 32m 53s      | 58%              |</pre>"
      ],
      "text/plain": [
       "| 11584            | 32m 53s      | 58%              |"
      ]
     },
     "metadata": {},
     "output_type": "display_data"
    },
    {
     "data": {
      "text/html": [
       "<pre>| 11648            | 32m 55s      | 58.25%           |</pre>"
      ],
      "text/plain": [
       "| 11648            | 32m 55s      | 58.25%           |"
      ]
     },
     "metadata": {},
     "output_type": "display_data"
    },
    {
     "data": {
      "text/html": [
       "<pre>| 11712            | 32m 56s      | 58.5%            |</pre>"
      ],
      "text/plain": [
       "| 11712            | 32m 56s      | 58.5%            |"
      ]
     },
     "metadata": {},
     "output_type": "display_data"
    },
    {
     "data": {
      "text/html": [
       "<pre>| 11776            | 33m 0s       | 58.75%           |</pre>"
      ],
      "text/plain": [
       "| 11776            | 33m 0s       | 58.75%           |"
      ]
     },
     "metadata": {},
     "output_type": "display_data"
    },
    {
     "data": {
      "text/html": [
       "<pre>| 11840            | 33m 36s      | 59.25%           |</pre>"
      ],
      "text/plain": [
       "| 11840            | 33m 36s      | 59.25%           |"
      ]
     },
     "metadata": {},
     "output_type": "display_data"
    },
    {
     "data": {
      "text/html": [
       "<pre>| 11904            | 33m 38s      | 59.5%            |</pre>"
      ],
      "text/plain": [
       "| 11904            | 33m 38s      | 59.5%            |"
      ]
     },
     "metadata": {},
     "output_type": "display_data"
    },
    {
     "data": {
      "text/html": [
       "<pre>| 11968            | 33m 39s      | 59.75%           |</pre>"
      ],
      "text/plain": [
       "| 11968            | 33m 39s      | 59.75%           |"
      ]
     },
     "metadata": {},
     "output_type": "display_data"
    },
    {
     "data": {
      "text/html": [
       "<pre>| 12032            | 33m 42s      | 60.25%           |</pre>"
      ],
      "text/plain": [
       "| 12032            | 33m 42s      | 60.25%           |"
      ]
     },
     "metadata": {},
     "output_type": "display_data"
    },
    {
     "data": {
      "text/html": [
       "<pre>| 12096            | 34m 16s      | 60.5%            |</pre>"
      ],
      "text/plain": [
       "| 12096            | 34m 16s      | 60.5%            |"
      ]
     },
     "metadata": {},
     "output_type": "display_data"
    },
    {
     "data": {
      "text/html": [
       "<pre>| 12160            | 34m 19s      | 60.75%           |</pre>"
      ],
      "text/plain": [
       "| 12160            | 34m 19s      | 60.75%           |"
      ]
     },
     "metadata": {},
     "output_type": "display_data"
    },
    {
     "data": {
      "text/html": [
       "<pre>| 12224            | 34m 19s      | 61%              |</pre>"
      ],
      "text/plain": [
       "| 12224            | 34m 19s      | 61%              |"
      ]
     },
     "metadata": {},
     "output_type": "display_data"
    },
    {
     "data": {
      "text/html": [
       "<pre>| 12288            | 34m 22s      | 61.5%            |</pre>"
      ],
      "text/plain": [
       "| 12288            | 34m 22s      | 61.5%            |"
      ]
     },
     "metadata": {},
     "output_type": "display_data"
    },
    {
     "data": {
      "text/html": [
       "<pre>| 12352            | 35m 1s       | 61.75%           |</pre>"
      ],
      "text/plain": [
       "| 12352            | 35m 1s       | 61.75%           |"
      ]
     },
     "metadata": {},
     "output_type": "display_data"
    },
    {
     "data": {
      "text/html": [
       "<pre>| 12416            | 35m 4s       | 62%              |</pre>"
      ],
      "text/plain": [
       "| 12416            | 35m 4s       | 62%              |"
      ]
     },
     "metadata": {},
     "output_type": "display_data"
    },
    {
     "data": {
      "text/html": [
       "<pre>| 12480            | 35m 5s       | 62.5%            |</pre>"
      ],
      "text/plain": [
       "| 12480            | 35m 5s       | 62.5%            |"
      ]
     },
     "metadata": {},
     "output_type": "display_data"
    },
    {
     "data": {
      "text/html": [
       "<pre>| 12544            | 35m 7s       | 62.75%           |</pre>"
      ],
      "text/plain": [
       "| 12544            | 35m 7s       | 62.75%           |"
      ]
     },
     "metadata": {},
     "output_type": "display_data"
    },
    {
     "data": {
      "text/html": [
       "<pre>| 12608            | 35m 44s      | 63%              |</pre>"
      ],
      "text/plain": [
       "| 12608            | 35m 44s      | 63%              |"
      ]
     },
     "metadata": {},
     "output_type": "display_data"
    },
    {
     "data": {
      "text/html": [
       "<pre>| 12672            | 35m 46s      | 63.25%           |</pre>"
      ],
      "text/plain": [
       "| 12672            | 35m 46s      | 63.25%           |"
      ]
     },
     "metadata": {},
     "output_type": "display_data"
    },
    {
     "data": {
      "text/html": [
       "<pre>| 12736            | 35m 47s      | 63.75%           |</pre>"
      ],
      "text/plain": [
       "| 12736            | 35m 47s      | 63.75%           |"
      ]
     },
     "metadata": {},
     "output_type": "display_data"
    },
    {
     "data": {
      "text/html": [
       "<pre>| 12800            | 35m 49s      | 64%              |</pre>"
      ],
      "text/plain": [
       "| 12800            | 35m 49s      | 64%              |"
      ]
     },
     "metadata": {},
     "output_type": "display_data"
    },
    {
     "data": {
      "text/html": [
       "<pre>| 12864            | 36m 27s      | 64.25%           |</pre>"
      ],
      "text/plain": [
       "| 12864            | 36m 27s      | 64.25%           |"
      ]
     },
     "metadata": {},
     "output_type": "display_data"
    },
    {
     "data": {
      "text/html": [
       "<pre>| 12928            | 36m 29s      | 64.5%            |</pre>"
      ],
      "text/plain": [
       "| 12928            | 36m 29s      | 64.5%            |"
      ]
     },
     "metadata": {},
     "output_type": "display_data"
    },
    {
     "data": {
      "text/html": [
       "<pre>| 12992            | 36m 30s      | 65%              |</pre>"
      ],
      "text/plain": [
       "| 12992            | 36m 30s      | 65%              |"
      ]
     },
     "metadata": {},
     "output_type": "display_data"
    },
    {
     "data": {
      "text/html": [
       "<pre>| 13056            | 36m 32s      | 65.25%           |</pre>"
      ],
      "text/plain": [
       "| 13056            | 36m 32s      | 65.25%           |"
      ]
     },
     "metadata": {},
     "output_type": "display_data"
    },
    {
     "data": {
      "text/html": [
       "<pre>| 13120            | 37m 13s      | 65.5%            |</pre>"
      ],
      "text/plain": [
       "| 13120            | 37m 13s      | 65.5%            |"
      ]
     },
     "metadata": {},
     "output_type": "display_data"
    },
    {
     "data": {
      "text/html": [
       "<pre>| 13184            | 37m 15s      | 66%              |</pre>"
      ],
      "text/plain": [
       "| 13184            | 37m 15s      | 66%              |"
      ]
     },
     "metadata": {},
     "output_type": "display_data"
    },
    {
     "data": {
      "text/html": [
       "<pre>| 13248            | 37m 16s      | 66.25%           |</pre>"
      ],
      "text/plain": [
       "| 13248            | 37m 16s      | 66.25%           |"
      ]
     },
     "metadata": {},
     "output_type": "display_data"
    },
    {
     "data": {
      "text/html": [
       "<pre>| 13312            | 37m 18s      | 66.5%            |</pre>"
      ],
      "text/plain": [
       "| 13312            | 37m 18s      | 66.5%            |"
      ]
     },
     "metadata": {},
     "output_type": "display_data"
    },
    {
     "data": {
      "text/html": [
       "<pre>| 13376            | 38m 0s       | 66.75%           |</pre>"
      ],
      "text/plain": [
       "| 13376            | 38m 0s       | 66.75%           |"
      ]
     },
     "metadata": {},
     "output_type": "display_data"
    },
    {
     "data": {
      "text/html": [
       "<pre>| 13440            | 38m 1s       | 67.25%           |</pre>"
      ],
      "text/plain": [
       "| 13440            | 38m 1s       | 67.25%           |"
      ]
     },
     "metadata": {},
     "output_type": "display_data"
    },
    {
     "data": {
      "text/html": [
       "<pre>| 13504            | 38m 3s       | 67.5%            |</pre>"
      ],
      "text/plain": [
       "| 13504            | 38m 3s       | 67.5%            |"
      ]
     },
     "metadata": {},
     "output_type": "display_data"
    },
    {
     "data": {
      "text/html": [
       "<pre>| 13568            | 38m 4s       | 67.75%           |</pre>"
      ],
      "text/plain": [
       "| 13568            | 38m 4s       | 67.75%           |"
      ]
     },
     "metadata": {},
     "output_type": "display_data"
    },
    {
     "data": {
      "text/html": [
       "<pre>| 13632            | 38m 41s      | 68.25%           |</pre>"
      ],
      "text/plain": [
       "| 13632            | 38m 41s      | 68.25%           |"
      ]
     },
     "metadata": {},
     "output_type": "display_data"
    },
    {
     "data": {
      "text/html": [
       "<pre>| 13696            | 38m 42s      | 68.5%            |</pre>"
      ],
      "text/plain": [
       "| 13696            | 38m 42s      | 68.5%            |"
      ]
     },
     "metadata": {},
     "output_type": "display_data"
    },
    {
     "data": {
      "text/html": [
       "<pre>| 13760            | 38m 44s      | 68.75%           |</pre>"
      ],
      "text/plain": [
       "| 13760            | 38m 44s      | 68.75%           |"
      ]
     },
     "metadata": {},
     "output_type": "display_data"
    },
    {
     "data": {
      "text/html": [
       "<pre>| 13824            | 38m 46s      | 69%              |</pre>"
      ],
      "text/plain": [
       "| 13824            | 38m 46s      | 69%              |"
      ]
     },
     "metadata": {},
     "output_type": "display_data"
    },
    {
     "data": {
      "text/html": [
       "<pre>| 13888            | 39m 20s      | 69.5%            |</pre>"
      ],
      "text/plain": [
       "| 13888            | 39m 20s      | 69.5%            |"
      ]
     },
     "metadata": {},
     "output_type": "display_data"
    },
    {
     "data": {
      "text/html": [
       "<pre>| 13952            | 39m 22s      | 69.75%           |</pre>"
      ],
      "text/plain": [
       "| 13952            | 39m 22s      | 69.75%           |"
      ]
     },
     "metadata": {},
     "output_type": "display_data"
    },
    {
     "data": {
      "text/html": [
       "<pre>| 14016            | 39m 23s      | 70%              |</pre>"
      ],
      "text/plain": [
       "| 14016            | 39m 23s      | 70%              |"
      ]
     },
     "metadata": {},
     "output_type": "display_data"
    },
    {
     "data": {
      "text/html": [
       "<pre>| 14080            | 39m 25s      | 70.5%            |</pre>"
      ],
      "text/plain": [
       "| 14080            | 39m 25s      | 70.5%            |"
      ]
     },
     "metadata": {},
     "output_type": "display_data"
    },
    {
     "data": {
      "text/html": [
       "<pre>| 14144            | 40m 8s       | 70.75%           |</pre>"
      ],
      "text/plain": [
       "| 14144            | 40m 8s       | 70.75%           |"
      ]
     },
     "metadata": {},
     "output_type": "display_data"
    },
    {
     "data": {
      "text/html": [
       "<pre>| 14208            | 40m 9s       | 71%              |</pre>"
      ],
      "text/plain": [
       "| 14208            | 40m 9s       | 71%              |"
      ]
     },
     "metadata": {},
     "output_type": "display_data"
    },
    {
     "data": {
      "text/html": [
       "<pre>| 14272            | 40m 10s      | 71.25%           |</pre>"
      ],
      "text/plain": [
       "| 14272            | 40m 10s      | 71.25%           |"
      ]
     },
     "metadata": {},
     "output_type": "display_data"
    },
    {
     "data": {
      "text/html": [
       "<pre>| 14336            | 40m 13s      | 71.75%           |</pre>"
      ],
      "text/plain": [
       "| 14336            | 40m 13s      | 71.75%           |"
      ]
     },
     "metadata": {},
     "output_type": "display_data"
    },
    {
     "data": {
      "text/html": [
       "<pre>| 14400            | 40m 57s      | 72%              |</pre>"
      ],
      "text/plain": [
       "| 14400            | 40m 57s      | 72%              |"
      ]
     },
     "metadata": {},
     "output_type": "display_data"
    },
    {
     "data": {
      "text/html": [
       "<pre>| 14464            | 40m 58s      | 72.25%           |</pre>"
      ],
      "text/plain": [
       "| 14464            | 40m 58s      | 72.25%           |"
      ]
     },
     "metadata": {},
     "output_type": "display_data"
    },
    {
     "data": {
      "text/html": [
       "<pre>| 14528            | 40m 59s      | 72.75%           |</pre>"
      ],
      "text/plain": [
       "| 14528            | 40m 59s      | 72.75%           |"
      ]
     },
     "metadata": {},
     "output_type": "display_data"
    },
    {
     "data": {
      "text/html": [
       "<pre>| 14592            | 41m 1s       | 73%              |</pre>"
      ],
      "text/plain": [
       "| 14592            | 41m 1s       | 73%              |"
      ]
     },
     "metadata": {},
     "output_type": "display_data"
    },
    {
     "data": {
      "text/html": [
       "<pre>| 14656            | 41m 43s      | 73.25%           |</pre>"
      ],
      "text/plain": [
       "| 14656            | 41m 43s      | 73.25%           |"
      ]
     },
     "metadata": {},
     "output_type": "display_data"
    },
    {
     "data": {
      "text/html": [
       "<pre>| 14720            | 41m 44s      | 73.5%            |</pre>"
      ],
      "text/plain": [
       "| 14720            | 41m 44s      | 73.5%            |"
      ]
     },
     "metadata": {},
     "output_type": "display_data"
    },
    {
     "data": {
      "text/html": [
       "<pre>| 14784            | 41m 45s      | 74%              |</pre>"
      ],
      "text/plain": [
       "| 14784            | 41m 45s      | 74%              |"
      ]
     },
     "metadata": {},
     "output_type": "display_data"
    },
    {
     "data": {
      "text/html": [
       "<pre>| 14848            | 41m 47s      | 74.25%           |</pre>"
      ],
      "text/plain": [
       "| 14848            | 41m 47s      | 74.25%           |"
      ]
     },
     "metadata": {},
     "output_type": "display_data"
    },
    {
     "data": {
      "text/html": [
       "<pre>| 14912            | 42m 27s      | 74.5%            |</pre>"
      ],
      "text/plain": [
       "| 14912            | 42m 27s      | 74.5%            |"
      ]
     },
     "metadata": {},
     "output_type": "display_data"
    },
    {
     "data": {
      "text/html": [
       "<pre>| 14976            | 42m 28s      | 75%              |</pre>"
      ],
      "text/plain": [
       "| 14976            | 42m 28s      | 75%              |"
      ]
     },
     "metadata": {},
     "output_type": "display_data"
    },
    {
     "data": {
      "text/html": [
       "<pre>| 15040            | 42m 29s      | 75.25%           |</pre>"
      ],
      "text/plain": [
       "| 15040            | 42m 29s      | 75.25%           |"
      ]
     },
     "metadata": {},
     "output_type": "display_data"
    },
    {
     "data": {
      "text/html": [
       "<pre>| 15104            | 42m 31s      | 75.5%            |</pre>"
      ],
      "text/plain": [
       "| 15104            | 42m 31s      | 75.5%            |"
      ]
     },
     "metadata": {},
     "output_type": "display_data"
    },
    {
     "data": {
      "text/html": [
       "<pre>| 15168            | 43m 11s      | 75.75%           |</pre>"
      ],
      "text/plain": [
       "| 15168            | 43m 11s      | 75.75%           |"
      ]
     },
     "metadata": {},
     "output_type": "display_data"
    },
    {
     "data": {
      "text/html": [
       "<pre>| 15232            | 43m 12s      | 76.25%           |</pre>"
      ],
      "text/plain": [
       "| 15232            | 43m 12s      | 76.25%           |"
      ]
     },
     "metadata": {},
     "output_type": "display_data"
    },
    {
     "data": {
      "text/html": [
       "<pre>| 15296            | 43m 14s      | 76.5%            |</pre>"
      ],
      "text/plain": [
       "| 15296            | 43m 14s      | 76.5%            |"
      ]
     },
     "metadata": {},
     "output_type": "display_data"
    },
    {
     "data": {
      "text/html": [
       "<pre>| 15360            | 43m 16s      | 76.75%           |</pre>"
      ],
      "text/plain": [
       "| 15360            | 43m 16s      | 76.75%           |"
      ]
     },
     "metadata": {},
     "output_type": "display_data"
    },
    {
     "data": {
      "text/html": [
       "<pre>| 15424            | 44m 1s       | 77%              |</pre>"
      ],
      "text/plain": [
       "| 15424            | 44m 1s       | 77%              |"
      ]
     },
     "metadata": {},
     "output_type": "display_data"
    },
    {
     "data": {
      "text/html": [
       "<pre>| 15488            | 44m 2s       | 77.5%            |</pre>"
      ],
      "text/plain": [
       "| 15488            | 44m 2s       | 77.5%            |"
      ]
     },
     "metadata": {},
     "output_type": "display_data"
    },
    {
     "data": {
      "text/html": [
       "<pre>| 15552            | 44m 3s       | 77.75%           |</pre>"
      ],
      "text/plain": [
       "| 15552            | 44m 3s       | 77.75%           |"
      ]
     },
     "metadata": {},
     "output_type": "display_data"
    },
    {
     "data": {
      "text/html": [
       "<pre>| 15616            | 44m 6s       | 78%              |</pre>"
      ],
      "text/plain": [
       "| 15616            | 44m 6s       | 78%              |"
      ]
     },
     "metadata": {},
     "output_type": "display_data"
    },
    {
     "data": {
      "text/html": [
       "<pre>| 15680            | 44m 48s      | 78.5%            |</pre>"
      ],
      "text/plain": [
       "| 15680            | 44m 48s      | 78.5%            |"
      ]
     },
     "metadata": {},
     "output_type": "display_data"
    },
    {
     "data": {
      "text/html": [
       "<pre>| 15744            | 44m 48s      | 78.75%           |</pre>"
      ],
      "text/plain": [
       "| 15744            | 44m 48s      | 78.75%           |"
      ]
     },
     "metadata": {},
     "output_type": "display_data"
    },
    {
     "data": {
      "text/html": [
       "<pre>| 15808            | 44m 50s      | 79%              |</pre>"
      ],
      "text/plain": [
       "| 15808            | 44m 50s      | 79%              |"
      ]
     },
     "metadata": {},
     "output_type": "display_data"
    },
    {
     "data": {
      "text/html": [
       "<pre>| 15872            | 44m 53s      | 79.25%           |</pre>"
      ],
      "text/plain": [
       "| 15872            | 44m 53s      | 79.25%           |"
      ]
     },
     "metadata": {},
     "output_type": "display_data"
    },
    {
     "data": {
      "text/html": [
       "<pre>| 15936            | 45m 31s      | 79.75%           |</pre>"
      ],
      "text/plain": [
       "| 15936            | 45m 31s      | 79.75%           |"
      ]
     },
     "metadata": {},
     "output_type": "display_data"
    },
    {
     "data": {
      "text/html": [
       "<pre>| 16000            | 45m 32s      | 80%              |</pre>"
      ],
      "text/plain": [
       "| 16000            | 45m 32s      | 80%              |"
      ]
     },
     "metadata": {},
     "output_type": "display_data"
    },
    {
     "data": {
      "text/html": [
       "<pre>| 16064            | 45m 33s      | 80.25%           |</pre>"
      ],
      "text/plain": [
       "| 16064            | 45m 33s      | 80.25%           |"
      ]
     },
     "metadata": {},
     "output_type": "display_data"
    },
    {
     "data": {
      "text/html": [
       "<pre>| 16128            | 45m 35s      | 80.75%           |</pre>"
      ],
      "text/plain": [
       "| 16128            | 45m 35s      | 80.75%           |"
      ]
     },
     "metadata": {},
     "output_type": "display_data"
    },
    {
     "data": {
      "text/html": [
       "<pre>| 16192            | 46m 9s       | 81%              |</pre>"
      ],
      "text/plain": [
       "| 16192            | 46m 9s       | 81%              |"
      ]
     },
     "metadata": {},
     "output_type": "display_data"
    },
    {
     "data": {
      "text/html": [
       "<pre>| 16256            | 46m 10s      | 81.25%           |</pre>"
      ],
      "text/plain": [
       "| 16256            | 46m 10s      | 81.25%           |"
      ]
     },
     "metadata": {},
     "output_type": "display_data"
    },
    {
     "data": {
      "text/html": [
       "<pre>| 16320            | 46m 11s      | 81.5%            |</pre>"
      ],
      "text/plain": [
       "| 16320            | 46m 11s      | 81.5%            |"
      ]
     },
     "metadata": {},
     "output_type": "display_data"
    },
    {
     "data": {
      "text/html": [
       "<pre>| 16384            | 46m 13s      | 82%              |</pre>"
      ],
      "text/plain": [
       "| 16384            | 46m 13s      | 82%              |"
      ]
     },
     "metadata": {},
     "output_type": "display_data"
    },
    {
     "data": {
      "text/html": [
       "<pre>| 16448            | 46m 50s      | 82.25%           |</pre>"
      ],
      "text/plain": [
       "| 16448            | 46m 50s      | 82.25%           |"
      ]
     },
     "metadata": {},
     "output_type": "display_data"
    },
    {
     "data": {
      "text/html": [
       "<pre>| 16512            | 46m 52s      | 82.5%            |</pre>"
      ],
      "text/plain": [
       "| 16512            | 46m 52s      | 82.5%            |"
      ]
     },
     "metadata": {},
     "output_type": "display_data"
    },
    {
     "data": {
      "text/html": [
       "<pre>| 16576            | 46m 53s      | 83%              |</pre>"
      ],
      "text/plain": [
       "| 16576            | 46m 53s      | 83%              |"
      ]
     },
     "metadata": {},
     "output_type": "display_data"
    },
    {
     "data": {
      "text/html": [
       "<pre>| 16640            | 46m 55s      | 83.25%           |</pre>"
      ],
      "text/plain": [
       "| 16640            | 46m 55s      | 83.25%           |"
      ]
     },
     "metadata": {},
     "output_type": "display_data"
    },
    {
     "data": {
      "text/html": [
       "<pre>| 16704            | 47m 47s      | 83.5%            |</pre>"
      ],
      "text/plain": [
       "| 16704            | 47m 47s      | 83.5%            |"
      ]
     },
     "metadata": {},
     "output_type": "display_data"
    },
    {
     "data": {
      "text/html": [
       "<pre>| 16768            | 47m 50s      | 83.75%           |</pre>"
      ],
      "text/plain": [
       "| 16768            | 47m 50s      | 83.75%           |"
      ]
     },
     "metadata": {},
     "output_type": "display_data"
    },
    {
     "data": {
      "text/html": [
       "<pre>| 16832            | 47m 51s      | 84.25%           |</pre>"
      ],
      "text/plain": [
       "| 16832            | 47m 51s      | 84.25%           |"
      ]
     },
     "metadata": {},
     "output_type": "display_data"
    },
    {
     "data": {
      "text/html": [
       "<pre>| 16896            | 47m 54s      | 84.5%            |</pre>"
      ],
      "text/plain": [
       "| 16896            | 47m 54s      | 84.5%            |"
      ]
     },
     "metadata": {},
     "output_type": "display_data"
    },
    {
     "data": {
      "text/html": [
       "<pre>| 16960            | 48m 39s      | 84.75%           |</pre>"
      ],
      "text/plain": [
       "| 16960            | 48m 39s      | 84.75%           |"
      ]
     },
     "metadata": {},
     "output_type": "display_data"
    },
    {
     "data": {
      "text/html": [
       "<pre>| 17024            | 48m 40s      | 85.25%           |</pre>"
      ],
      "text/plain": [
       "| 17024            | 48m 40s      | 85.25%           |"
      ]
     },
     "metadata": {},
     "output_type": "display_data"
    },
    {
     "data": {
      "text/html": [
       "<pre>| 17088            | 48m 41s      | 85.5%            |</pre>"
      ],
      "text/plain": [
       "| 17088            | 48m 41s      | 85.5%            |"
      ]
     },
     "metadata": {},
     "output_type": "display_data"
    },
    {
     "data": {
      "text/html": [
       "<pre>| 17152            | 48m 43s      | 85.75%           |</pre>"
      ],
      "text/plain": [
       "| 17152            | 48m 43s      | 85.75%           |"
      ]
     },
     "metadata": {},
     "output_type": "display_data"
    },
    {
     "data": {
      "text/html": [
       "<pre>| 17216            | 49m 17s      | 86%              |</pre>"
      ],
      "text/plain": [
       "| 17216            | 49m 17s      | 86%              |"
      ]
     },
     "metadata": {},
     "output_type": "display_data"
    },
    {
     "data": {
      "text/html": [
       "<pre>| 17280            | 49m 18s      | 86.5%            |</pre>"
      ],
      "text/plain": [
       "| 17280            | 49m 18s      | 86.5%            |"
      ]
     },
     "metadata": {},
     "output_type": "display_data"
    },
    {
     "data": {
      "text/html": [
       "<pre>| 17344            | 49m 19s      | 86.75%           |</pre>"
      ],
      "text/plain": [
       "| 17344            | 49m 19s      | 86.75%           |"
      ]
     },
     "metadata": {},
     "output_type": "display_data"
    },
    {
     "data": {
      "text/html": [
       "<pre>| 17408            | 49m 21s      | 87%              |</pre>"
      ],
      "text/plain": [
       "| 17408            | 49m 21s      | 87%              |"
      ]
     },
     "metadata": {},
     "output_type": "display_data"
    },
    {
     "data": {
      "text/html": [
       "<pre>| 17472            | 49m 55s      | 87.5%            |</pre>"
      ],
      "text/plain": [
       "| 17472            | 49m 55s      | 87.5%            |"
      ]
     },
     "metadata": {},
     "output_type": "display_data"
    },
    {
     "data": {
      "text/html": [
       "<pre>| 17536            | 49m 56s      | 87.75%           |</pre>"
      ],
      "text/plain": [
       "| 17536            | 49m 56s      | 87.75%           |"
      ]
     },
     "metadata": {},
     "output_type": "display_data"
    },
    {
     "data": {
      "text/html": [
       "<pre>| 17600            | 49m 58s      | 88%              |</pre>"
      ],
      "text/plain": [
       "| 17600            | 49m 58s      | 88%              |"
      ]
     },
     "metadata": {},
     "output_type": "display_data"
    },
    {
     "data": {
      "text/html": [
       "<pre>| 17664            | 49m 59s      | 88.25%           |</pre>"
      ],
      "text/plain": [
       "| 17664            | 49m 59s      | 88.25%           |"
      ]
     },
     "metadata": {},
     "output_type": "display_data"
    },
    {
     "data": {
      "text/html": [
       "<pre>| 17728            | 50m 33s      | 88.75%           |</pre>"
      ],
      "text/plain": [
       "| 17728            | 50m 33s      | 88.75%           |"
      ]
     },
     "metadata": {},
     "output_type": "display_data"
    },
    {
     "data": {
      "text/html": [
       "<pre>| 17792            | 50m 34s      | 89%              |</pre>"
      ],
      "text/plain": [
       "| 17792            | 50m 34s      | 89%              |"
      ]
     },
     "metadata": {},
     "output_type": "display_data"
    },
    {
     "data": {
      "text/html": [
       "<pre>| 17856            | 50m 35s      | 89.25%           |</pre>"
      ],
      "text/plain": [
       "| 17856            | 50m 35s      | 89.25%           |"
      ]
     },
     "metadata": {},
     "output_type": "display_data"
    },
    {
     "data": {
      "text/html": [
       "<pre>| 17920            | 50m 37s      | 89.5%            |</pre>"
      ],
      "text/plain": [
       "| 17920            | 50m 37s      | 89.5%            |"
      ]
     },
     "metadata": {},
     "output_type": "display_data"
    },
    {
     "data": {
      "text/html": [
       "<pre>| 17984            | 51m 10s      | 90%              |</pre>"
      ],
      "text/plain": [
       "| 17984            | 51m 10s      | 90%              |"
      ]
     },
     "metadata": {},
     "output_type": "display_data"
    },
    {
     "data": {
      "text/html": [
       "<pre>| 18048            | 51m 11s      | 90.25%           |</pre>"
      ],
      "text/plain": [
       "| 18048            | 51m 11s      | 90.25%           |"
      ]
     },
     "metadata": {},
     "output_type": "display_data"
    },
    {
     "data": {
      "text/html": [
       "<pre>| 18112            | 51m 12s      | 90.5%            |</pre>"
      ],
      "text/plain": [
       "| 18112            | 51m 12s      | 90.5%            |"
      ]
     },
     "metadata": {},
     "output_type": "display_data"
    },
    {
     "data": {
      "text/html": [
       "<pre>| 18176            | 51m 14s      | 91%              |</pre>"
      ],
      "text/plain": [
       "| 18176            | 51m 14s      | 91%              |"
      ]
     },
     "metadata": {},
     "output_type": "display_data"
    },
    {
     "data": {
      "text/html": [
       "<pre>| 18240            | 51m 57s      | 91.25%           |</pre>"
      ],
      "text/plain": [
       "| 18240            | 51m 57s      | 91.25%           |"
      ]
     },
     "metadata": {},
     "output_type": "display_data"
    },
    {
     "data": {
      "text/html": [
       "<pre>| 18304            | 51m 59s      | 91.5%            |</pre>"
      ],
      "text/plain": [
       "| 18304            | 51m 59s      | 91.5%            |"
      ]
     },
     "metadata": {},
     "output_type": "display_data"
    },
    {
     "data": {
      "text/html": [
       "<pre>| 18368            | 52m 0s       | 91.75%           |</pre>"
      ],
      "text/plain": [
       "| 18368            | 52m 0s       | 91.75%           |"
      ]
     },
     "metadata": {},
     "output_type": "display_data"
    },
    {
     "data": {
      "text/html": [
       "<pre>| 18432            | 52m 3s       | 92.25%           |</pre>"
      ],
      "text/plain": [
       "| 18432            | 52m 3s       | 92.25%           |"
      ]
     },
     "metadata": {},
     "output_type": "display_data"
    },
    {
     "data": {
      "text/html": [
       "<pre>| 18496            | 52m 56s      | 92.5%            |</pre>"
      ],
      "text/plain": [
       "| 18496            | 52m 56s      | 92.5%            |"
      ]
     },
     "metadata": {},
     "output_type": "display_data"
    },
    {
     "data": {
      "text/html": [
       "<pre>| 18560            | 52m 58s      | 92.75%           |</pre>"
      ],
      "text/plain": [
       "| 18560            | 52m 58s      | 92.75%           |"
      ]
     },
     "metadata": {},
     "output_type": "display_data"
    },
    {
     "data": {
      "text/html": [
       "<pre>| 18624            | 52m 59s      | 93.25%           |</pre>"
      ],
      "text/plain": [
       "| 18624            | 52m 59s      | 93.25%           |"
      ]
     },
     "metadata": {},
     "output_type": "display_data"
    },
    {
     "data": {
      "text/html": [
       "<pre>| 18688            | 53m 2s       | 93.5%            |</pre>"
      ],
      "text/plain": [
       "| 18688            | 53m 2s       | 93.5%            |"
      ]
     },
     "metadata": {},
     "output_type": "display_data"
    },
    {
     "data": {
      "text/html": [
       "<pre>| 18752            | 53m 44s      | 93.75%           |</pre>"
      ],
      "text/plain": [
       "| 18752            | 53m 44s      | 93.75%           |"
      ]
     },
     "metadata": {},
     "output_type": "display_data"
    },
    {
     "data": {
      "text/html": [
       "<pre>| 18816            | 53m 46s      | 94%              |</pre>"
      ],
      "text/plain": [
       "| 18816            | 53m 46s      | 94%              |"
      ]
     },
     "metadata": {},
     "output_type": "display_data"
    },
    {
     "data": {
      "text/html": [
       "<pre>| 18880            | 53m 47s      | 94.5%            |</pre>"
      ],
      "text/plain": [
       "| 18880            | 53m 47s      | 94.5%            |"
      ]
     },
     "metadata": {},
     "output_type": "display_data"
    },
    {
     "data": {
      "text/html": [
       "<pre>| 18944            | 53m 48s      | 94.75%           |</pre>"
      ],
      "text/plain": [
       "| 18944            | 53m 48s      | 94.75%           |"
      ]
     },
     "metadata": {},
     "output_type": "display_data"
    },
    {
     "data": {
      "text/html": [
       "<pre>| 19008            | 54m 27s      | 95%              |</pre>"
      ],
      "text/plain": [
       "| 19008            | 54m 27s      | 95%              |"
      ]
     },
     "metadata": {},
     "output_type": "display_data"
    },
    {
     "data": {
      "text/html": [
       "<pre>| 19072            | 54m 29s      | 95.5%            |</pre>"
      ],
      "text/plain": [
       "| 19072            | 54m 29s      | 95.5%            |"
      ]
     },
     "metadata": {},
     "output_type": "display_data"
    },
    {
     "data": {
      "text/html": [
       "<pre>| 19136            | 54m 30s      | 95.75%           |</pre>"
      ],
      "text/plain": [
       "| 19136            | 54m 30s      | 95.75%           |"
      ]
     },
     "metadata": {},
     "output_type": "display_data"
    },
    {
     "data": {
      "text/html": [
       "<pre>| 19200            | 54m 30s      | 96%              |</pre>"
      ],
      "text/plain": [
       "| 19200            | 54m 30s      | 96%              |"
      ]
     },
     "metadata": {},
     "output_type": "display_data"
    },
    {
     "data": {
      "text/html": [
       "<pre>| 19264            | 55m 6s       | 96.25%           |</pre>"
      ],
      "text/plain": [
       "| 19264            | 55m 6s       | 96.25%           |"
      ]
     },
     "metadata": {},
     "output_type": "display_data"
    },
    {
     "data": {
      "text/html": [
       "<pre>| 19328            | 55m 8s       | 96.75%           |</pre>"
      ],
      "text/plain": [
       "| 19328            | 55m 8s       | 96.75%           |"
      ]
     },
     "metadata": {},
     "output_type": "display_data"
    },
    {
     "data": {
      "text/html": [
       "<pre>| 19392            | 55m 9s       | 97%              |</pre>"
      ],
      "text/plain": [
       "| 19392            | 55m 9s       | 97%              |"
      ]
     },
     "metadata": {},
     "output_type": "display_data"
    },
    {
     "data": {
      "text/html": [
       "<pre>| 19456            | 55m 10s      | 97.25%           |</pre>"
      ],
      "text/plain": [
       "| 19456            | 55m 10s      | 97.25%           |"
      ]
     },
     "metadata": {},
     "output_type": "display_data"
    },
    {
     "data": {
      "text/html": [
       "<pre>| 19520            | 55m 47s      | 97.75%           |</pre>"
      ],
      "text/plain": [
       "| 19520            | 55m 47s      | 97.75%           |"
      ]
     },
     "metadata": {},
     "output_type": "display_data"
    },
    {
     "data": {
      "text/html": [
       "<pre>| 19584            | 55m 48s      | 98%              |</pre>"
      ],
      "text/plain": [
       "| 19584            | 55m 48s      | 98%              |"
      ]
     },
     "metadata": {},
     "output_type": "display_data"
    },
    {
     "data": {
      "text/html": [
       "<pre>| 19648            | 55m 49s      | 98.25%           |</pre>"
      ],
      "text/plain": [
       "| 19648            | 55m 49s      | 98.25%           |"
      ]
     },
     "metadata": {},
     "output_type": "display_data"
    },
    {
     "data": {
      "text/html": [
       "<pre>| 19712            | 55m 50s      | 98.5%            |</pre>"
      ],
      "text/plain": [
       "| 19712            | 55m 50s      | 98.5%            |"
      ]
     },
     "metadata": {},
     "output_type": "display_data"
    },
    {
     "data": {
      "text/html": [
       "<pre>| 19776            | 55m 56s      | 99%              |</pre>"
      ],
      "text/plain": [
       "| 19776            | 55m 56s      | 99%              |"
      ]
     },
     "metadata": {},
     "output_type": "display_data"
    },
    {
     "data": {
      "text/html": [
       "<pre>| 19840            | 56m 19s      | 99.25%           |</pre>"
      ],
      "text/plain": [
       "| 19840            | 56m 19s      | 99.25%           |"
      ]
     },
     "metadata": {},
     "output_type": "display_data"
    },
    {
     "data": {
      "text/html": [
       "<pre>| 19904            | 56m 20s      | 99.5%            |</pre>"
      ],
      "text/plain": [
       "| 19904            | 56m 20s      | 99.5%            |"
      ]
     },
     "metadata": {},
     "output_type": "display_data"
    },
    {
     "data": {
      "text/html": [
       "<pre>| 19919            | 56m 20s      | 100%             |</pre>"
      ],
      "text/plain": [
       "| 19919            | 56m 20s      | 100%             |"
      ]
     },
     "metadata": {},
     "output_type": "display_data"
    },
    {
     "data": {
      "text/html": [
       "<pre>+------------------+--------------+------------------+</pre>"
      ],
      "text/plain": [
       "+------------------+--------------+------------------+"
      ]
     },
     "metadata": {},
     "output_type": "display_data"
    },
    {
     "name": "stdout",
     "output_type": "stream",
     "text": [
      "PROGRESS: Creating a validation set from 5 percent of training data. This may take a while.\n",
      "          You can set ``validation_set=None`` to disable validation tracking.\n",
      "\n"
     ]
    },
    {
     "data": {
      "text/html": [
       "<pre>Logistic regression:</pre>"
      ],
      "text/plain": [
       "Logistic regression:"
      ]
     },
     "metadata": {},
     "output_type": "display_data"
    },
    {
     "data": {
      "text/html": [
       "<pre>--------------------------------------------------------</pre>"
      ],
      "text/plain": [
       "--------------------------------------------------------"
      ]
     },
     "metadata": {},
     "output_type": "display_data"
    },
    {
     "data": {
      "text/html": [
       "<pre>Number of examples          : 18883</pre>"
      ],
      "text/plain": [
       "Number of examples          : 18883"
      ]
     },
     "metadata": {},
     "output_type": "display_data"
    },
    {
     "data": {
      "text/html": [
       "<pre>Number of classes           : 2</pre>"
      ],
      "text/plain": [
       "Number of classes           : 2"
      ]
     },
     "metadata": {},
     "output_type": "display_data"
    },
    {
     "data": {
      "text/html": [
       "<pre>Number of feature columns   : 1</pre>"
      ],
      "text/plain": [
       "Number of feature columns   : 1"
      ]
     },
     "metadata": {},
     "output_type": "display_data"
    },
    {
     "data": {
      "text/html": [
       "<pre>Number of unpacked features : 2048</pre>"
      ],
      "text/plain": [
       "Number of unpacked features : 2048"
      ]
     },
     "metadata": {},
     "output_type": "display_data"
    },
    {
     "data": {
      "text/html": [
       "<pre>Number of coefficients      : 2049</pre>"
      ],
      "text/plain": [
       "Number of coefficients      : 2049"
      ]
     },
     "metadata": {},
     "output_type": "display_data"
    },
    {
     "data": {
      "text/html": [
       "<pre>Starting L-BFGS</pre>"
      ],
      "text/plain": [
       "Starting L-BFGS"
      ]
     },
     "metadata": {},
     "output_type": "display_data"
    },
    {
     "data": {
      "text/html": [
       "<pre>--------------------------------------------------------</pre>"
      ],
      "text/plain": [
       "--------------------------------------------------------"
      ]
     },
     "metadata": {},
     "output_type": "display_data"
    },
    {
     "data": {
      "text/html": [
       "<pre>+-----------+----------+-----------+--------------+-------------------+---------------------+</pre>"
      ],
      "text/plain": [
       "+-----------+----------+-----------+--------------+-------------------+---------------------+"
      ]
     },
     "metadata": {},
     "output_type": "display_data"
    },
    {
     "data": {
      "text/html": [
       "<pre>| Iteration | Passes   | Step size | Elapsed Time | Training Accuracy | Validation Accuracy |</pre>"
      ],
      "text/plain": [
       "| Iteration | Passes   | Step size | Elapsed Time | Training Accuracy | Validation Accuracy |"
      ]
     },
     "metadata": {},
     "output_type": "display_data"
    },
    {
     "data": {
      "text/html": [
       "<pre>+-----------+----------+-----------+--------------+-------------------+---------------------+</pre>"
      ],
      "text/plain": [
       "+-----------+----------+-----------+--------------+-------------------+---------------------+"
      ]
     },
     "metadata": {},
     "output_type": "display_data"
    },
    {
     "data": {
      "text/html": [
       "<pre>| 0         | 1        | NaN       | 0.704664     | 0.497485          | 0.492278            |</pre>"
      ],
      "text/plain": [
       "| 0         | 1        | NaN       | 0.704664     | 0.497485          | 0.492278            |"
      ]
     },
     "metadata": {},
     "output_type": "display_data"
    },
    {
     "data": {
      "text/html": [
       "<pre>| 1         | 3        | 0.000053  | 2.756032     | 0.981571          | 0.982625            |</pre>"
      ],
      "text/plain": [
       "| 1         | 3        | 0.000053  | 2.756032     | 0.981571          | 0.982625            |"
      ]
     },
     "metadata": {},
     "output_type": "display_data"
    },
    {
     "data": {
      "text/html": [
       "<pre>| 2         | 6        | 0.500000  | 5.391018     | 0.982259          | 0.983591            |</pre>"
      ],
      "text/plain": [
       "| 2         | 6        | 0.500000  | 5.391018     | 0.982259          | 0.983591            |"
      ]
     },
     "metadata": {},
     "output_type": "display_data"
    },
    {
     "data": {
      "text/html": [
       "<pre>| 3         | 7        | 0.500000  | 6.755858     | 0.983265          | 0.984556            |</pre>"
      ],
      "text/plain": [
       "| 3         | 7        | 0.500000  | 6.755858     | 0.983265          | 0.984556            |"
      ]
     },
     "metadata": {},
     "output_type": "display_data"
    },
    {
     "data": {
      "text/html": [
       "<pre>| 4         | 8        | 0.500000  | 8.079314     | 0.983954          | 0.984556            |</pre>"
      ],
      "text/plain": [
       "| 4         | 8        | 0.500000  | 8.079314     | 0.983954          | 0.984556            |"
      ]
     },
     "metadata": {},
     "output_type": "display_data"
    },
    {
     "data": {
      "text/html": [
       "<pre>| 5         | 9        | 0.500000  | 9.443346     | 0.985807          | 0.984556            |</pre>"
      ],
      "text/plain": [
       "| 5         | 9        | 0.500000  | 9.443346     | 0.985807          | 0.984556            |"
      ]
     },
     "metadata": {},
     "output_type": "display_data"
    },
    {
     "data": {
      "text/html": [
       "<pre>| 10        | 15       | 1.000000  | 17.024292    | 0.992215          | 0.992278            |</pre>"
      ],
      "text/plain": [
       "| 10        | 15       | 1.000000  | 17.024292    | 0.992215          | 0.992278            |"
      ]
     },
     "metadata": {},
     "output_type": "display_data"
    },
    {
     "data": {
      "text/html": [
       "<pre>+-----------+----------+-----------+--------------+-------------------+---------------------+</pre>"
      ],
      "text/plain": [
       "+-----------+----------+-----------+--------------+-------------------+---------------------+"
      ]
     },
     "metadata": {},
     "output_type": "display_data"
    },
    {
     "data": {
      "text/html": [
       "<pre>Completed (Iteration limit reached).</pre>"
      ],
      "text/plain": [
       "Completed (Iteration limit reached)."
      ]
     },
     "metadata": {},
     "output_type": "display_data"
    },
    {
     "data": {
      "text/html": [
       "<pre>This model may not be optimal. To improve it, consider increasing `max_iterations`.</pre>"
      ],
      "text/plain": [
       "This model may not be optimal. To improve it, consider increasing `max_iterations`."
      ]
     },
     "metadata": {},
     "output_type": "display_data"
    }
   ],
   "source": [
    "\n",
    "# Load the data\n",
    "data =  tc.SFrame('cats-dogs.sframe')\n",
    "\n",
    "# Make a train-test split\n",
    "train_data, test_data = data.random_split(0.8)\n",
    "\n",
    "# Create the model\n",
    "model = tc.image_classifier.create(train_data, target='label')\n",
    "\n",
    "# Save predictions to an SArray\n",
    "predictions = model.predict(test_data)\n",
    "\n",
    "# Evaluate the model and save the results into a dictionary\n",
    "metrics = model.evaluate(test_data)\n",
    "print(metrics['accuracy'])\n",
    "\n",
    "# Save the model for later use in Turi Create\n",
    "model.save('mymodel.model')\n",
    "\n",
    "# Export for use in Core ML\n",
    "model.export_coreml('MyCustomImageClassifier.mlmodel')"
   ]
  }
 ],
 "metadata": {
  "kernelspec": {
   "display_name": "Python 2",
   "language": "python",
   "name": "python2"
  },
  "language_info": {
   "codemirror_mode": {
    "name": "ipython",
    "version": 2
   },
   "file_extension": ".py",
   "mimetype": "text/x-python",
   "name": "python",
   "nbconvert_exporter": "python",
   "pygments_lexer": "ipython2",
   "version": "2.7.15"
  }
 },
 "nbformat": 4,
 "nbformat_minor": 2
}
