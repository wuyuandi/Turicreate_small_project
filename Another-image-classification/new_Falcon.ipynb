{
 "cells": [
  {
   "cell_type": "code",
   "execution_count": 2,
   "metadata": {},
   "outputs": [
    {
     "data": {
      "text/html": [
       "<pre>Read 769 images in 5.00363 secs\tspeed: 153.688 file/sec</pre>"
      ],
      "text/plain": [
       "Read 769 images in 5.00363 secs\tspeed: 153.688 file/sec"
      ]
     },
     "metadata": {},
     "output_type": "display_data"
    },
    {
     "data": {
      "text/html": [
       "<pre>Read 1224 images in 10.7069 secs\tspeed: 79.7794 file/sec</pre>"
      ],
      "text/plain": [
       "Read 1224 images in 10.7069 secs\tspeed: 79.7794 file/sec"
      ]
     },
     "metadata": {},
     "output_type": "display_data"
    },
    {
     "data": {
      "text/html": [
       "<pre>Read 1748 images in 15.7076 secs\tspeed: 104.785 file/sec</pre>"
      ],
      "text/plain": [
       "Read 1748 images in 15.7076 secs\tspeed: 104.785 file/sec"
      ]
     },
     "metadata": {},
     "output_type": "display_data"
    },
    {
     "data": {
      "text/html": [
       "<pre>Read 2307 images in 20.7084 secs\tspeed: 111.782 file/sec</pre>"
      ],
      "text/plain": [
       "Read 2307 images in 20.7084 secs\tspeed: 111.782 file/sec"
      ]
     },
     "metadata": {},
     "output_type": "display_data"
    },
    {
     "data": {
      "text/html": [
       "<pre>Read 2944 images in 25.7232 secs\tspeed: 127.025 file/sec</pre>"
      ],
      "text/plain": [
       "Read 2944 images in 25.7232 secs\tspeed: 127.025 file/sec"
      ]
     },
     "metadata": {},
     "output_type": "display_data"
    },
    {
     "data": {
      "text/html": [
       "<pre>Materializing SFrame</pre>"
      ],
      "text/plain": [
       "Materializing SFrame"
      ]
     },
     "metadata": {},
     "output_type": "display_data"
    }
   ],
   "source": [
    "import turicreate as tc\n",
    "img_train_folder = 'train'\n",
    "data = tc.image_analysis.load_images(img_train_folder, with_path=True)\n",
    "data['label'] = data['path'].apply(lambda path: '0' if '/0' in path else '1')\n",
    "data\n",
    "\n",
    "data.save('0-1.sframe')\n",
    "data.explore()"
   ]
  },
  {
   "cell_type": "code",
   "execution_count": 3,
   "metadata": {},
   "outputs": [
    {
     "data": {
      "text/html": [
       "<pre>Materializing SFrame</pre>"
      ],
      "text/plain": [
       "Materializing SFrame"
      ]
     },
     "metadata": {},
     "output_type": "display_data"
    }
   ],
   "source": [
    "img_test_folder = 'test'\n",
    "test_data = tc.image_analysis.load_images(img_test_folder, with_path=True)\n",
    "test_data['label'] = test_data['path'].apply(lambda path:'0' if '/t0' in path else '1')\n",
    "test_data\n",
    "\n",
    "test_data.save('test_0-1.sframe')\n",
    "test_data.explore()"
   ]
  },
  {
   "cell_type": "code",
   "execution_count": 4,
   "metadata": {},
   "outputs": [
    {
     "name": "stdout",
     "output_type": "stream",
     "text": [
      "Downloading https://docs-assets.developer.apple.com/turicreate/models/resnet-50-symbol.json\n",
      "Download completed: /var/folders/9n/1wl6bbyd5d15hyw7cg0z6q380000gn/T/model_cache/resnet-50-symbol.json\n",
      "Downloading https://docs-assets.developer.apple.com/turicreate/models/resnet-50-0000.params\n",
      "Download completed: /var/folders/9n/1wl6bbyd5d15hyw7cg0z6q380000gn/T/model_cache/resnet-50-0000.params\n"
     ]
    },
    {
     "data": {
      "text/html": [
       "<pre>Analyzing and extracting image features.</pre>"
      ],
      "text/plain": [
       "Analyzing and extracting image features."
      ]
     },
     "metadata": {},
     "output_type": "display_data"
    },
    {
     "data": {
      "text/html": [
       "<pre>+------------------+--------------+------------------+</pre>"
      ],
      "text/plain": [
       "+------------------+--------------+------------------+"
      ]
     },
     "metadata": {},
     "output_type": "display_data"
    },
    {
     "data": {
      "text/html": [
       "<pre>| Images Processed | Elapsed Time | Percent Complete |</pre>"
      ],
      "text/plain": [
       "| Images Processed | Elapsed Time | Percent Complete |"
      ]
     },
     "metadata": {},
     "output_type": "display_data"
    },
    {
     "data": {
      "text/html": [
       "<pre>+------------------+--------------+------------------+</pre>"
      ],
      "text/plain": [
       "+------------------+--------------+------------------+"
      ]
     },
     "metadata": {},
     "output_type": "display_data"
    },
    {
     "data": {
      "text/html": [
       "<pre>| 64               | 1m 2s        | 2%               |</pre>"
      ],
      "text/plain": [
       "| 64               | 1m 2s        | 2%               |"
      ]
     },
     "metadata": {},
     "output_type": "display_data"
    },
    {
     "data": {
      "text/html": [
       "<pre>| 128              | 1m 3s        | 4%               |</pre>"
      ],
      "text/plain": [
       "| 128              | 1m 3s        | 4%               |"
      ]
     },
     "metadata": {},
     "output_type": "display_data"
    },
    {
     "data": {
      "text/html": [
       "<pre>| 192              | 1m 4s        | 6.25%            |</pre>"
      ],
      "text/plain": [
       "| 192              | 1m 4s        | 6.25%            |"
      ]
     },
     "metadata": {},
     "output_type": "display_data"
    },
    {
     "data": {
      "text/html": [
       "<pre>| 256              | 1m 4s        | 8.25%            |</pre>"
      ],
      "text/plain": [
       "| 256              | 1m 4s        | 8.25%            |"
      ]
     },
     "metadata": {},
     "output_type": "display_data"
    },
    {
     "data": {
      "text/html": [
       "<pre>| 320              | 2m 3s        | 10.25%           |</pre>"
      ],
      "text/plain": [
       "| 320              | 2m 3s        | 10.25%           |"
      ]
     },
     "metadata": {},
     "output_type": "display_data"
    },
    {
     "data": {
      "text/html": [
       "<pre>| 448              | 2m 12s       | 14.5%            |</pre>"
      ],
      "text/plain": [
       "| 448              | 2m 12s       | 14.5%            |"
      ]
     },
     "metadata": {},
     "output_type": "display_data"
    },
    {
     "data": {
      "text/html": [
       "<pre>| 512              | 2m 12s       | 16.5%            |</pre>"
      ],
      "text/plain": [
       "| 512              | 2m 12s       | 16.5%            |"
      ]
     },
     "metadata": {},
     "output_type": "display_data"
    },
    {
     "data": {
      "text/html": [
       "<pre>| 576              | 3m 3s        | 18.75%           |</pre>"
      ],
      "text/plain": [
       "| 576              | 3m 3s        | 18.75%           |"
      ]
     },
     "metadata": {},
     "output_type": "display_data"
    },
    {
     "data": {
      "text/html": [
       "<pre>| 640              | 3m 18s       | 20.75%           |</pre>"
      ],
      "text/plain": [
       "| 640              | 3m 18s       | 20.75%           |"
      ]
     },
     "metadata": {},
     "output_type": "display_data"
    },
    {
     "data": {
      "text/html": [
       "<pre>| 704              | 3m 19s       | 22.75%           |</pre>"
      ],
      "text/plain": [
       "| 704              | 3m 19s       | 22.75%           |"
      ]
     },
     "metadata": {},
     "output_type": "display_data"
    },
    {
     "data": {
      "text/html": [
       "<pre>| 768              | 3m 19s       | 25%              |</pre>"
      ],
      "text/plain": [
       "| 768              | 3m 19s       | 25%              |"
      ]
     },
     "metadata": {},
     "output_type": "display_data"
    },
    {
     "data": {
      "text/html": [
       "<pre>| 832              | 3m 40s       | 27%              |</pre>"
      ],
      "text/plain": [
       "| 832              | 3m 40s       | 27%              |"
      ]
     },
     "metadata": {},
     "output_type": "display_data"
    },
    {
     "data": {
      "text/html": [
       "<pre>| 896              | 4m 21s       | 29%              |</pre>"
      ],
      "text/plain": [
       "| 896              | 4m 21s       | 29%              |"
      ]
     },
     "metadata": {},
     "output_type": "display_data"
    },
    {
     "data": {
      "text/html": [
       "<pre>| 960              | 4m 23s       | 31.25%           |</pre>"
      ],
      "text/plain": [
       "| 960              | 4m 23s       | 31.25%           |"
      ]
     },
     "metadata": {},
     "output_type": "display_data"
    },
    {
     "data": {
      "text/html": [
       "<pre>| 1024             | 4m 24s       | 33.25%           |</pre>"
      ],
      "text/plain": [
       "| 1024             | 4m 24s       | 33.25%           |"
      ]
     },
     "metadata": {},
     "output_type": "display_data"
    },
    {
     "data": {
      "text/html": [
       "<pre>| 1088             | 4m 31s       | 35.25%           |</pre>"
      ],
      "text/plain": [
       "| 1088             | 4m 31s       | 35.25%           |"
      ]
     },
     "metadata": {},
     "output_type": "display_data"
    },
    {
     "data": {
      "text/html": [
       "<pre>| 1152             | 5m 22s       | 37.5%            |</pre>"
      ],
      "text/plain": [
       "| 1152             | 5m 22s       | 37.5%            |"
      ]
     },
     "metadata": {},
     "output_type": "display_data"
    },
    {
     "data": {
      "text/html": [
       "<pre>| 1216             | 5m 30s       | 39.5%            |</pre>"
      ],
      "text/plain": [
       "| 1216             | 5m 30s       | 39.5%            |"
      ]
     },
     "metadata": {},
     "output_type": "display_data"
    },
    {
     "data": {
      "text/html": [
       "<pre>| 1280             | 5m 32s       | 41.5%            |</pre>"
      ],
      "text/plain": [
       "| 1280             | 5m 32s       | 41.5%            |"
      ]
     },
     "metadata": {},
     "output_type": "display_data"
    },
    {
     "data": {
      "text/html": [
       "<pre>| 1344             | 5m 36s       | 43.75%           |</pre>"
      ],
      "text/plain": [
       "| 1344             | 5m 36s       | 43.75%           |"
      ]
     },
     "metadata": {},
     "output_type": "display_data"
    },
    {
     "data": {
      "text/html": [
       "<pre>| 1408             | 6m 12s       | 45.75%           |</pre>"
      ],
      "text/plain": [
       "| 1408             | 6m 12s       | 45.75%           |"
      ]
     },
     "metadata": {},
     "output_type": "display_data"
    },
    {
     "data": {
      "text/html": [
       "<pre>| 1472             | 6m 34s       | 47.75%           |</pre>"
      ],
      "text/plain": [
       "| 1472             | 6m 34s       | 47.75%           |"
      ]
     },
     "metadata": {},
     "output_type": "display_data"
    },
    {
     "data": {
      "text/html": [
       "<pre>| 1536             | 6m 40s       | 50%              |</pre>"
      ],
      "text/plain": [
       "| 1536             | 6m 40s       | 50%              |"
      ]
     },
     "metadata": {},
     "output_type": "display_data"
    },
    {
     "data": {
      "text/html": [
       "<pre>| 1600             | 6m 44s       | 52%              |</pre>"
      ],
      "text/plain": [
       "| 1600             | 6m 44s       | 52%              |"
      ]
     },
     "metadata": {},
     "output_type": "display_data"
    },
    {
     "data": {
      "text/html": [
       "<pre>| 1664             | 7m 3s        | 54%              |</pre>"
      ],
      "text/plain": [
       "| 1664             | 7m 3s        | 54%              |"
      ]
     },
     "metadata": {},
     "output_type": "display_data"
    },
    {
     "data": {
      "text/html": [
       "<pre>| 1728             | 7m 35s       | 56.25%           |</pre>"
      ],
      "text/plain": [
       "| 1728             | 7m 35s       | 56.25%           |"
      ]
     },
     "metadata": {},
     "output_type": "display_data"
    },
    {
     "data": {
      "text/html": [
       "<pre>| 1792             | 7m 47s       | 58.25%           |</pre>"
      ],
      "text/plain": [
       "| 1792             | 7m 47s       | 58.25%           |"
      ]
     },
     "metadata": {},
     "output_type": "display_data"
    },
    {
     "data": {
      "text/html": [
       "<pre>| 1856             | 7m 50s       | 60.25%           |</pre>"
      ],
      "text/plain": [
       "| 1856             | 7m 50s       | 60.25%           |"
      ]
     },
     "metadata": {},
     "output_type": "display_data"
    },
    {
     "data": {
      "text/html": [
       "<pre>| 1920             | 7m 57s       | 62.5%            |</pre>"
      ],
      "text/plain": [
       "| 1920             | 7m 57s       | 62.5%            |"
      ]
     },
     "metadata": {},
     "output_type": "display_data"
    },
    {
     "data": {
      "text/html": [
       "<pre>| 1984             | 8m 23s       | 64.5%            |</pre>"
      ],
      "text/plain": [
       "| 1984             | 8m 23s       | 64.5%            |"
      ]
     },
     "metadata": {},
     "output_type": "display_data"
    },
    {
     "data": {
      "text/html": [
       "<pre>| 2048             | 8m 44s       | 66.5%            |</pre>"
      ],
      "text/plain": [
       "| 2048             | 8m 44s       | 66.5%            |"
      ]
     },
     "metadata": {},
     "output_type": "display_data"
    },
    {
     "data": {
      "text/html": [
       "<pre>| 2112             | 8m 51s       | 68.75%           |</pre>"
      ],
      "text/plain": [
       "| 2112             | 8m 51s       | 68.75%           |"
      ]
     },
     "metadata": {},
     "output_type": "display_data"
    },
    {
     "data": {
      "text/html": [
       "<pre>| 2176             | 8m 55s       | 70.75%           |</pre>"
      ],
      "text/plain": [
       "| 2176             | 8m 55s       | 70.75%           |"
      ]
     },
     "metadata": {},
     "output_type": "display_data"
    },
    {
     "data": {
      "text/html": [
       "<pre>| 2240             | 9m 11s       | 72.75%           |</pre>"
      ],
      "text/plain": [
       "| 2240             | 9m 11s       | 72.75%           |"
      ]
     },
     "metadata": {},
     "output_type": "display_data"
    },
    {
     "data": {
      "text/html": [
       "<pre>| 2304             | 9m 40s       | 75%              |</pre>"
      ],
      "text/plain": [
       "| 2304             | 9m 40s       | 75%              |"
      ]
     },
     "metadata": {},
     "output_type": "display_data"
    },
    {
     "data": {
      "text/html": [
       "<pre>| 2368             | 9m 49s       | 77%              |</pre>"
      ],
      "text/plain": [
       "| 2368             | 9m 49s       | 77%              |"
      ]
     },
     "metadata": {},
     "output_type": "display_data"
    },
    {
     "data": {
      "text/html": [
       "<pre>| 2432             | 9m 52s       | 79%              |</pre>"
      ],
      "text/plain": [
       "| 2432             | 9m 52s       | 79%              |"
      ]
     },
     "metadata": {},
     "output_type": "display_data"
    },
    {
     "data": {
      "text/html": [
       "<pre>| 2496             | 10m 1s       | 81.25%           |</pre>"
      ],
      "text/plain": [
       "| 2496             | 10m 1s       | 81.25%           |"
      ]
     },
     "metadata": {},
     "output_type": "display_data"
    },
    {
     "data": {
      "text/html": [
       "<pre>| 2560             | 10m 25s      | 83.25%           |</pre>"
      ],
      "text/plain": [
       "| 2560             | 10m 25s      | 83.25%           |"
      ]
     },
     "metadata": {},
     "output_type": "display_data"
    },
    {
     "data": {
      "text/html": [
       "<pre>| 2624             | 10m 47s      | 85.25%           |</pre>"
      ],
      "text/plain": [
       "| 2624             | 10m 47s      | 85.25%           |"
      ]
     },
     "metadata": {},
     "output_type": "display_data"
    },
    {
     "data": {
      "text/html": [
       "<pre>| 2688             | 10m 52s      | 87.5%            |</pre>"
      ],
      "text/plain": [
       "| 2688             | 10m 52s      | 87.5%            |"
      ]
     },
     "metadata": {},
     "output_type": "display_data"
    },
    {
     "data": {
      "text/html": [
       "<pre>| 2752             | 11m 0s       | 89.5%            |</pre>"
      ],
      "text/plain": [
       "| 2752             | 11m 0s       | 89.5%            |"
      ]
     },
     "metadata": {},
     "output_type": "display_data"
    },
    {
     "data": {
      "text/html": [
       "<pre>| 2816             | 11m 17s      | 91.5%            |</pre>"
      ],
      "text/plain": [
       "| 2816             | 11m 17s      | 91.5%            |"
      ]
     },
     "metadata": {},
     "output_type": "display_data"
    },
    {
     "data": {
      "text/html": [
       "<pre>| 2880             | 11m 36s      | 93.75%           |</pre>"
      ],
      "text/plain": [
       "| 2880             | 11m 36s      | 93.75%           |"
      ]
     },
     "metadata": {},
     "output_type": "display_data"
    },
    {
     "data": {
      "text/html": [
       "<pre>| 2944             | 11m 40s      | 95.75%           |</pre>"
      ],
      "text/plain": [
       "| 2944             | 11m 40s      | 95.75%           |"
      ]
     },
     "metadata": {},
     "output_type": "display_data"
    },
    {
     "data": {
      "text/html": [
       "<pre>| 3008             | 11m 44s      | 97.75%           |</pre>"
      ],
      "text/plain": [
       "| 3008             | 11m 44s      | 97.75%           |"
      ]
     },
     "metadata": {},
     "output_type": "display_data"
    },
    {
     "data": {
      "text/html": [
       "<pre>| 3058             | 12m 0s       | 100%             |</pre>"
      ],
      "text/plain": [
       "| 3058             | 12m 0s       | 100%             |"
      ]
     },
     "metadata": {},
     "output_type": "display_data"
    },
    {
     "data": {
      "text/html": [
       "<pre>+------------------+--------------+------------------+</pre>"
      ],
      "text/plain": [
       "+------------------+--------------+------------------+"
      ]
     },
     "metadata": {},
     "output_type": "display_data"
    },
    {
     "name": "stdout",
     "output_type": "stream",
     "text": [
      "PROGRESS: Creating a validation set from 5 percent of training data. This may take a while.\n",
      "          You can set ``validation_set=None`` to disable validation tracking.\n",
      "\n"
     ]
    },
    {
     "data": {
      "text/html": [
       "<pre>Logistic regression:</pre>"
      ],
      "text/plain": [
       "Logistic regression:"
      ]
     },
     "metadata": {},
     "output_type": "display_data"
    },
    {
     "data": {
      "text/html": [
       "<pre>--------------------------------------------------------</pre>"
      ],
      "text/plain": [
       "--------------------------------------------------------"
      ]
     },
     "metadata": {},
     "output_type": "display_data"
    },
    {
     "data": {
      "text/html": [
       "<pre>Number of examples          : 2915</pre>"
      ],
      "text/plain": [
       "Number of examples          : 2915"
      ]
     },
     "metadata": {},
     "output_type": "display_data"
    },
    {
     "data": {
      "text/html": [
       "<pre>Number of classes           : 2</pre>"
      ],
      "text/plain": [
       "Number of classes           : 2"
      ]
     },
     "metadata": {},
     "output_type": "display_data"
    },
    {
     "data": {
      "text/html": [
       "<pre>Number of feature columns   : 1</pre>"
      ],
      "text/plain": [
       "Number of feature columns   : 1"
      ]
     },
     "metadata": {},
     "output_type": "display_data"
    },
    {
     "data": {
      "text/html": [
       "<pre>Number of unpacked features : 2048</pre>"
      ],
      "text/plain": [
       "Number of unpacked features : 2048"
      ]
     },
     "metadata": {},
     "output_type": "display_data"
    },
    {
     "data": {
      "text/html": [
       "<pre>Number of coefficients      : 2049</pre>"
      ],
      "text/plain": [
       "Number of coefficients      : 2049"
      ]
     },
     "metadata": {},
     "output_type": "display_data"
    },
    {
     "data": {
      "text/html": [
       "<pre>Starting L-BFGS</pre>"
      ],
      "text/plain": [
       "Starting L-BFGS"
      ]
     },
     "metadata": {},
     "output_type": "display_data"
    },
    {
     "data": {
      "text/html": [
       "<pre>--------------------------------------------------------</pre>"
      ],
      "text/plain": [
       "--------------------------------------------------------"
      ]
     },
     "metadata": {},
     "output_type": "display_data"
    },
    {
     "data": {
      "text/html": [
       "<pre>+-----------+----------+-----------+--------------+-------------------+---------------------+</pre>"
      ],
      "text/plain": [
       "+-----------+----------+-----------+--------------+-------------------+---------------------+"
      ]
     },
     "metadata": {},
     "output_type": "display_data"
    },
    {
     "data": {
      "text/html": [
       "<pre>| Iteration | Passes   | Step size | Elapsed Time | Training Accuracy | Validation Accuracy |</pre>"
      ],
      "text/plain": [
       "| Iteration | Passes   | Step size | Elapsed Time | Training Accuracy | Validation Accuracy |"
      ]
     },
     "metadata": {},
     "output_type": "display_data"
    },
    {
     "data": {
      "text/html": [
       "<pre>+-----------+----------+-----------+--------------+-------------------+---------------------+</pre>"
      ],
      "text/plain": [
       "+-----------+----------+-----------+--------------+-------------------+---------------------+"
      ]
     },
     "metadata": {},
     "output_type": "display_data"
    },
    {
     "data": {
      "text/html": [
       "<pre>| 0         | 1        | NaN       | 0.244735     | 0.607204          | 0.601399            |</pre>"
      ],
      "text/plain": [
       "| 0         | 1        | NaN       | 0.244735     | 0.607204          | 0.601399            |"
      ]
     },
     "metadata": {},
     "output_type": "display_data"
    },
    {
     "data": {
      "text/html": [
       "<pre>| 1         | 7        | 0.000002  | 1.547045     | 0.607204          | 0.601399            |</pre>"
      ],
      "text/plain": [
       "| 1         | 7        | 0.000002  | 1.547045     | 0.607204          | 0.601399            |"
      ]
     },
     "metadata": {},
     "output_type": "display_data"
    },
    {
     "data": {
      "text/html": [
       "<pre>| 2         | 10       | 5.000000  | 2.223010     | 0.875472          | 0.860140            |</pre>"
      ],
      "text/plain": [
       "| 2         | 10       | 5.000000  | 2.223010     | 0.875472          | 0.860140            |"
      ]
     },
     "metadata": {},
     "output_type": "display_data"
    },
    {
     "data": {
      "text/html": [
       "<pre>| 3         | 11       | 5.000000  | 2.640428     | 0.890909          | 0.860140            |</pre>"
      ],
      "text/plain": [
       "| 3         | 11       | 5.000000  | 2.640428     | 0.890909          | 0.860140            |"
      ]
     },
     "metadata": {},
     "output_type": "display_data"
    },
    {
     "data": {
      "text/html": [
       "<pre>| 4         | 12       | 5.000000  | 3.011093     | 0.607204          | 0.601399            |</pre>"
      ],
      "text/plain": [
       "| 4         | 12       | 5.000000  | 3.011093     | 0.607204          | 0.601399            |"
      ]
     },
     "metadata": {},
     "output_type": "display_data"
    },
    {
     "data": {
      "text/html": [
       "<pre>| 5         | 18       | 1.129582  | 4.283512     | 0.876158          | 0.853147            |</pre>"
      ],
      "text/plain": [
       "| 5         | 18       | 1.129582  | 4.283512     | 0.876158          | 0.853147            |"
      ]
     },
     "metadata": {},
     "output_type": "display_data"
    },
    {
     "data": {
      "text/html": [
       "<pre>| 10        | 25       | 1.000000  | 6.907666     | 0.919383          | 0.888112            |</pre>"
      ],
      "text/plain": [
       "| 10        | 25       | 1.000000  | 6.907666     | 0.919383          | 0.888112            |"
      ]
     },
     "metadata": {},
     "output_type": "display_data"
    },
    {
     "data": {
      "text/html": [
       "<pre>| 15        | 30       | 1.000000  | 8.902574     | 0.649057          | 0.615385            |</pre>"
      ],
      "text/plain": [
       "| 15        | 30       | 1.000000  | 8.902574     | 0.649057          | 0.615385            |"
      ]
     },
     "metadata": {},
     "output_type": "display_data"
    },
    {
     "data": {
      "text/html": [
       "<pre>| 20        | 37       | 1.000000  | 11.139973    | 0.960206          | 0.923077            |</pre>"
      ],
      "text/plain": [
       "| 20        | 37       | 1.000000  | 11.139973    | 0.960206          | 0.923077            |"
      ]
     },
     "metadata": {},
     "output_type": "display_data"
    },
    {
     "data": {
      "text/html": [
       "<pre>| 25        | 43       | 1.000000  | 13.316666    | 0.967067          | 0.951049            |</pre>"
      ],
      "text/plain": [
       "| 25        | 43       | 1.000000  | 13.316666    | 0.967067          | 0.951049            |"
      ]
     },
     "metadata": {},
     "output_type": "display_data"
    },
    {
     "data": {
      "text/html": [
       "<pre>| 30        | 49       | 1.000000  | 15.677470    | 0.964322          | 0.937063            |</pre>"
      ],
      "text/plain": [
       "| 30        | 49       | 1.000000  | 15.677470    | 0.964322          | 0.937063            |"
      ]
     },
     "metadata": {},
     "output_type": "display_data"
    },
    {
     "data": {
      "text/html": [
       "<pre>| 35        | 55       | 1.000000  | 17.676194    | 0.983190          | 0.965035            |</pre>"
      ],
      "text/plain": [
       "| 35        | 55       | 1.000000  | 17.676194    | 0.983190          | 0.965035            |"
      ]
     },
     "metadata": {},
     "output_type": "display_data"
    },
    {
     "data": {
      "text/html": [
       "<pre>| 40        | 60       | 1.000000  | 19.769486    | 0.986964          | 0.958042            |</pre>"
      ],
      "text/plain": [
       "| 40        | 60       | 1.000000  | 19.769486    | 0.986964          | 0.958042            |"
      ]
     },
     "metadata": {},
     "output_type": "display_data"
    },
    {
     "data": {
      "text/html": [
       "<pre>| 45        | 65       | 1.000000  | 21.936797    | 0.995883          | 0.965035            |</pre>"
      ],
      "text/plain": [
       "| 45        | 65       | 1.000000  | 21.936797    | 0.995883          | 0.965035            |"
      ]
     },
     "metadata": {},
     "output_type": "display_data"
    },
    {
     "data": {
      "text/html": [
       "<pre>| 50        | 71       | 1.000000  | 23.991252    | 0.987650          | 0.951049            |</pre>"
      ],
      "text/plain": [
       "| 50        | 71       | 1.000000  | 23.991252    | 0.987650          | 0.951049            |"
      ]
     },
     "metadata": {},
     "output_type": "display_data"
    },
    {
     "data": {
      "text/html": [
       "<pre>+-----------+----------+-----------+--------------+-------------------+---------------------+</pre>"
      ],
      "text/plain": [
       "+-----------+----------+-----------+--------------+-------------------+---------------------+"
      ]
     },
     "metadata": {},
     "output_type": "display_data"
    },
    {
     "data": {
      "text/html": [
       "<pre>Completed (Iteration limit reached).</pre>"
      ],
      "text/plain": [
       "Completed (Iteration limit reached)."
      ]
     },
     "metadata": {},
     "output_type": "display_data"
    },
    {
     "data": {
      "text/html": [
       "<pre>This model may not be optimal. To improve it, consider increasing `max_iterations`.</pre>"
      ],
      "text/plain": [
       "This model may not be optimal. To improve it, consider increasing `max_iterations`."
      ]
     },
     "metadata": {},
     "output_type": "display_data"
    },
    {
     "data": {
      "text/html": [
       "<pre>Analyzing and extracting image features.</pre>"
      ],
      "text/plain": [
       "Analyzing and extracting image features."
      ]
     },
     "metadata": {},
     "output_type": "display_data"
    },
    {
     "data": {
      "text/html": [
       "<pre>+------------------+--------------+------------------+</pre>"
      ],
      "text/plain": [
       "+------------------+--------------+------------------+"
      ]
     },
     "metadata": {},
     "output_type": "display_data"
    },
    {
     "data": {
      "text/html": [
       "<pre>| Images Processed | Elapsed Time | Percent Complete |</pre>"
      ],
      "text/plain": [
       "| Images Processed | Elapsed Time | Percent Complete |"
      ]
     },
     "metadata": {},
     "output_type": "display_data"
    },
    {
     "data": {
      "text/html": [
       "<pre>+------------------+--------------+------------------+</pre>"
      ],
      "text/plain": [
       "+------------------+--------------+------------------+"
      ]
     },
     "metadata": {},
     "output_type": "display_data"
    },
    {
     "data": {
      "text/html": [
       "<pre>| 64               | 59.79s       | 10%              |</pre>"
      ],
      "text/plain": [
       "| 64               | 59.79s       | 10%              |"
      ]
     },
     "metadata": {},
     "output_type": "display_data"
    },
    {
     "data": {
      "text/html": [
       "<pre>| 128              | 1m 0s        | 20%              |</pre>"
      ],
      "text/plain": [
       "| 128              | 1m 0s        | 20%              |"
      ]
     },
     "metadata": {},
     "output_type": "display_data"
    },
    {
     "data": {
      "text/html": [
       "<pre>| 192              | 1m 3s        | 30%              |</pre>"
      ],
      "text/plain": [
       "| 192              | 1m 3s        | 30%              |"
      ]
     },
     "metadata": {},
     "output_type": "display_data"
    },
    {
     "data": {
      "text/html": [
       "<pre>| 256              | 1m 4s        | 40%              |</pre>"
      ],
      "text/plain": [
       "| 256              | 1m 4s        | 40%              |"
      ]
     },
     "metadata": {},
     "output_type": "display_data"
    },
    {
     "data": {
      "text/html": [
       "<pre>| 320              | 1m 56s       | 50%              |</pre>"
      ],
      "text/plain": [
       "| 320              | 1m 56s       | 50%              |"
      ]
     },
     "metadata": {},
     "output_type": "display_data"
    },
    {
     "data": {
      "text/html": [
       "<pre>| 448              | 2m 2s        | 70%              |</pre>"
      ],
      "text/plain": [
       "| 448              | 2m 2s        | 70%              |"
      ]
     },
     "metadata": {},
     "output_type": "display_data"
    },
    {
     "data": {
      "text/html": [
       "<pre>| 512              | 2m 2s        | 80%              |</pre>"
      ],
      "text/plain": [
       "| 512              | 2m 2s        | 80%              |"
      ]
     },
     "metadata": {},
     "output_type": "display_data"
    },
    {
     "data": {
      "text/html": [
       "<pre>| 576              | 2m 20s       | 90%              |</pre>"
      ],
      "text/plain": [
       "| 576              | 2m 20s       | 90%              |"
      ]
     },
     "metadata": {},
     "output_type": "display_data"
    },
    {
     "data": {
      "text/html": [
       "<pre>| 612              | 2m 24s       | 100%             |</pre>"
      ],
      "text/plain": [
       "| 612              | 2m 24s       | 100%             |"
      ]
     },
     "metadata": {},
     "output_type": "display_data"
    },
    {
     "data": {
      "text/html": [
       "<pre>+------------------+--------------+------------------+</pre>"
      ],
      "text/plain": [
       "+------------------+--------------+------------------+"
      ]
     },
     "metadata": {},
     "output_type": "display_data"
    },
    {
     "name": "stdout",
     "output_type": "stream",
     "text": [
      "0.975490196078\n",
      "check wrong prediction\n"
     ]
    },
    {
     "data": {
      "text/html": [
       "<div style=\"max-height:1000px;max-width:1500px;overflow:auto;\"><table frame=\"box\" rules=\"cols\">\n",
       "    <tr>\n",
       "        <th style=\"padding-left: 1em; padding-right: 1em; text-align: center\">path</th>\n",
       "        <th style=\"padding-left: 1em; padding-right: 1em; text-align: center\">image</th>\n",
       "        <th style=\"padding-left: 1em; padding-right: 1em; text-align: center\">label</th>\n",
       "    </tr>\n",
       "    <tr>\n",
       "        <td style=\"padding-left: 1em; padding-right: 1em; text-align: center; vertical-align: top\">test/t0/2013-07-24<br>22-37-52 M 01_01.JPG ...</td>\n",
       "        <td style=\"padding-left: 1em; padding-right: 1em; text-align: center; vertical-align: top\">Height: 1536 Width: 2048</td>\n",
       "        <td style=\"padding-left: 1em; padding-right: 1em; text-align: center; vertical-align: top\">0</td>\n",
       "    </tr>\n",
       "    <tr>\n",
       "        <td style=\"padding-left: 1em; padding-right: 1em; text-align: center; vertical-align: top\">test/t0/2013-07-24<br>22-53-55 M 01_01.JPG ...</td>\n",
       "        <td style=\"padding-left: 1em; padding-right: 1em; text-align: center; vertical-align: top\">Height: 1536 Width: 2048</td>\n",
       "        <td style=\"padding-left: 1em; padding-right: 1em; text-align: center; vertical-align: top\">0</td>\n",
       "    </tr>\n",
       "    <tr>\n",
       "        <td style=\"padding-left: 1em; padding-right: 1em; text-align: center; vertical-align: top\">test/t0/2013-07-25<br>20-04-03 M 01_01.JPG ...</td>\n",
       "        <td style=\"padding-left: 1em; padding-right: 1em; text-align: center; vertical-align: top\">Height: 1536 Width: 2048</td>\n",
       "        <td style=\"padding-left: 1em; padding-right: 1em; text-align: center; vertical-align: top\">0</td>\n",
       "    </tr>\n",
       "    <tr>\n",
       "        <td style=\"padding-left: 1em; padding-right: 1em; text-align: center; vertical-align: top\">test/t0/2013-07-25<br>20-16-43 M 01_01.JPG ...</td>\n",
       "        <td style=\"padding-left: 1em; padding-right: 1em; text-align: center; vertical-align: top\">Height: 1536 Width: 2048</td>\n",
       "        <td style=\"padding-left: 1em; padding-right: 1em; text-align: center; vertical-align: top\">0</td>\n",
       "    </tr>\n",
       "    <tr>\n",
       "        <td style=\"padding-left: 1em; padding-right: 1em; text-align: center; vertical-align: top\">test/t0/2013-07-25<br>20-16-58 M 01_01.JPG ...</td>\n",
       "        <td style=\"padding-left: 1em; padding-right: 1em; text-align: center; vertical-align: top\">Height: 1536 Width: 2048</td>\n",
       "        <td style=\"padding-left: 1em; padding-right: 1em; text-align: center; vertical-align: top\">0</td>\n",
       "    </tr>\n",
       "    <tr>\n",
       "        <td style=\"padding-left: 1em; padding-right: 1em; text-align: center; vertical-align: top\">test/t0/2013-07-25<br>20-17-28 M 01_01.JPG ...</td>\n",
       "        <td style=\"padding-left: 1em; padding-right: 1em; text-align: center; vertical-align: top\">Height: 1536 Width: 2048</td>\n",
       "        <td style=\"padding-left: 1em; padding-right: 1em; text-align: center; vertical-align: top\">0</td>\n",
       "    </tr>\n",
       "    <tr>\n",
       "        <td style=\"padding-left: 1em; padding-right: 1em; text-align: center; vertical-align: top\">test/t0/2013-07-25<br>20-17-48 M 01_01.JPG ...</td>\n",
       "        <td style=\"padding-left: 1em; padding-right: 1em; text-align: center; vertical-align: top\">Height: 1536 Width: 2048</td>\n",
       "        <td style=\"padding-left: 1em; padding-right: 1em; text-align: center; vertical-align: top\">0</td>\n",
       "    </tr>\n",
       "    <tr>\n",
       "        <td style=\"padding-left: 1em; padding-right: 1em; text-align: center; vertical-align: top\">test/t0/2013-07-25<br>20-17-59 M 01_01.JPG ...</td>\n",
       "        <td style=\"padding-left: 1em; padding-right: 1em; text-align: center; vertical-align: top\">Height: 1536 Width: 2048</td>\n",
       "        <td style=\"padding-left: 1em; padding-right: 1em; text-align: center; vertical-align: top\">0</td>\n",
       "    </tr>\n",
       "    <tr>\n",
       "        <td style=\"padding-left: 1em; padding-right: 1em; text-align: center; vertical-align: top\">test/t0/2013-07-26<br>16-13-40 M 01_01.JPG ...</td>\n",
       "        <td style=\"padding-left: 1em; padding-right: 1em; text-align: center; vertical-align: top\">Height: 1536 Width: 2048</td>\n",
       "        <td style=\"padding-left: 1em; padding-right: 1em; text-align: center; vertical-align: top\">0</td>\n",
       "    </tr>\n",
       "    <tr>\n",
       "        <td style=\"padding-left: 1em; padding-right: 1em; text-align: center; vertical-align: top\">test/t0/2013-07-26<br>16-13-46 M 01_01.JPG ...</td>\n",
       "        <td style=\"padding-left: 1em; padding-right: 1em; text-align: center; vertical-align: top\">Height: 1536 Width: 2048</td>\n",
       "        <td style=\"padding-left: 1em; padding-right: 1em; text-align: center; vertical-align: top\">0</td>\n",
       "    </tr>\n",
       "</table>\n",
       "[15 rows x 3 columns]<br/>Note: Only the head of the SFrame is printed.<br/>You can use print_rows(num_rows=m, num_columns=n) to print more rows and columns.\n",
       "</div>"
      ],
      "text/plain": [
       "Columns:\n",
       "\tpath\tstr\n",
       "\timage\tImage\n",
       "\tlabel\tstr\n",
       "\n",
       "Rows: 15\n",
       "\n",
       "Data:\n",
       "+-------------------------------+--------------------------+-------+\n",
       "|              path             |          image           | label |\n",
       "+-------------------------------+--------------------------+-------+\n",
       "| test/t0/2013-07-24 22-37-5... | Height: 1536 Width: 2048 |   0   |\n",
       "| test/t0/2013-07-24 22-53-5... | Height: 1536 Width: 2048 |   0   |\n",
       "| test/t0/2013-07-25 20-04-0... | Height: 1536 Width: 2048 |   0   |\n",
       "| test/t0/2013-07-25 20-16-4... | Height: 1536 Width: 2048 |   0   |\n",
       "| test/t0/2013-07-25 20-16-5... | Height: 1536 Width: 2048 |   0   |\n",
       "| test/t0/2013-07-25 20-17-2... | Height: 1536 Width: 2048 |   0   |\n",
       "| test/t0/2013-07-25 20-17-4... | Height: 1536 Width: 2048 |   0   |\n",
       "| test/t0/2013-07-25 20-17-5... | Height: 1536 Width: 2048 |   0   |\n",
       "| test/t0/2013-07-26 16-13-4... | Height: 1536 Width: 2048 |   0   |\n",
       "| test/t0/2013-07-26 16-13-4... | Height: 1536 Width: 2048 |   0   |\n",
       "+-------------------------------+--------------------------+-------+\n",
       "[15 rows x 3 columns]\n",
       "Note: Only the head of the SFrame is printed.\n",
       "You can use print_rows(num_rows=m, num_columns=n) to print more rows and columns."
      ]
     },
     "execution_count": 4,
     "metadata": {},
     "output_type": "execute_result"
    }
   ],
   "source": [
    "model = tc.image_classifier.create(data, target='label',max_iterations=50)\n",
    "predictions = model.predict(test_data)\n",
    "metrics = model.evaluate(test_data)\n",
    "print(metrics['accuracy'])\n",
    "print('check wrong prediction')\n",
    "test_data[test_data['label']!=predictions]"
   ]
  }
 ],
 "metadata": {
  "kernelspec": {
   "display_name": "Python 2",
   "language": "python",
   "name": "python2"
  },
  "language_info": {
   "codemirror_mode": {
    "name": "ipython",
    "version": 2
   },
   "file_extension": ".py",
   "mimetype": "text/x-python",
   "name": "python",
   "nbconvert_exporter": "python",
   "pygments_lexer": "ipython2",
   "version": "2.7.15"
  }
 },
 "nbformat": 4,
 "nbformat_minor": 2
}
